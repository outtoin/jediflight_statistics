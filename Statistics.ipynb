{
 "cells": [
  {
   "cell_type": "code",
   "execution_count": 28,
   "metadata": {},
   "outputs": [],
   "source": [
    "from scipy import stats\n",
    "from statsmodels.stats.multicomp import pairwise_tukeyhsd, MultiComparison\n",
    "import statsmodels.api as sm\n",
    "import statsmodels.formula.api as smf\n",
    "import statsmodels.stats as ss\n",
    "import numpy as np\n",
    "import pandas as pd\n",
    "\n",
    "import matplotlib.pyplot as plt\n",
    "import seaborn as sns\n",
    "\n",
    "import random\n",
    "\n",
    "%matplotlib inline"
   ]
  },
  {
   "cell_type": "code",
   "execution_count": 4,
   "metadata": {
    "collapsed": true
   },
   "outputs": [],
   "source": [
    "np.random.seed(1)"
   ]
  },
  {
   "cell_type": "markdown",
   "metadata": {},
   "source": [
    "### 1-Sample T-test"
   ]
  },
  {
   "cell_type": "code",
   "execution_count": 5,
   "metadata": {
    "collapsed": true
   },
   "outputs": [],
   "source": [
    "heights = [180 + np.random.normal(0, 5) for _ in range(20)]\n",
    "\n",
    "tTestResult = stats.ttest_1samp(heights, 175)"
   ]
  },
  {
   "cell_type": "code",
   "execution_count": 6,
   "metadata": {},
   "outputs": [
    {
     "name": "stdout",
     "output_type": "stream",
     "text": [
      "The T-statistic is 3.435 and the p-value is 0.003\n"
     ]
    }
   ],
   "source": [
    "print(\"The T-statistic is %.3f and the p-value is %.3f\" % tTestResult)"
   ]
  },
  {
   "cell_type": "markdown",
   "metadata": {},
   "source": [
    "### Unpaired T-test"
   ]
  },
  {
   "cell_type": "code",
   "execution_count": 7,
   "metadata": {},
   "outputs": [
    {
     "name": "stdout",
     "output_type": "stream",
     "text": [
      "The T-statistic and p-value between 1 and 2 assuming equal variances is -3.503 and 0.001\n",
      "The T-statistic and p-value between 1 and 2 not assuming equal variances is -3.503 and 0.002\n",
      "The T-statistic and p-value between 1 and 3 assuming equal variances is -0.379 and 0.707\n",
      "The T-statistic and p-value between 1 and 3 not assuming equal variances is -0.379 and 0.708\n"
     ]
    }
   ],
   "source": [
    "group1height = [170 + np.random.normal(0, 5) for _ in range(20)]\n",
    "group2height = [175 + np.random.normal(0, 10) for _ in range(20)]\n",
    "group3height = [169 + np.random.normal(0, 10) for _ in range(20)]\n",
    "\n",
    "tTestResult12 = stats.ttest_ind(group1height, group2height)\n",
    "tTestResult12DiffVar = stats.ttest_ind(group1height, group2height, equal_var=False)\n",
    "\n",
    "tTestResult13 = stats.ttest_ind(group1height, group3height)\n",
    "tTestResult13DiffVar = stats.ttest_ind(group1height, group3height, equal_var=False)\n",
    "\n",
    "print(\"The T-statistic and p-value between 1 and 2 assuming equal variances is %.3f and %.3f\" % tTestResult12)\n",
    "print(\"The T-statistic and p-value between 1 and 2 not assuming equal variances is %.3f and %.3f\" % tTestResult12DiffVar)\n",
    "\n",
    "print(\"The T-statistic and p-value between 1 and 3 assuming equal variances is %.3f and %.3f\" % tTestResult13)\n",
    "print(\"The T-statistic and p-value between 1 and 3 not assuming equal variances is %.3f and %.3f\" % tTestResult13DiffVar)"
   ]
  },
  {
   "cell_type": "code",
   "execution_count": 8,
   "metadata": {},
   "outputs": [
    {
     "name": "stdout",
     "output_type": "stream",
     "text": [
      "169.77084343661494\n",
      "177.04138953895512\n",
      "170.73085775362398\n"
     ]
    }
   ],
   "source": [
    "print(np.mean(group1height))\n",
    "print(np.mean(group2height))\n",
    "print(np.mean(group3height))"
   ]
  },
  {
   "cell_type": "markdown",
   "metadata": {},
   "source": [
    "### Paired T-test"
   ]
  },
  {
   "cell_type": "code",
   "execution_count": 9,
   "metadata": {},
   "outputs": [
    {
     "name": "stdout",
     "output_type": "stream",
     "text": [
      "The T-statistic is -4.739 and the p-value is 0.000\n"
     ]
    }
   ],
   "source": [
    "beforeheights = [160 + np.random.normal(0, 5) for _ in range(20)]\n",
    "afterheights = [h * np.random.normal(1.02, 0.02) for h in beforeheights]\n",
    "\n",
    "tTestResult = stats.ttest_rel(beforeheights, afterheights)\n",
    "\n",
    "print(\"The T-statistic is %.3f and the p-value is %.3f\" % tTestResult)"
   ]
  },
  {
   "cell_type": "code",
   "execution_count": 10,
   "metadata": {},
   "outputs": [
    {
     "name": "stdout",
     "output_type": "stream",
     "text": [
      "160.52442740129166\n",
      "163.44084373279986\n"
     ]
    }
   ],
   "source": [
    "print(np.mean(beforeheights))\n",
    "print(np.mean(afterheights))"
   ]
  },
  {
   "cell_type": "markdown",
   "metadata": {
    "collapsed": true
   },
   "source": [
    "### One-way ANOVA"
   ]
  },
  {
   "cell_type": "code",
   "execution_count": 11,
   "metadata": {},
   "outputs": [
    {
     "name": "stdout",
     "output_type": "stream",
     "text": [
      "The One-way ANOVA: f-value is 10.853 and the p_value is 0.000\n"
     ]
    }
   ],
   "source": [
    "krweights = [60 + np.random.normal(0, 10) for _ in range(100)]\n",
    "jpweights = [64 + np.random.normal(0, 10) for _ in range(100)]\n",
    "chweights = [70 + np.random.normal(0, 12) for _ in range(100)]\n",
    "\n",
    "owANOVAresult = stats.f_oneway(krweights, jpweights, chweights)\n",
    "\n",
    "print(\"The One-way ANOVA: f-value is %.3f and the p_value is %.3f\" % owANOVAresult)"
   ]
  },
  {
   "cell_type": "code",
   "execution_count": 12,
   "metadata": {
    "collapsed": true
   },
   "outputs": [],
   "source": [
    "re = np.append(krweights, [jpweights, chweights])\n",
    "re_label = np.append(['korea' for _ in range(100)], [['japan' for _ in range(100)], ['china' for _ in range(100)]])"
   ]
  },
  {
   "cell_type": "code",
   "execution_count": 13,
   "metadata": {},
   "outputs": [
    {
     "data": {
      "text/html": [
       "<table class=\"simpletable\">\n",
       "<caption>Multiple Comparison of Means - Tukey HSD,FWER=0.05</caption>\n",
       "<tr>\n",
       "  <th>group1</th> <th>group2</th> <th>meandiff</th>   <th>lower</th>   <th>upper</th>  <th>reject</th>\n",
       "</tr>\n",
       "<tr>\n",
       "   <td>china</td>  <td>japan</td>  <td>-3.9463</td>  <td>-7.6668</td> <td>-0.2257</td>  <td>True</td> \n",
       "</tr>\n",
       "<tr>\n",
       "   <td>china</td>  <td>korea</td>  <td>-7.3517</td> <td>-11.0723</td> <td>-3.6312</td>  <td>True</td> \n",
       "</tr>\n",
       "<tr>\n",
       "   <td>japan</td>  <td>korea</td>  <td>-3.4055</td>  <td>-7.126</td>  <td>0.3151</td>   <td>False</td>\n",
       "</tr>\n",
       "</table>"
      ],
      "text/plain": [
       "<class 'statsmodels.iolib.table.SimpleTable'>"
      ]
     },
     "execution_count": 13,
     "metadata": {},
     "output_type": "execute_result"
    }
   ],
   "source": [
    "res = pairwise_tukeyhsd(re, re_label)\n",
    "res.summary()"
   ]
  },
  {
   "cell_type": "code",
   "execution_count": 14,
   "metadata": {},
   "outputs": [
    {
     "data": {
      "image/png": "[encoded data removed]",
      "text/plain": [
       "<matplotlib.figure.Figure at 0x1d1962cba58>"
      ]
     },
     "execution_count": 14,
     "metadata": {},
     "output_type": "execute_result"
    },
    {
     "data": {
      "image/png": "[encoded data removed]",
      "text/plain": [
       "<matplotlib.figure.Figure at 0x1d1962cba58>"
      ]
     },
     "metadata": {},
     "output_type": "display_data"
    }
   ],
   "source": [
    "res.plot_simultaneous()"
   ]
  },
  {
   "cell_type": "code",
   "execution_count": 15,
   "metadata": {},
   "outputs": [
    {
     "data": {
      "text/html": [
       "<table class=\"simpletable\">\n",
       "<caption>Multiple Comparison of Means - Tukey HSD,FWER=0.01</caption>\n",
       "<tr>\n",
       "  <th>group1</th> <th>group2</th> <th>meandiff</th>  <th>lower</th>   <th>upper</th>  <th>reject</th>\n",
       "</tr>\n",
       "<tr>\n",
       "   <td>china</td>  <td>japan</td>  <td>-3.9463</td> <td>-8.5835</td>  <td>0.691</td>   <td>False</td>\n",
       "</tr>\n",
       "<tr>\n",
       "   <td>china</td>  <td>korea</td>  <td>-7.3517</td> <td>-11.989</td> <td>-2.7145</td>  <td>True</td> \n",
       "</tr>\n",
       "<tr>\n",
       "   <td>japan</td>  <td>korea</td>  <td>-3.4055</td> <td>-8.0427</td> <td>1.2318</td>   <td>False</td>\n",
       "</tr>\n",
       "</table>"
      ],
      "text/plain": [
       "<class 'statsmodels.iolib.table.SimpleTable'>"
      ]
     },
     "execution_count": 15,
     "metadata": {},
     "output_type": "execute_result"
    }
   ],
   "source": [
    "mod = MultiComparison(re, re_label)\n",
    "results = mod.tukeyhsd(0.01)\n",
    "results.summary()"
   ]
  },
  {
   "cell_type": "code",
   "execution_count": 16,
   "metadata": {},
   "outputs": [
    {
     "data": {
      "image/png": "[encoded data removed]",
      "text/plain": [
       "<matplotlib.figure.Figure at 0x1d1962cb198>"
      ]
     },
     "execution_count": 16,
     "metadata": {},
     "output_type": "execute_result"
    },
    {
     "data": {
      "image/png": "[encoded data removed]",
      "text/plain": [
       "<matplotlib.figure.Figure at 0x1d1962cb198>"
      ]
     },
     "metadata": {},
     "output_type": "display_data"
    }
   ],
   "source": [
    "results.plot_simultaneous()"
   ]
  },
  {
   "cell_type": "markdown",
   "metadata": {},
   "source": [
    "### Two-way ANOVA"
   ]
  },
  {
   "cell_type": "code",
   "execution_count": 32,
   "metadata": {
    "scrolled": false
   },
   "outputs": [
    {
     "data": {
      "text/html": [
       "<div>\n",
       "<style>\n",
       "    .dataframe thead tr:only-child th {\n",
       "        text-align: right;\n",
       "    }\n",
       "\n",
       "    .dataframe thead th {\n",
       "        text-align: left;\n",
       "    }\n",
       "\n",
       "    .dataframe tbody tr th {\n",
       "        vertical-align: top;\n",
       "    }\n",
       "</style>\n",
       "<table border=\"1\" class=\"dataframe\">\n",
       "  <thead>\n",
       "    <tr style=\"text-align: right;\">\n",
       "      <th></th>\n",
       "      <th>sex</th>\n",
       "      <th>country</th>\n",
       "      <th>weight</th>\n",
       "    </tr>\n",
       "  </thead>\n",
       "  <tbody>\n",
       "    <tr>\n",
       "      <th>0</th>\n",
       "      <td>1</td>\n",
       "      <td>korea</td>\n",
       "      <td>28.8</td>\n",
       "    </tr>\n",
       "    <tr>\n",
       "      <th>1</th>\n",
       "      <td>2</td>\n",
       "      <td>korea</td>\n",
       "      <td>74.2</td>\n",
       "    </tr>\n",
       "    <tr>\n",
       "      <th>2</th>\n",
       "      <td>1</td>\n",
       "      <td>korea</td>\n",
       "      <td>52.4</td>\n",
       "    </tr>\n",
       "    <tr>\n",
       "      <th>3</th>\n",
       "      <td>2</td>\n",
       "      <td>japan</td>\n",
       "      <td>60.3</td>\n",
       "    </tr>\n",
       "    <tr>\n",
       "      <th>4</th>\n",
       "      <td>1</td>\n",
       "      <td>korea</td>\n",
       "      <td>40.9</td>\n",
       "    </tr>\n",
       "  </tbody>\n",
       "</table>\n",
       "</div>"
      ],
      "text/plain": [
       "   sex country  weight\n",
       "0    1   korea    28.8\n",
       "1    2   korea    74.2\n",
       "2    1   korea    52.4\n",
       "3    2   japan    60.3\n",
       "4    1   korea    40.9"
      ]
     },
     "execution_count": 32,
     "metadata": {},
     "output_type": "execute_result"
    }
   ],
   "source": [
    "sex = pd.DataFrame([round(random.random()) + 1 for _ in range(100)], columns=['sex'])\n",
    "country = pd.DataFrame([round(random.random() * 2) for _ in range(100)], columns=['country'])\n",
    "country = country.replace({0: 'korea', 1: 'japan', 2: 'china'})\n",
    "weight = pd.DataFrame([round(60 + np.random.normal(0, 15) ,1) for _ in range(100)], columns=['weight'])\n",
    "\n",
    "data = pd.concat([sex, country, weight], axis=1)\n",
    "data.head()"
   ]
  },
  {
   "cell_type": "code",
   "execution_count": 33,
   "metadata": {},
   "outputs": [
    {
     "data": {
      "text/html": [
       "<div>\n",
       "<style>\n",
       "    .dataframe thead tr:only-child th {\n",
       "        text-align: right;\n",
       "    }\n",
       "\n",
       "    .dataframe thead th {\n",
       "        text-align: left;\n",
       "    }\n",
       "\n",
       "    .dataframe tbody tr th {\n",
       "        vertical-align: top;\n",
       "    }\n",
       "</style>\n",
       "<table border=\"1\" class=\"dataframe\">\n",
       "  <thead>\n",
       "    <tr style=\"text-align: right;\">\n",
       "      <th></th>\n",
       "      <th>len</th>\n",
       "      <th>supp</th>\n",
       "      <th>dose</th>\n",
       "    </tr>\n",
       "  </thead>\n",
       "  <tbody>\n",
       "    <tr>\n",
       "      <th>0</th>\n",
       "      <td>4.2</td>\n",
       "      <td>VC</td>\n",
       "      <td>0.5</td>\n",
       "    </tr>\n",
       "    <tr>\n",
       "      <th>1</th>\n",
       "      <td>11.5</td>\n",
       "      <td>VC</td>\n",
       "      <td>0.5</td>\n",
       "    </tr>\n",
       "    <tr>\n",
       "      <th>2</th>\n",
       "      <td>7.3</td>\n",
       "      <td>VC</td>\n",
       "      <td>0.5</td>\n",
       "    </tr>\n",
       "    <tr>\n",
       "      <th>3</th>\n",
       "      <td>5.8</td>\n",
       "      <td>VC</td>\n",
       "      <td>0.5</td>\n",
       "    </tr>\n",
       "    <tr>\n",
       "      <th>4</th>\n",
       "      <td>6.4</td>\n",
       "      <td>VC</td>\n",
       "      <td>0.5</td>\n",
       "    </tr>\n",
       "  </tbody>\n",
       "</table>\n",
       "</div>"
      ],
      "text/plain": [
       "    len supp  dose\n",
       "0   4.2   VC   0.5\n",
       "1  11.5   VC   0.5\n",
       "2   7.3   VC   0.5\n",
       "3   5.8   VC   0.5\n",
       "4   6.4   VC   0.5"
      ]
     },
     "execution_count": 33,
     "metadata": {},
     "output_type": "execute_result"
    }
   ],
   "source": [
    "data1 = pd.read_csv('https://raw.githubusercontent.com/plotly/datasets/master/tooth_growth_csv')\n",
    "data1.head()"
   ]
  },
  {
   "cell_type": "code",
   "execution_count": 36,
   "metadata": {},
   "outputs": [
    {
     "data": {
      "text/html": [
       "<table class=\"simpletable\">\n",
       "<caption>OLS Regression Results</caption>\n",
       "<tr>\n",
       "  <th>Dep. Variable:</th>         <td>weight</td>      <th>  R-squared:         </th> <td>   0.034</td>\n",
       "</tr>\n",
       "<tr>\n",
       "  <th>Model:</th>                   <td>OLS</td>       <th>  Adj. R-squared:    </th> <td>  -0.017</td>\n",
       "</tr>\n",
       "<tr>\n",
       "  <th>Method:</th>             <td>Least Squares</td>  <th>  F-statistic:       </th> <td>  0.6689</td>\n",
       "</tr>\n",
       "<tr>\n",
       "  <th>Date:</th>             <td>Mon, 29 Jan 2018</td> <th>  Prob (F-statistic):</th>  <td> 0.648</td> \n",
       "</tr>\n",
       "<tr>\n",
       "  <th>Time:</th>                 <td>02:17:58</td>     <th>  Log-Likelihood:    </th> <td> -413.91</td>\n",
       "</tr>\n",
       "<tr>\n",
       "  <th>No. Observations:</th>      <td>   100</td>      <th>  AIC:               </th> <td>   839.8</td>\n",
       "</tr>\n",
       "<tr>\n",
       "  <th>Df Residuals:</th>          <td>    94</td>      <th>  BIC:               </th> <td>   855.4</td>\n",
       "</tr>\n",
       "<tr>\n",
       "  <th>Df Model:</th>              <td>     5</td>      <th>                     </th>     <td> </td>   \n",
       "</tr>\n",
       "<tr>\n",
       "  <th>Covariance Type:</th>      <td>nonrobust</td>    <th>                     </th>     <td> </td>   \n",
       "</tr>\n",
       "</table>\n",
       "<table class=\"simpletable\">\n",
       "<tr>\n",
       "                 <td></td>                    <th>coef</th>     <th>std err</th>      <th>t</th>      <th>P>|t|</th>  <th>[0.025</th>    <th>0.975]</th>  \n",
       "</tr>\n",
       "<tr>\n",
       "  <th>Intercept</th>                       <td>   63.0857</td> <td>    5.919</td> <td>   10.659</td> <td> 0.000</td> <td>   51.334</td> <td>   74.838</td>\n",
       "</tr>\n",
       "<tr>\n",
       "  <th>C(sex)[T.2]</th>                     <td>   -0.5286</td> <td>    7.249</td> <td>   -0.073</td> <td> 0.942</td> <td>  -14.922</td> <td>   13.864</td>\n",
       "</tr>\n",
       "<tr>\n",
       "  <th>C(country)[T.japan]</th>             <td>   -6.7250</td> <td>    6.617</td> <td>   -1.016</td> <td> 0.312</td> <td>  -19.864</td> <td>    6.414</td>\n",
       "</tr>\n",
       "<tr>\n",
       "  <th>C(country)[T.korea]</th>             <td>   -5.9524</td> <td>    6.727</td> <td>   -0.885</td> <td> 0.378</td> <td>  -19.309</td> <td>    7.404</td>\n",
       "</tr>\n",
       "<tr>\n",
       "  <th>C(sex)[T.2]:C(country)[T.japan]</th> <td>    6.6629</td> <td>    8.577</td> <td>    0.777</td> <td> 0.439</td> <td>  -10.367</td> <td>   23.693</td>\n",
       "</tr>\n",
       "<tr>\n",
       "  <th>C(sex)[T.2]:C(country)[T.korea]</th> <td>    1.3238</td> <td>    9.889</td> <td>    0.134</td> <td> 0.894</td> <td>  -18.311</td> <td>   20.959</td>\n",
       "</tr>\n",
       "</table>\n",
       "<table class=\"simpletable\">\n",
       "<tr>\n",
       "  <th>Omnibus:</th>       <td> 3.520</td> <th>  Durbin-Watson:     </th> <td>   2.205</td>\n",
       "</tr>\n",
       "<tr>\n",
       "  <th>Prob(Omnibus):</th> <td> 0.172</td> <th>  Jarque-Bera (JB):  </th> <td>   2.999</td>\n",
       "</tr>\n",
       "<tr>\n",
       "  <th>Skew:</th>          <td> 0.280</td> <th>  Prob(JB):          </th> <td>   0.223</td>\n",
       "</tr>\n",
       "<tr>\n",
       "  <th>Kurtosis:</th>      <td> 3.636</td> <th>  Cond. No.          </th> <td>    13.2</td>\n",
       "</tr>\n",
       "</table>"
      ],
      "text/plain": [
       "<class 'statsmodels.iolib.summary.Summary'>\n",
       "\"\"\"\n",
       "                            OLS Regression Results                            \n",
       "==============================================================================\n",
       "Dep. Variable:                 weight   R-squared:                       0.034\n",
       "Model:                            OLS   Adj. R-squared:                 -0.017\n",
       "Method:                 Least Squares   F-statistic:                    0.6689\n",
       "Date:                Mon, 29 Jan 2018   Prob (F-statistic):              0.648\n",
       "Time:                        02:17:58   Log-Likelihood:                -413.91\n",
       "No. Observations:                 100   AIC:                             839.8\n",
       "Df Residuals:                      94   BIC:                             855.4\n",
       "Df Model:                           5                                         \n",
       "Covariance Type:            nonrobust                                         \n",
       "===================================================================================================\n",
       "                                      coef    std err          t      P>|t|      [0.025      0.975]\n",
       "---------------------------------------------------------------------------------------------------\n",
       "Intercept                          63.0857      5.919     10.659      0.000      51.334      74.838\n",
       "C(sex)[T.2]                        -0.5286      7.249     -0.073      0.942     -14.922      13.864\n",
       "C(country)[T.japan]                -6.7250      6.617     -1.016      0.312     -19.864       6.414\n",
       "C(country)[T.korea]                -5.9524      6.727     -0.885      0.378     -19.309       7.404\n",
       "C(sex)[T.2]:C(country)[T.japan]     6.6629      8.577      0.777      0.439     -10.367      23.693\n",
       "C(sex)[T.2]:C(country)[T.korea]     1.3238      9.889      0.134      0.894     -18.311      20.959\n",
       "==============================================================================\n",
       "Omnibus:                        3.520   Durbin-Watson:                   2.205\n",
       "Prob(Omnibus):                  0.172   Jarque-Bera (JB):                2.999\n",
       "Skew:                           0.280   Prob(JB):                        0.223\n",
       "Kurtosis:                       3.636   Cond. No.                         13.2\n",
       "==============================================================================\n",
       "\n",
       "Warnings:\n",
       "[1] Standard Errors assume that the covariance matrix of the errors is correctly specified.\n",
       "\"\"\""
      ]
     },
     "execution_count": 36,
     "metadata": {},
     "output_type": "execute_result"
    }
   ],
   "source": [
    "formula = 'weight ~ C(sex) + C(country) + C(sex):C(country)'\n",
    "model = smf.ols(formula, data).fit()\n",
    "model.summary()"
   ]
  },
  {
   "cell_type": "code",
   "execution_count": 37,
   "metadata": {},
   "outputs": [
    {
     "data": {
      "text/html": [
       "<div>\n",
       "<style>\n",
       "    .dataframe thead tr:only-child th {\n",
       "        text-align: right;\n",
       "    }\n",
       "\n",
       "    .dataframe thead th {\n",
       "        text-align: left;\n",
       "    }\n",
       "\n",
       "    .dataframe tbody tr th {\n",
       "        vertical-align: top;\n",
       "    }\n",
       "</style>\n",
       "<table border=\"1\" class=\"dataframe\">\n",
       "  <thead>\n",
       "    <tr style=\"text-align: right;\">\n",
       "      <th></th>\n",
       "      <th>sum_sq</th>\n",
       "      <th>df</th>\n",
       "      <th>F</th>\n",
       "      <th>PR(&gt;F)</th>\n",
       "    </tr>\n",
       "  </thead>\n",
       "  <tbody>\n",
       "    <tr>\n",
       "      <th>C(sex)</th>\n",
       "      <td>247.738610</td>\n",
       "      <td>1.0</td>\n",
       "      <td>1.010264</td>\n",
       "      <td>0.317420</td>\n",
       "    </tr>\n",
       "    <tr>\n",
       "      <th>C(country)</th>\n",
       "      <td>184.362170</td>\n",
       "      <td>2.0</td>\n",
       "      <td>0.375909</td>\n",
       "      <td>0.687692</td>\n",
       "    </tr>\n",
       "    <tr>\n",
       "      <th>C(sex):C(country)</th>\n",
       "      <td>196.002800</td>\n",
       "      <td>2.0</td>\n",
       "      <td>0.399644</td>\n",
       "      <td>0.671693</td>\n",
       "    </tr>\n",
       "    <tr>\n",
       "      <th>Residual</th>\n",
       "      <td>23050.846762</td>\n",
       "      <td>94.0</td>\n",
       "      <td>NaN</td>\n",
       "      <td>NaN</td>\n",
       "    </tr>\n",
       "  </tbody>\n",
       "</table>\n",
       "</div>"
      ],
      "text/plain": [
       "                         sum_sq    df         F    PR(>F)\n",
       "C(sex)               247.738610   1.0  1.010264  0.317420\n",
       "C(country)           184.362170   2.0  0.375909  0.687692\n",
       "C(sex):C(country)    196.002800   2.0  0.399644  0.671693\n",
       "Residual           23050.846762  94.0       NaN       NaN"
      ]
     },
     "execution_count": 37,
     "metadata": {},
     "output_type": "execute_result"
    }
   ],
   "source": [
    "aov_table = ss.anova.anova_lm(model, typ=2)\n",
    "aov_table"
   ]
  },
  {
   "cell_type": "code",
   "execution_count": 41,
   "metadata": {},
   "outputs": [
    {
     "data": {
      "text/html": [
       "<table class=\"simpletable\">\n",
       "<caption>OLS Regression Results</caption>\n",
       "<tr>\n",
       "  <th>Dep. Variable:</th>           <td>len</td>       <th>  R-squared:         </th> <td>   0.794</td>\n",
       "</tr>\n",
       "<tr>\n",
       "  <th>Model:</th>                   <td>OLS</td>       <th>  Adj. R-squared:    </th> <td>   0.775</td>\n",
       "</tr>\n",
       "<tr>\n",
       "  <th>Method:</th>             <td>Least Squares</td>  <th>  F-statistic:       </th> <td>   41.56</td>\n",
       "</tr>\n",
       "<tr>\n",
       "  <th>Date:</th>             <td>Mon, 29 Jan 2018</td> <th>  Prob (F-statistic):</th> <td>2.50e-17</td>\n",
       "</tr>\n",
       "<tr>\n",
       "  <th>Time:</th>                 <td>02:18:48</td>     <th>  Log-Likelihood:    </th> <td> -159.35</td>\n",
       "</tr>\n",
       "<tr>\n",
       "  <th>No. Observations:</th>      <td>    60</td>      <th>  AIC:               </th> <td>   330.7</td>\n",
       "</tr>\n",
       "<tr>\n",
       "  <th>Df Residuals:</th>          <td>    54</td>      <th>  BIC:               </th> <td>   343.3</td>\n",
       "</tr>\n",
       "<tr>\n",
       "  <th>Df Model:</th>              <td>     5</td>      <th>                     </th>     <td> </td>   \n",
       "</tr>\n",
       "<tr>\n",
       "  <th>Covariance Type:</th>      <td>nonrobust</td>    <th>                     </th>     <td> </td>   \n",
       "</tr>\n",
       "</table>\n",
       "<table class=\"simpletable\">\n",
       "<tr>\n",
       "                <td></td>                  <th>coef</th>     <th>std err</th>      <th>t</th>      <th>P>|t|</th>  <th>[0.025</th>    <th>0.975]</th>  \n",
       "</tr>\n",
       "<tr>\n",
       "  <th>Intercept</th>                    <td>   13.2300</td> <td>    1.148</td> <td>   11.521</td> <td> 0.000</td> <td>   10.928</td> <td>   15.532</td>\n",
       "</tr>\n",
       "<tr>\n",
       "  <th>C(supp)[T.VC]</th>                <td>   -5.2500</td> <td>    1.624</td> <td>   -3.233</td> <td> 0.002</td> <td>   -8.506</td> <td>   -1.994</td>\n",
       "</tr>\n",
       "<tr>\n",
       "  <th>C(dose)[T.1.0]</th>               <td>    9.4700</td> <td>    1.624</td> <td>    5.831</td> <td> 0.000</td> <td>    6.214</td> <td>   12.726</td>\n",
       "</tr>\n",
       "<tr>\n",
       "  <th>C(dose)[T.2.0]</th>               <td>   12.8300</td> <td>    1.624</td> <td>    7.900</td> <td> 0.000</td> <td>    9.574</td> <td>   16.086</td>\n",
       "</tr>\n",
       "<tr>\n",
       "  <th>C(supp)[T.VC]:C(dose)[T.1.0]</th> <td>   -0.6800</td> <td>    2.297</td> <td>   -0.296</td> <td> 0.768</td> <td>   -5.285</td> <td>    3.925</td>\n",
       "</tr>\n",
       "<tr>\n",
       "  <th>C(supp)[T.VC]:C(dose)[T.2.0]</th> <td>    5.3300</td> <td>    2.297</td> <td>    2.321</td> <td> 0.024</td> <td>    0.725</td> <td>    9.935</td>\n",
       "</tr>\n",
       "</table>\n",
       "<table class=\"simpletable\">\n",
       "<tr>\n",
       "  <th>Omnibus:</th>       <td> 0.336</td> <th>  Durbin-Watson:     </th> <td>   2.025</td>\n",
       "</tr>\n",
       "<tr>\n",
       "  <th>Prob(Omnibus):</th> <td> 0.846</td> <th>  Jarque-Bera (JB):  </th> <td>   0.324</td>\n",
       "</tr>\n",
       "<tr>\n",
       "  <th>Skew:</th>          <td> 0.164</td> <th>  Prob(JB):          </th> <td>   0.850</td>\n",
       "</tr>\n",
       "<tr>\n",
       "  <th>Kurtosis:</th>      <td> 2.852</td> <th>  Cond. No.          </th> <td>    9.77</td>\n",
       "</tr>\n",
       "</table>"
      ],
      "text/plain": [
       "<class 'statsmodels.iolib.summary.Summary'>\n",
       "\"\"\"\n",
       "                            OLS Regression Results                            \n",
       "==============================================================================\n",
       "Dep. Variable:                    len   R-squared:                       0.794\n",
       "Model:                            OLS   Adj. R-squared:                  0.775\n",
       "Method:                 Least Squares   F-statistic:                     41.56\n",
       "Date:                Mon, 29 Jan 2018   Prob (F-statistic):           2.50e-17\n",
       "Time:                        02:18:48   Log-Likelihood:                -159.35\n",
       "No. Observations:                  60   AIC:                             330.7\n",
       "Df Residuals:                      54   BIC:                             343.3\n",
       "Df Model:                           5                                         \n",
       "Covariance Type:            nonrobust                                         \n",
       "================================================================================================\n",
       "                                   coef    std err          t      P>|t|      [0.025      0.975]\n",
       "------------------------------------------------------------------------------------------------\n",
       "Intercept                       13.2300      1.148     11.521      0.000      10.928      15.532\n",
       "C(supp)[T.VC]                   -5.2500      1.624     -3.233      0.002      -8.506      -1.994\n",
       "C(dose)[T.1.0]                   9.4700      1.624      5.831      0.000       6.214      12.726\n",
       "C(dose)[T.2.0]                  12.8300      1.624      7.900      0.000       9.574      16.086\n",
       "C(supp)[T.VC]:C(dose)[T.1.0]    -0.6800      2.297     -0.296      0.768      -5.285       3.925\n",
       "C(supp)[T.VC]:C(dose)[T.2.0]     5.3300      2.297      2.321      0.024       0.725       9.935\n",
       "==============================================================================\n",
       "Omnibus:                        0.336   Durbin-Watson:                   2.025\n",
       "Prob(Omnibus):                  0.846   Jarque-Bera (JB):                0.324\n",
       "Skew:                           0.164   Prob(JB):                        0.850\n",
       "Kurtosis:                       2.852   Cond. No.                         9.77\n",
       "==============================================================================\n",
       "\n",
       "Warnings:\n",
       "[1] Standard Errors assume that the covariance matrix of the errors is correctly specified.\n",
       "\"\"\""
      ]
     },
     "execution_count": 41,
     "metadata": {},
     "output_type": "execute_result"
    }
   ],
   "source": [
    "formula = 'len ~ C(supp) + C(dose) + C(supp):C(dose)'\n",
    "model = smf.ols(formula, data1).fit()\n",
    "model.summary()"
   ]
  },
  {
   "cell_type": "code",
   "execution_count": 42,
   "metadata": {},
   "outputs": [
    {
     "data": {
      "text/html": [
       "<div>\n",
       "<style>\n",
       "    .dataframe thead tr:only-child th {\n",
       "        text-align: right;\n",
       "    }\n",
       "\n",
       "    .dataframe thead th {\n",
       "        text-align: left;\n",
       "    }\n",
       "\n",
       "    .dataframe tbody tr th {\n",
       "        vertical-align: top;\n",
       "    }\n",
       "</style>\n",
       "<table border=\"1\" class=\"dataframe\">\n",
       "  <thead>\n",
       "    <tr style=\"text-align: right;\">\n",
       "      <th></th>\n",
       "      <th>sum_sq</th>\n",
       "      <th>df</th>\n",
       "      <th>F</th>\n",
       "      <th>PR(&gt;F)</th>\n",
       "    </tr>\n",
       "  </thead>\n",
       "  <tbody>\n",
       "    <tr>\n",
       "      <th>C(supp)</th>\n",
       "      <td>205.350000</td>\n",
       "      <td>1.0</td>\n",
       "      <td>15.571979</td>\n",
       "      <td>2.311828e-04</td>\n",
       "    </tr>\n",
       "    <tr>\n",
       "      <th>C(dose)</th>\n",
       "      <td>2426.434333</td>\n",
       "      <td>2.0</td>\n",
       "      <td>91.999965</td>\n",
       "      <td>4.046291e-18</td>\n",
       "    </tr>\n",
       "    <tr>\n",
       "      <th>C(supp):C(dose)</th>\n",
       "      <td>108.319000</td>\n",
       "      <td>2.0</td>\n",
       "      <td>4.106991</td>\n",
       "      <td>2.186027e-02</td>\n",
       "    </tr>\n",
       "    <tr>\n",
       "      <th>Residual</th>\n",
       "      <td>712.106000</td>\n",
       "      <td>54.0</td>\n",
       "      <td>NaN</td>\n",
       "      <td>NaN</td>\n",
       "    </tr>\n",
       "  </tbody>\n",
       "</table>\n",
       "</div>"
      ],
      "text/plain": [
       "                      sum_sq    df          F        PR(>F)\n",
       "C(supp)           205.350000   1.0  15.571979  2.311828e-04\n",
       "C(dose)          2426.434333   2.0  91.999965  4.046291e-18\n",
       "C(supp):C(dose)   108.319000   2.0   4.106991  2.186027e-02\n",
       "Residual          712.106000  54.0        NaN           NaN"
      ]
     },
     "execution_count": 42,
     "metadata": {},
     "output_type": "execute_result"
    }
   ],
   "source": [
    "aov_table = ss.anova.anova_lm(model, typ=2)\n",
    "aov_table"
   ]
  },
  {
   "cell_type": "code",
   "execution_count": null,
   "metadata": {
    "collapsed": true
   },
   "outputs": [],
   "source": []
  }
 ],
 "metadata": {
  "kernelspec": {
   "display_name": "Python 3",
   "language": "python",
   "name": "python3"
  },
  "language_info": {
   "codemirror_mode": {
    "name": "ipython",
    "version": 3
   },
   "file_extension": ".py",
   "mimetype": "text/x-python",
   "name": "python",
   "nbconvert_exporter": "python",
   "pygments_lexer": "ipython3",
   "version": "3.6.2"
  }
 },
 "nbformat": 4,
 "nbformat_minor": 2
}
