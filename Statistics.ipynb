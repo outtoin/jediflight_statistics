{
 "cells": [
  {
   "cell_type": "code",
   "execution_count": 2,
   "metadata": {},
   "outputs": [],
   "source": [
    "from scipy import stats\n",
    "import numpy as np\n",
    "import pandas as pd"
   ]
  },
  {
   "cell_type": "code",
   "execution_count": 12,
   "metadata": {
    "collapsed": true
   },
   "outputs": [],
   "source": [
    "np.random.seed(1)"
   ]
  },
  {
   "cell_type": "markdown",
   "metadata": {},
   "source": [
    "### 1-Sample T-test"
   ]
  },
  {
   "cell_type": "code",
   "execution_count": 4,
   "metadata": {
    "collapsed": true
   },
   "outputs": [],
   "source": [
    "heights = [180 + np.random.normal(0, 5) for _ in range(20)]\n",
    "\n",
    "tTestResult = stats.ttest_1samp(heights, 175)"
   ]
  },
  {
   "cell_type": "code",
   "execution_count": 6,
   "metadata": {},
   "outputs": [
    {
     "name": "stdout",
     "output_type": "stream",
     "text": [
      "The T-statistic is 3.824 and the p-value is 0.001\n"
     ]
    }
   ],
   "source": [
    "print(\"The T-statistic is %.3f and the p-value is %.3f\" % tTestResult)"
   ]
  },
  {
   "cell_type": "markdown",
   "metadata": {},
   "source": [
    "### Unpaired T-test"
   ]
  },
  {
   "cell_type": "code",
   "execution_count": 14,
   "metadata": {},
   "outputs": [
    {
     "name": "stdout",
     "output_type": "stream",
     "text": [
      "The T-statistic and p-value between 1 and 2 assuming equal variances is -3.118 and 0.003\n",
      "The T-statistic and p-value between 1 and 2 not assuming equal variances is -3.118 and 0.003\n",
      "The T-statistic and p-value between 1 and 3 assuming equal variances is 1.213 and 0.233\n",
      "The T-statistic and p-value between 1 and 3 not assuming equal variances is 1.213 and 0.234\n"
     ]
    }
   ],
   "source": [
    "group1height = [170 + np.random.normal(0, 5) for _ in range(20)]\n",
    "group2height = [175 + np.random.normal(0, 10) for _ in range(20)]\n",
    "group3height = [169 + np.random.normal(0, 10) for _ in range(20)]\n",
    "\n",
    "tTestResult12 = stats.ttest_ind(group1height, group2height)\n",
    "tTestResult12DiffVar = stats.ttest_ind(group1height, group2height, equal_var=False)\n",
    "\n",
    "tTestResult13 = stats.ttest_ind(group1height, group3height)\n",
    "tTestResult13DiffVar = stats.ttest_ind(group1height, group3height, equal_var=False)\n",
    "\n",
    "print(\"The T-statistic and p-value between 1 and 2 assuming equal variances is %.3f and %.3f\" % tTestResult12)\n",
    "print(\"The T-statistic and p-value between 1 and 2 not assuming equal variances is %.3f and %.3f\" % tTestResult12DiffVar)\n",
    "\n",
    "print(\"The T-statistic and p-value between 1 and 3 assuming equal variances is %.3f and %.3f\" % tTestResult13)\n",
    "print(\"The T-statistic and p-value between 1 and 3 not assuming equal variances is %.3f and %.3f\" % tTestResult13DiffVar)"
   ]
  },
  {
   "cell_type": "code",
   "execution_count": 15,
   "metadata": {},
   "outputs": [
    {
     "name": "stdout",
     "output_type": "stream",
     "text": [
      "170.86542887681196\n",
      "176.04885480258335\n",
      "168.12248575526073\n"
     ]
    }
   ],
   "source": [
    "print(np.mean(group1height))\n",
    "print(np.mean(group2height))\n",
    "print(np.mean(group3height))"
   ]
  },
  {
   "cell_type": "markdown",
   "metadata": {},
   "source": [
    "### Paired T-test"
   ]
  },
  {
   "cell_type": "code",
   "execution_count": 21,
   "metadata": {},
   "outputs": [
    {
     "name": "stdout",
     "output_type": "stream",
     "text": [
      "The T-statistic is -3.487 and the p-value is 0.002\n"
     ]
    }
   ],
   "source": [
    "beforeheights = [160 + np.random.normal(0, 5) for _ in range(20)]\n",
    "afterheights = [h * np.random.normal(1.02, 0.02) for h in beforeheights]\n",
    "\n",
    "tTestResult = stats.ttest_rel(beforeheights, afterheights)\n",
    "\n",
    "print(\"The T-statistic is %.3f and the p-value is %.3f\" % tTestResult)"
   ]
  },
  {
   "cell_type": "code",
   "execution_count": 22,
   "metadata": {},
   "outputs": [
    {
     "name": "stdout",
     "output_type": "stream",
     "text": [
      "160.55399304165852\n",
      "163.5419578028301\n"
     ]
    }
   ],
   "source": [
    "print(np.mean(beforeheights))\n",
    "print(np.mean(afterheights))"
   ]
  },
  {
   "cell_type": "code",
   "execution_count": null,
   "metadata": {
    "collapsed": true
   },
   "outputs": [],
   "source": []
  }
 ],
 "metadata": {
  "kernelspec": {
   "display_name": "Python 3",
   "language": "python",
   "name": "python3"
  },
  "language_info": {
   "codemirror_mode": {
    "name": "ipython",
    "version": 3
   },
   "file_extension": ".py",
   "mimetype": "text/x-python",
   "name": "python",
   "nbconvert_exporter": "python",
   "pygments_lexer": "ipython3",
   "version": "3.6.2"
  }
 },
 "nbformat": 4,
 "nbformat_minor": 2
}
