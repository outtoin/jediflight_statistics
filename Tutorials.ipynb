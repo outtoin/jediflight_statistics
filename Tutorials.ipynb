{
 "cells": [
  {
   "cell_type": "code",
   "execution_count": 1,
   "metadata": {},
   "outputs": [
    {
     "name": "stderr",
     "output_type": "stream",
     "text": [
      "/home/outtoin/.pyenv/versions/3.6.2/envs/statistics-3.6.2/lib/python3.6/site-packages/statsmodels/compat/pandas.py:56: FutureWarning: The pandas.core.datetools module is deprecated and will be removed in a future version. Please use the pandas.tseries module instead.\n",
      "  from pandas.core import datetools\n"
     ]
    }
   ],
   "source": [
    "from scipy import stats\n",
    "from statsmodels.stats.multicomp import pairwise_tukeyhsd, MultiComparison\n",
    "import statsmodels.api as sm\n",
    "import statsmodels.formula.api as smf\n",
    "import statsmodels.stats as ss\n",
    "import numpy as np\n",
    "import pandas as pd\n",
    "\n",
    "import matplotlib.pyplot as plt\n",
    "import seaborn as sns\n",
    "\n",
    "import random\n",
    "\n",
    "%matplotlib inline"
   ]
  },
  {
   "cell_type": "code",
   "execution_count": 2,
   "metadata": {
    "collapsed": true
   },
   "outputs": [],
   "source": [
    "np.random.seed(1)"
   ]
  },
  {
   "cell_type": "markdown",
   "metadata": {},
   "source": [
    "### 1-Sample T-test"
   ]
  },
  {
   "cell_type": "code",
   "execution_count": 3,
   "metadata": {
    "collapsed": true
   },
   "outputs": [],
   "source": [
    "heights = [180 + np.random.normal(0, 5) for _ in range(20)]\n",
    "\n",
    "tTestResult = stats.ttest_1samp(heights, 175)"
   ]
  },
  {
   "cell_type": "code",
   "execution_count": 4,
   "metadata": {},
   "outputs": [
    {
     "name": "stdout",
     "output_type": "stream",
     "text": [
      "The T-statistic is 3.435 and the p-value is 0.003\n"
     ]
    }
   ],
   "source": [
    "print(\"The T-statistic is %.3f and the p-value is %.3f\" % tTestResult)"
   ]
  },
  {
   "cell_type": "markdown",
   "metadata": {},
   "source": [
    "### Unpaired T-test"
   ]
  },
  {
   "cell_type": "code",
   "execution_count": 5,
   "metadata": {},
   "outputs": [
    {
     "name": "stdout",
     "output_type": "stream",
     "text": [
      "The T-statistic and p-value between 1 and 2 assuming equal variances is -3.503 and 0.001\n",
      "The T-statistic and p-value between 1 and 2 not assuming equal variances is -3.503 and 0.002\n",
      "The T-statistic and p-value between 1 and 3 assuming equal variances is -0.379 and 0.707\n",
      "The T-statistic and p-value between 1 and 3 not assuming equal variances is -0.379 and 0.708\n"
     ]
    }
   ],
   "source": [
    "group1height = [170 + np.random.normal(0, 5) for _ in range(20)]\n",
    "group2height = [175 + np.random.normal(0, 10) for _ in range(20)]\n",
    "group3height = [169 + np.random.normal(0, 10) for _ in range(20)]\n",
    "\n",
    "tTestResult12 = stats.ttest_ind(group1height, group2height)\n",
    "tTestResult12DiffVar = stats.ttest_ind(group1height, group2height, equal_var=False)\n",
    "\n",
    "tTestResult13 = stats.ttest_ind(group1height, group3height)\n",
    "tTestResult13DiffVar = stats.ttest_ind(group1height, group3height, equal_var=False)\n",
    "\n",
    "print(\"The T-statistic and p-value between 1 and 2 assuming equal variances is %.3f and %.3f\" % tTestResult12)\n",
    "print(\"The T-statistic and p-value between 1 and 2 not assuming equal variances is %.3f and %.3f\" % tTestResult12DiffVar)\n",
    "\n",
    "print(\"The T-statistic and p-value between 1 and 3 assuming equal variances is %.3f and %.3f\" % tTestResult13)\n",
    "print(\"The T-statistic and p-value between 1 and 3 not assuming equal variances is %.3f and %.3f\" % tTestResult13DiffVar)"
   ]
  },
  {
   "cell_type": "code",
   "execution_count": 6,
   "metadata": {},
   "outputs": [
    {
     "name": "stdout",
     "output_type": "stream",
     "text": [
      "169.77084343661494\n",
      "177.04138953895512\n",
      "170.73085775362398\n"
     ]
    }
   ],
   "source": [
    "print(np.mean(group1height))\n",
    "print(np.mean(group2height))\n",
    "print(np.mean(group3height))"
   ]
  },
  {
   "cell_type": "markdown",
   "metadata": {},
   "source": [
    "### Paired T-test"
   ]
  },
  {
   "cell_type": "code",
   "execution_count": 7,
   "metadata": {},
   "outputs": [
    {
     "name": "stdout",
     "output_type": "stream",
     "text": [
      "The T-statistic is -4.739 and the p-value is 0.000\n"
     ]
    }
   ],
   "source": [
    "beforeheights = [160 + np.random.normal(0, 5) for _ in range(20)]\n",
    "afterheights = [h * np.random.normal(1.02, 0.02) for h in beforeheights]\n",
    "\n",
    "tTestResult = stats.ttest_rel(beforeheights, afterheights)\n",
    "\n",
    "print(\"The T-statistic is %.3f and the p-value is %.3f\" % tTestResult)"
   ]
  },
  {
   "cell_type": "code",
   "execution_count": 8,
   "metadata": {},
   "outputs": [
    {
     "name": "stdout",
     "output_type": "stream",
     "text": [
      "160.52442740129166\n",
      "163.44084373279986\n"
     ]
    }
   ],
   "source": [
    "print(np.mean(beforeheights))\n",
    "print(np.mean(afterheights))"
   ]
  },
  {
   "cell_type": "markdown",
   "metadata": {},
   "source": [
    "### One-way ANOVA"
   ]
  },
  {
   "cell_type": "code",
   "execution_count": 9,
   "metadata": {},
   "outputs": [
    {
     "name": "stdout",
     "output_type": "stream",
     "text": [
      "The One-way ANOVA: f-value is 10.853 and the p_value is 0.000\n"
     ]
    }
   ],
   "source": [
    "krweights = [60 + np.random.normal(0, 10) for _ in range(100)]\n",
    "jpweights = [64 + np.random.normal(0, 10) for _ in range(100)]\n",
    "chweights = [70 + np.random.normal(0, 12) for _ in range(100)]\n",
    "\n",
    "owANOVAresult = stats.f_oneway(krweights, jpweights, chweights)\n",
    "\n",
    "print(\"The One-way ANOVA: f-value is %.3f and the p_value is %.3f\" % owANOVAresult)"
   ]
  },
  {
   "cell_type": "code",
   "execution_count": 10,
   "metadata": {
    "collapsed": true
   },
   "outputs": [],
   "source": [
    "re = np.append(krweights, [jpweights, chweights])\n",
    "re_label = np.append(['korea' for _ in range(100)], [['japan' for _ in range(100)], ['china' for _ in range(100)]])"
   ]
  },
  {
   "cell_type": "code",
   "execution_count": 11,
   "metadata": {},
   "outputs": [
    {
     "data": {
      "text/html": [
       "<table class=\"simpletable\">\n",
       "<caption>Multiple Comparison of Means - Tukey HSD,FWER=0.05</caption>\n",
       "<tr>\n",
       "  <th>group1</th> <th>group2</th> <th>meandiff</th>   <th>lower</th>   <th>upper</th>  <th>reject</th>\n",
       "</tr>\n",
       "<tr>\n",
       "   <td>china</td>  <td>japan</td>  <td>-3.9463</td>  <td>-7.6668</td> <td>-0.2257</td>  <td>True</td> \n",
       "</tr>\n",
       "<tr>\n",
       "   <td>china</td>  <td>korea</td>  <td>-7.3517</td> <td>-11.0723</td> <td>-3.6312</td>  <td>True</td> \n",
       "</tr>\n",
       "<tr>\n",
       "   <td>japan</td>  <td>korea</td>  <td>-3.4055</td>  <td>-7.126</td>  <td>0.3151</td>   <td>False</td>\n",
       "</tr>\n",
       "</table>"
      ],
      "text/plain": [
       "<class 'statsmodels.iolib.table.SimpleTable'>"
      ]
     },
     "execution_count": 11,
     "metadata": {},
     "output_type": "execute_result"
    }
   ],
   "source": [
    "res = pairwise_tukeyhsd(re, re_label)\n",
    "res.summary()"
   ]
  },
  {
   "cell_type": "code",
   "execution_count": 12,
   "metadata": {},
   "outputs": [
    {
     "data": {
      "image/png": "[encoded data removed]",
      "text/plain": [
       "<matplotlib.figure.Figure at 0x7f5418306320>"
      ]
     },
     "execution_count": 12,
     "metadata": {},
     "output_type": "execute_result"
    },
    {
     "data": {
      "image/png": "[encoded data removed]",
      "text/plain": [
       "<matplotlib.figure.Figure at 0x7f5418306320>"
      ]
     },
     "metadata": {},
     "output_type": "display_data"
    }
   ],
   "source": [
    "res.plot_simultaneous()"
   ]
  },
  {
   "cell_type": "code",
   "execution_count": 13,
   "metadata": {},
   "outputs": [
    {
     "data": {
      "text/html": [
       "<table class=\"simpletable\">\n",
       "<caption>Multiple Comparison of Means - Tukey HSD,FWER=0.01</caption>\n",
       "<tr>\n",
       "  <th>group1</th> <th>group2</th> <th>meandiff</th>  <th>lower</th>   <th>upper</th>  <th>reject</th>\n",
       "</tr>\n",
       "<tr>\n",
       "   <td>china</td>  <td>japan</td>  <td>-3.9463</td> <td>-8.5835</td>  <td>0.691</td>   <td>False</td>\n",
       "</tr>\n",
       "<tr>\n",
       "   <td>china</td>  <td>korea</td>  <td>-7.3517</td> <td>-11.989</td> <td>-2.7145</td>  <td>True</td> \n",
       "</tr>\n",
       "<tr>\n",
       "   <td>japan</td>  <td>korea</td>  <td>-3.4055</td> <td>-8.0427</td> <td>1.2318</td>   <td>False</td>\n",
       "</tr>\n",
       "</table>"
      ],
      "text/plain": [
       "<class 'statsmodels.iolib.table.SimpleTable'>"
      ]
     },
     "execution_count": 13,
     "metadata": {},
     "output_type": "execute_result"
    }
   ],
   "source": [
    "mod = MultiComparison(re, re_label)\n",
    "results = mod.tukeyhsd(0.01)\n",
    "results.summary()"
   ]
  },
  {
   "cell_type": "code",
   "execution_count": 14,
   "metadata": {},
   "outputs": [
    {
     "data": {
      "image/png": "[encoded data removed]",
      "text/plain": [
       "<matplotlib.figure.Figure at 0x7f53d66a5588>"
      ]
     },
     "execution_count": 14,
     "metadata": {},
     "output_type": "execute_result"
    },
    {
     "data": {
      "image/png": "[encoded data removed]",
      "text/plain": [
       "<matplotlib.figure.Figure at 0x7f53d66a5588>"
      ]
     },
     "metadata": {},
     "output_type": "display_data"
    }
   ],
   "source": [
    "results.plot_simultaneous()"
   ]
  },
  {
   "cell_type": "markdown",
   "metadata": {},
   "source": [
    "### Two-way ANOVA"
   ]
  },
  {
   "cell_type": "code",
   "execution_count": 15,
   "metadata": {
    "scrolled": false
   },
   "outputs": [
    {
     "data": {
      "text/html": [
       "<div>\n",
       "<style scoped>\n",
       "    .dataframe tbody tr th:only-of-type {\n",
       "        vertical-align: middle;\n",
       "    }\n",
       "\n",
       "    .dataframe tbody tr th {\n",
       "        vertical-align: top;\n",
       "    }\n",
       "\n",
       "    .dataframe thead th {\n",
       "        text-align: right;\n",
       "    }\n",
       "</style>\n",
       "<table border=\"1\" class=\"dataframe\">\n",
       "  <thead>\n",
       "    <tr style=\"text-align: right;\">\n",
       "      <th></th>\n",
       "      <th>sex</th>\n",
       "      <th>country</th>\n",
       "      <th>weight</th>\n",
       "    </tr>\n",
       "  </thead>\n",
       "  <tbody>\n",
       "    <tr>\n",
       "      <th>0</th>\n",
       "      <td>1</td>\n",
       "      <td>korea</td>\n",
       "      <td>56.6</td>\n",
       "    </tr>\n",
       "    <tr>\n",
       "      <th>1</th>\n",
       "      <td>2</td>\n",
       "      <td>japan</td>\n",
       "      <td>84.2</td>\n",
       "    </tr>\n",
       "    <tr>\n",
       "      <th>2</th>\n",
       "      <td>1</td>\n",
       "      <td>korea</td>\n",
       "      <td>54.4</td>\n",
       "    </tr>\n",
       "    <tr>\n",
       "      <th>3</th>\n",
       "      <td>1</td>\n",
       "      <td>china</td>\n",
       "      <td>48.8</td>\n",
       "    </tr>\n",
       "    <tr>\n",
       "      <th>4</th>\n",
       "      <td>1</td>\n",
       "      <td>china</td>\n",
       "      <td>90.8</td>\n",
       "    </tr>\n",
       "  </tbody>\n",
       "</table>\n",
       "</div>"
      ],
      "text/plain": [
       "   sex country  weight\n",
       "0    1   korea    56.6\n",
       "1    2   japan    84.2\n",
       "2    1   korea    54.4\n",
       "3    1   china    48.8\n",
       "4    1   china    90.8"
      ]
     },
     "execution_count": 15,
     "metadata": {},
     "output_type": "execute_result"
    }
   ],
   "source": [
    "sex = pd.DataFrame([round(random.random()) + 1 for _ in range(100)], columns=['sex'])\n",
    "country = pd.DataFrame([round(random.random() * 2) for _ in range(100)], columns=['country'])\n",
    "country = country.replace({0: 'korea', 1: 'japan', 2: 'china'})\n",
    "weight = pd.DataFrame([round(60 + np.random.normal(0, 15) ,1) for _ in range(100)], columns=['weight'])\n",
    "\n",
    "data = pd.concat([sex, country, weight], axis=1)\n",
    "data.head()"
   ]
  },
  {
   "cell_type": "code",
   "execution_count": 16,
   "metadata": {},
   "outputs": [
    {
     "data": {
      "text/html": [
       "<div>\n",
       "<style scoped>\n",
       "    .dataframe tbody tr th:only-of-type {\n",
       "        vertical-align: middle;\n",
       "    }\n",
       "\n",
       "    .dataframe tbody tr th {\n",
       "        vertical-align: top;\n",
       "    }\n",
       "\n",
       "    .dataframe thead th {\n",
       "        text-align: right;\n",
       "    }\n",
       "</style>\n",
       "<table border=\"1\" class=\"dataframe\">\n",
       "  <thead>\n",
       "    <tr style=\"text-align: right;\">\n",
       "      <th></th>\n",
       "      <th>len</th>\n",
       "      <th>supp</th>\n",
       "      <th>dose</th>\n",
       "    </tr>\n",
       "  </thead>\n",
       "  <tbody>\n",
       "    <tr>\n",
       "      <th>0</th>\n",
       "      <td>4.2</td>\n",
       "      <td>VC</td>\n",
       "      <td>0.5</td>\n",
       "    </tr>\n",
       "    <tr>\n",
       "      <th>1</th>\n",
       "      <td>11.5</td>\n",
       "      <td>VC</td>\n",
       "      <td>0.5</td>\n",
       "    </tr>\n",
       "    <tr>\n",
       "      <th>2</th>\n",
       "      <td>7.3</td>\n",
       "      <td>VC</td>\n",
       "      <td>0.5</td>\n",
       "    </tr>\n",
       "    <tr>\n",
       "      <th>3</th>\n",
       "      <td>5.8</td>\n",
       "      <td>VC</td>\n",
       "      <td>0.5</td>\n",
       "    </tr>\n",
       "    <tr>\n",
       "      <th>4</th>\n",
       "      <td>6.4</td>\n",
       "      <td>VC</td>\n",
       "      <td>0.5</td>\n",
       "    </tr>\n",
       "  </tbody>\n",
       "</table>\n",
       "</div>"
      ],
      "text/plain": [
       "    len supp  dose\n",
       "0   4.2   VC   0.5\n",
       "1  11.5   VC   0.5\n",
       "2   7.3   VC   0.5\n",
       "3   5.8   VC   0.5\n",
       "4   6.4   VC   0.5"
      ]
     },
     "execution_count": 16,
     "metadata": {},
     "output_type": "execute_result"
    }
   ],
   "source": [
    "data1 = pd.read_csv('https://raw.githubusercontent.com/plotly/datasets/master/tooth_growth_csv')\n",
    "data1.head()"
   ]
  },
  {
   "cell_type": "code",
   "execution_count": 17,
   "metadata": {},
   "outputs": [
    {
     "data": {
      "text/html": [
       "<table class=\"simpletable\">\n",
       "<caption>OLS Regression Results</caption>\n",
       "<tr>\n",
       "  <th>Dep. Variable:</th>         <td>weight</td>      <th>  R-squared:         </th> <td>   0.020</td>\n",
       "</tr>\n",
       "<tr>\n",
       "  <th>Model:</th>                   <td>OLS</td>       <th>  Adj. R-squared:    </th> <td>  -0.032</td>\n",
       "</tr>\n",
       "<tr>\n",
       "  <th>Method:</th>             <td>Least Squares</td>  <th>  F-statistic:       </th> <td>  0.3773</td>\n",
       "</tr>\n",
       "<tr>\n",
       "  <th>Date:</th>             <td>Mon, 26 Feb 2018</td> <th>  Prob (F-statistic):</th>  <td> 0.863</td> \n",
       "</tr>\n",
       "<tr>\n",
       "  <th>Time:</th>                 <td>22:23:20</td>     <th>  Log-Likelihood:    </th> <td> -404.35</td>\n",
       "</tr>\n",
       "<tr>\n",
       "  <th>No. Observations:</th>      <td>   100</td>      <th>  AIC:               </th> <td>   820.7</td>\n",
       "</tr>\n",
       "<tr>\n",
       "  <th>Df Residuals:</th>          <td>    94</td>      <th>  BIC:               </th> <td>   836.3</td>\n",
       "</tr>\n",
       "<tr>\n",
       "  <th>Df Model:</th>              <td>     5</td>      <th>                     </th>     <td> </td>   \n",
       "</tr>\n",
       "<tr>\n",
       "  <th>Covariance Type:</th>      <td>nonrobust</td>    <th>                     </th>     <td> </td>   \n",
       "</tr>\n",
       "</table>\n",
       "<table class=\"simpletable\">\n",
       "<tr>\n",
       "                 <td></td>                    <th>coef</th>     <th>std err</th>      <th>t</th>      <th>P>|t|</th>  <th>[0.025</th>    <th>0.975]</th>  \n",
       "</tr>\n",
       "<tr>\n",
       "  <th>Intercept</th>                       <td>   61.4143</td> <td>    3.804</td> <td>   16.146</td> <td> 0.000</td> <td>   53.862</td> <td>   68.967</td>\n",
       "</tr>\n",
       "<tr>\n",
       "  <th>C(sex)[T.2]</th>                     <td>    2.8524</td> <td>    5.289</td> <td>    0.539</td> <td> 0.591</td> <td>   -7.649</td> <td>   13.354</td>\n",
       "</tr>\n",
       "<tr>\n",
       "  <th>C(country)[T.japan]</th>             <td>   -2.8063</td> <td>    4.751</td> <td>   -0.591</td> <td> 0.556</td> <td>  -12.239</td> <td>    6.627</td>\n",
       "</tr>\n",
       "<tr>\n",
       "  <th>C(country)[T.korea]</th>             <td>    1.1214</td> <td>    5.379</td> <td>    0.208</td> <td> 0.835</td> <td>   -9.559</td> <td>   11.802</td>\n",
       "</tr>\n",
       "<tr>\n",
       "  <th>C(sex)[T.2]:C(country)[T.japan]</th> <td>    0.8346</td> <td>    6.797</td> <td>    0.123</td> <td> 0.903</td> <td>  -12.661</td> <td>   14.331</td>\n",
       "</tr>\n",
       "<tr>\n",
       "  <th>C(sex)[T.2]:C(country)[T.korea]</th> <td>   -5.6048</td> <td>    7.702</td> <td>   -0.728</td> <td> 0.469</td> <td>  -20.897</td> <td>    9.688</td>\n",
       "</tr>\n",
       "</table>\n",
       "<table class=\"simpletable\">\n",
       "<tr>\n",
       "  <th>Omnibus:</th>       <td> 1.721</td> <th>  Durbin-Watson:     </th> <td>   1.891</td>\n",
       "</tr>\n",
       "<tr>\n",
       "  <th>Prob(Omnibus):</th> <td> 0.423</td> <th>  Jarque-Bera (JB):  </th> <td>   1.310</td>\n",
       "</tr>\n",
       "<tr>\n",
       "  <th>Skew:</th>          <td> 0.006</td> <th>  Prob(JB):          </th> <td>   0.519</td>\n",
       "</tr>\n",
       "<tr>\n",
       "  <th>Kurtosis:</th>      <td> 2.439</td> <th>  Cond. No.          </th> <td>    10.5</td>\n",
       "</tr>\n",
       "</table>"
      ],
      "text/plain": [
       "<class 'statsmodels.iolib.summary.Summary'>\n",
       "\"\"\"\n",
       "                            OLS Regression Results                            \n",
       "==============================================================================\n",
       "Dep. Variable:                 weight   R-squared:                       0.020\n",
       "Model:                            OLS   Adj. R-squared:                 -0.032\n",
       "Method:                 Least Squares   F-statistic:                    0.3773\n",
       "Date:                Mon, 26 Feb 2018   Prob (F-statistic):              0.863\n",
       "Time:                        22:23:20   Log-Likelihood:                -404.35\n",
       "No. Observations:                 100   AIC:                             820.7\n",
       "Df Residuals:                      94   BIC:                             836.3\n",
       "Df Model:                           5                                         \n",
       "Covariance Type:            nonrobust                                         \n",
       "===================================================================================================\n",
       "                                      coef    std err          t      P>|t|      [0.025      0.975]\n",
       "---------------------------------------------------------------------------------------------------\n",
       "Intercept                          61.4143      3.804     16.146      0.000      53.862      68.967\n",
       "C(sex)[T.2]                         2.8524      5.289      0.539      0.591      -7.649      13.354\n",
       "C(country)[T.japan]                -2.8063      4.751     -0.591      0.556     -12.239       6.627\n",
       "C(country)[T.korea]                 1.1214      5.379      0.208      0.835      -9.559      11.802\n",
       "C(sex)[T.2]:C(country)[T.japan]     0.8346      6.797      0.123      0.903     -12.661      14.331\n",
       "C(sex)[T.2]:C(country)[T.korea]    -5.6048      7.702     -0.728      0.469     -20.897       9.688\n",
       "==============================================================================\n",
       "Omnibus:                        1.721   Durbin-Watson:                   1.891\n",
       "Prob(Omnibus):                  0.423   Jarque-Bera (JB):                1.310\n",
       "Skew:                           0.006   Prob(JB):                        0.519\n",
       "Kurtosis:                       2.439   Cond. No.                         10.5\n",
       "==============================================================================\n",
       "\n",
       "Warnings:\n",
       "[1] Standard Errors assume that the covariance matrix of the errors is correctly specified.\n",
       "\"\"\""
      ]
     },
     "execution_count": 17,
     "metadata": {},
     "output_type": "execute_result"
    }
   ],
   "source": [
    "formula = 'weight ~ C(sex) + C(country) + C(sex):C(country)'\n",
    "model = smf.ols(formula, data).fit()\n",
    "model.summary()"
   ]
  },
  {
   "cell_type": "code",
   "execution_count": 18,
   "metadata": {},
   "outputs": [
    {
     "data": {
      "text/html": [
       "<div>\n",
       "<style scoped>\n",
       "    .dataframe tbody tr th:only-of-type {\n",
       "        vertical-align: middle;\n",
       "    }\n",
       "\n",
       "    .dataframe tbody tr th {\n",
       "        vertical-align: top;\n",
       "    }\n",
       "\n",
       "    .dataframe thead th {\n",
       "        text-align: right;\n",
       "    }\n",
       "</style>\n",
       "<table border=\"1\" class=\"dataframe\">\n",
       "  <thead>\n",
       "    <tr style=\"text-align: right;\">\n",
       "      <th></th>\n",
       "      <th>sum_sq</th>\n",
       "      <th>df</th>\n",
       "      <th>F</th>\n",
       "      <th>PR(&gt;F)</th>\n",
       "    </tr>\n",
       "  </thead>\n",
       "  <tbody>\n",
       "    <tr>\n",
       "      <th>C(sex)</th>\n",
       "      <td>77.444182</td>\n",
       "      <td>1.0</td>\n",
       "      <td>0.382333</td>\n",
       "      <td>0.537853</td>\n",
       "    </tr>\n",
       "    <tr>\n",
       "      <th>C(country)</th>\n",
       "      <td>111.073577</td>\n",
       "      <td>2.0</td>\n",
       "      <td>0.274179</td>\n",
       "      <td>0.760802</td>\n",
       "    </tr>\n",
       "    <tr>\n",
       "      <th>C(sex):C(country)</th>\n",
       "      <td>181.466374</td>\n",
       "      <td>2.0</td>\n",
       "      <td>0.447939</td>\n",
       "      <td>0.640300</td>\n",
       "    </tr>\n",
       "    <tr>\n",
       "      <th>Residual</th>\n",
       "      <td>19040.347186</td>\n",
       "      <td>94.0</td>\n",
       "      <td>NaN</td>\n",
       "      <td>NaN</td>\n",
       "    </tr>\n",
       "  </tbody>\n",
       "</table>\n",
       "</div>"
      ],
      "text/plain": [
       "                         sum_sq    df         F    PR(>F)\n",
       "C(sex)                77.444182   1.0  0.382333  0.537853\n",
       "C(country)           111.073577   2.0  0.274179  0.760802\n",
       "C(sex):C(country)    181.466374   2.0  0.447939  0.640300\n",
       "Residual           19040.347186  94.0       NaN       NaN"
      ]
     },
     "execution_count": 18,
     "metadata": {},
     "output_type": "execute_result"
    }
   ],
   "source": [
    "aov_table = ss.anova.anova_lm(model, typ=2)\n",
    "aov_table"
   ]
  },
  {
   "cell_type": "code",
   "execution_count": 19,
   "metadata": {},
   "outputs": [
    {
     "data": {
      "text/html": [
       "<table class=\"simpletable\">\n",
       "<caption>OLS Regression Results</caption>\n",
       "<tr>\n",
       "  <th>Dep. Variable:</th>           <td>len</td>       <th>  R-squared:         </th> <td>   0.794</td>\n",
       "</tr>\n",
       "<tr>\n",
       "  <th>Model:</th>                   <td>OLS</td>       <th>  Adj. R-squared:    </th> <td>   0.775</td>\n",
       "</tr>\n",
       "<tr>\n",
       "  <th>Method:</th>             <td>Least Squares</td>  <th>  F-statistic:       </th> <td>   41.56</td>\n",
       "</tr>\n",
       "<tr>\n",
       "  <th>Date:</th>             <td>Mon, 26 Feb 2018</td> <th>  Prob (F-statistic):</th> <td>2.50e-17</td>\n",
       "</tr>\n",
       "<tr>\n",
       "  <th>Time:</th>                 <td>22:23:20</td>     <th>  Log-Likelihood:    </th> <td> -159.35</td>\n",
       "</tr>\n",
       "<tr>\n",
       "  <th>No. Observations:</th>      <td>    60</td>      <th>  AIC:               </th> <td>   330.7</td>\n",
       "</tr>\n",
       "<tr>\n",
       "  <th>Df Residuals:</th>          <td>    54</td>      <th>  BIC:               </th> <td>   343.3</td>\n",
       "</tr>\n",
       "<tr>\n",
       "  <th>Df Model:</th>              <td>     5</td>      <th>                     </th>     <td> </td>   \n",
       "</tr>\n",
       "<tr>\n",
       "  <th>Covariance Type:</th>      <td>nonrobust</td>    <th>                     </th>     <td> </td>   \n",
       "</tr>\n",
       "</table>\n",
       "<table class=\"simpletable\">\n",
       "<tr>\n",
       "                <td></td>                  <th>coef</th>     <th>std err</th>      <th>t</th>      <th>P>|t|</th>  <th>[0.025</th>    <th>0.975]</th>  \n",
       "</tr>\n",
       "<tr>\n",
       "  <th>Intercept</th>                    <td>   13.2300</td> <td>    1.148</td> <td>   11.521</td> <td> 0.000</td> <td>   10.928</td> <td>   15.532</td>\n",
       "</tr>\n",
       "<tr>\n",
       "  <th>C(supp)[T.VC]</th>                <td>   -5.2500</td> <td>    1.624</td> <td>   -3.233</td> <td> 0.002</td> <td>   -8.506</td> <td>   -1.994</td>\n",
       "</tr>\n",
       "<tr>\n",
       "  <th>C(dose)[T.1.0]</th>               <td>    9.4700</td> <td>    1.624</td> <td>    5.831</td> <td> 0.000</td> <td>    6.214</td> <td>   12.726</td>\n",
       "</tr>\n",
       "<tr>\n",
       "  <th>C(dose)[T.2.0]</th>               <td>   12.8300</td> <td>    1.624</td> <td>    7.900</td> <td> 0.000</td> <td>    9.574</td> <td>   16.086</td>\n",
       "</tr>\n",
       "<tr>\n",
       "  <th>C(supp)[T.VC]:C(dose)[T.1.0]</th> <td>   -0.6800</td> <td>    2.297</td> <td>   -0.296</td> <td> 0.768</td> <td>   -5.285</td> <td>    3.925</td>\n",
       "</tr>\n",
       "<tr>\n",
       "  <th>C(supp)[T.VC]:C(dose)[T.2.0]</th> <td>    5.3300</td> <td>    2.297</td> <td>    2.321</td> <td> 0.024</td> <td>    0.725</td> <td>    9.935</td>\n",
       "</tr>\n",
       "</table>\n",
       "<table class=\"simpletable\">\n",
       "<tr>\n",
       "  <th>Omnibus:</th>       <td> 0.336</td> <th>  Durbin-Watson:     </th> <td>   2.025</td>\n",
       "</tr>\n",
       "<tr>\n",
       "  <th>Prob(Omnibus):</th> <td> 0.846</td> <th>  Jarque-Bera (JB):  </th> <td>   0.324</td>\n",
       "</tr>\n",
       "<tr>\n",
       "  <th>Skew:</th>          <td> 0.164</td> <th>  Prob(JB):          </th> <td>   0.850</td>\n",
       "</tr>\n",
       "<tr>\n",
       "  <th>Kurtosis:</th>      <td> 2.852</td> <th>  Cond. No.          </th> <td>    9.77</td>\n",
       "</tr>\n",
       "</table>"
      ],
      "text/plain": [
       "<class 'statsmodels.iolib.summary.Summary'>\n",
       "\"\"\"\n",
       "                            OLS Regression Results                            \n",
       "==============================================================================\n",
       "Dep. Variable:                    len   R-squared:                       0.794\n",
       "Model:                            OLS   Adj. R-squared:                  0.775\n",
       "Method:                 Least Squares   F-statistic:                     41.56\n",
       "Date:                Mon, 26 Feb 2018   Prob (F-statistic):           2.50e-17\n",
       "Time:                        22:23:20   Log-Likelihood:                -159.35\n",
       "No. Observations:                  60   AIC:                             330.7\n",
       "Df Residuals:                      54   BIC:                             343.3\n",
       "Df Model:                           5                                         \n",
       "Covariance Type:            nonrobust                                         \n",
       "================================================================================================\n",
       "                                   coef    std err          t      P>|t|      [0.025      0.975]\n",
       "------------------------------------------------------------------------------------------------\n",
       "Intercept                       13.2300      1.148     11.521      0.000      10.928      15.532\n",
       "C(supp)[T.VC]                   -5.2500      1.624     -3.233      0.002      -8.506      -1.994\n",
       "C(dose)[T.1.0]                   9.4700      1.624      5.831      0.000       6.214      12.726\n",
       "C(dose)[T.2.0]                  12.8300      1.624      7.900      0.000       9.574      16.086\n",
       "C(supp)[T.VC]:C(dose)[T.1.0]    -0.6800      2.297     -0.296      0.768      -5.285       3.925\n",
       "C(supp)[T.VC]:C(dose)[T.2.0]     5.3300      2.297      2.321      0.024       0.725       9.935\n",
       "==============================================================================\n",
       "Omnibus:                        0.336   Durbin-Watson:                   2.025\n",
       "Prob(Omnibus):                  0.846   Jarque-Bera (JB):                0.324\n",
       "Skew:                           0.164   Prob(JB):                        0.850\n",
       "Kurtosis:                       2.852   Cond. No.                         9.77\n",
       "==============================================================================\n",
       "\n",
       "Warnings:\n",
       "[1] Standard Errors assume that the covariance matrix of the errors is correctly specified.\n",
       "\"\"\""
      ]
     },
     "execution_count": 19,
     "metadata": {},
     "output_type": "execute_result"
    }
   ],
   "source": [
    "formula = 'len ~ C(supp) + C(dose) + C(supp):C(dose)'\n",
    "model = smf.ols(formula, data1).fit()\n",
    "model.summary()"
   ]
  },
  {
   "cell_type": "code",
   "execution_count": 20,
   "metadata": {},
   "outputs": [
    {
     "data": {
      "text/html": [
       "<div>\n",
       "<style scoped>\n",
       "    .dataframe tbody tr th:only-of-type {\n",
       "        vertical-align: middle;\n",
       "    }\n",
       "\n",
       "    .dataframe tbody tr th {\n",
       "        vertical-align: top;\n",
       "    }\n",
       "\n",
       "    .dataframe thead th {\n",
       "        text-align: right;\n",
       "    }\n",
       "</style>\n",
       "<table border=\"1\" class=\"dataframe\">\n",
       "  <thead>\n",
       "    <tr style=\"text-align: right;\">\n",
       "      <th></th>\n",
       "      <th>sum_sq</th>\n",
       "      <th>df</th>\n",
       "      <th>F</th>\n",
       "      <th>PR(&gt;F)</th>\n",
       "    </tr>\n",
       "  </thead>\n",
       "  <tbody>\n",
       "    <tr>\n",
       "      <th>C(supp)</th>\n",
       "      <td>205.350000</td>\n",
       "      <td>1.0</td>\n",
       "      <td>15.571979</td>\n",
       "      <td>2.311828e-04</td>\n",
       "    </tr>\n",
       "    <tr>\n",
       "      <th>C(dose)</th>\n",
       "      <td>2426.434333</td>\n",
       "      <td>2.0</td>\n",
       "      <td>91.999965</td>\n",
       "      <td>4.046291e-18</td>\n",
       "    </tr>\n",
       "    <tr>\n",
       "      <th>C(supp):C(dose)</th>\n",
       "      <td>108.319000</td>\n",
       "      <td>2.0</td>\n",
       "      <td>4.106991</td>\n",
       "      <td>2.186027e-02</td>\n",
       "    </tr>\n",
       "    <tr>\n",
       "      <th>Residual</th>\n",
       "      <td>712.106000</td>\n",
       "      <td>54.0</td>\n",
       "      <td>NaN</td>\n",
       "      <td>NaN</td>\n",
       "    </tr>\n",
       "  </tbody>\n",
       "</table>\n",
       "</div>"
      ],
      "text/plain": [
       "                      sum_sq    df          F        PR(>F)\n",
       "C(supp)           205.350000   1.0  15.571979  2.311828e-04\n",
       "C(dose)          2426.434333   2.0  91.999965  4.046291e-18\n",
       "C(supp):C(dose)   108.319000   2.0   4.106991  2.186027e-02\n",
       "Residual          712.106000  54.0        NaN           NaN"
      ]
     },
     "execution_count": 20,
     "metadata": {},
     "output_type": "execute_result"
    }
   ],
   "source": [
    "aov_table = ss.anova.anova_lm(model, typ=2)\n",
    "aov_table"
   ]
  }
 ],
 "metadata": {
  "kernelspec": {
   "display_name": "Python 3",
   "language": "python",
   "name": "python3"
  },
  "language_info": {
   "codemirror_mode": {
    "name": "ipython",
    "version": 3
   },
   "file_extension": ".py",
   "mimetype": "text/x-python",
   "name": "python",
   "nbconvert_exporter": "python",
   "pygments_lexer": "ipython3",
   "version": "3.6.2"
  }
 },
 "nbformat": 4,
 "nbformat_minor": 2
}
