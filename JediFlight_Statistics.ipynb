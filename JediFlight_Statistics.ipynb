{
 "cells": [
  {
   "cell_type": "code",
   "execution_count": 3,
   "metadata": {},
   "outputs": [
    {
     "name": "stderr",
     "output_type": "stream",
     "text": [
      "c:\\program files\\python36\\lib\\site-packages\\statsmodels\\compat\\pandas.py:56: FutureWarning: The pandas.core.datetools module is deprecated and will be removed in a future version. Please use the pandas.tseries module instead.\n",
      "  from pandas.core import datetools\n"
     ]
    }
   ],
   "source": [
    "from scipy import stats\n",
    "import numpy as np\n",
    "import pandas as pd\n",
    "from statsmodels.stats.multicomp import pairwise_tukeyhsd, MultiComparison\n",
    "import statsmodels.api as sm\n",
    "import statsmodels.formula.api as smf\n",
    "import statsmodels.stats as ss\n",
    "\n",
    "from numpy.linalg import norm\n",
    "\n",
    "import matplotlib.pyplot as plt\n",
    "import seaborn as sns\n",
    "from IPython.display import HTML,display\n",
    "import tabulate\n",
    "\n",
    "from ast import literal_eval as make_tuple\n",
    "\n",
    "from os import listdir\n",
    "from os.path import isfile, join, splitext, basename\n",
    "import csv\n",
    "import itertools\n",
    "import glob\n",
    "from copy import deepcopy\n",
    "\n",
    "from util import csv_length\n",
    "\n",
    "%matplotlib inline"
   ]
  },
  {
   "cell_type": "code",
   "execution_count": 2,
   "metadata": {
    "collapsed": true
   },
   "outputs": [],
   "source": [
    "data_path = './data/deviation/'\n",
    "t1_list = glob.glob(data_path + '*_t1.csv')\n",
    "t2_list = glob.glob(data_path + '*_t2.csv')\n",
    "com_list = glob.glob(data_path + '*_com.csv')\n",
    "\n",
    "t1_num_list = [csv_length(data) for data in t1_list]\n",
    "t2_num_list = [csv_length(data) for data in t2_list]\n",
    "com_num_list = [csv_length(data) for data in com_list]"
   ]
  },
  {
   "cell_type": "code",
   "execution_count": 3,
   "metadata": {
    "collapsed": true
   },
   "outputs": [],
   "source": [
    "def ingest(data, nums):\n",
    "    tmp = pd.read_csv(data, names = [i for i in range(nums)])\n",
    "    tmp_sers = [tmp[i].dropna() for i in range(nums)]\n",
    "    \n",
    "    tmp_chkpoints = [ser[:ser[ser.str.contains('Score')].index[0]] for ser in tmp_sers]\n",
    "    tmp_datas = [ser[ser[ser.str.contains('Score')].index[0]+1:] for ser in tmp_sers]\n",
    "    tmp_scores = [ser[ser[ser.str.contains('Score')].index[0]] for ser in tmp_sers]\n",
    "    \n",
    "    return tmp_chkpoints, tmp_datas, tmp_scores\n",
    "\n",
    "def make_arrays(sers):\n",
    "    ret = [ser.apply(lambda x: np.array(make_tuple(x))) for ser in sers]\n",
    "    return ret\n",
    "\n",
    "def refine(sers):\n",
    "    ret = [ser[(ser.apply(lambda x: x[2]) >= 0) & (ser.apply(lambda x: x[2]) <= 600)].reset_index(drop=True) for ser in sers]\n",
    "    return ret\n",
    "    \n",
    "\n",
    "def find_dist(chkpoint, data):\n",
    "    res_dict = {}\n",
    "    res_list = []\n",
    "\n",
    "    for i in range(len(chkpoint)):\n",
    "        idx = min(range(len(data)), key=lambda j: abs(data[j][2]-chkpoint[i][2]))\n",
    "        minidx = -5\n",
    "        maxidx = 5\n",
    "        if idx < 5:\n",
    "            minidx = -idx\n",
    "        if idx > len(data) - 5:\n",
    "            maxidx = len(data) - idx\n",
    "        new_idxs = np.arange(minidx, maxidx) + idx\n",
    "        res_dict[i] = data.loc[new_idxs].values\n",
    "\n",
    "    for key in res_dict.keys():\n",
    "        for item in res_dict[key]:\n",
    "            res_list.append(np.linalg.norm(chkpoint[key][:2] - item[:2]))\n",
    "            \n",
    "    return np.mean(res_list)\n",
    "\n",
    "def score_to_list(scores):\n",
    "    return [int(score.split(':')[-1]) for score in scores]\n",
    "\n",
    "def ingest2(data, num):\n",
    "    tmp = pd.read_csv(data, names=[i for i in range(num)])\n",
    "    return [[0, tmp[column].apply(lambda x: int(x.split(':')[-1])).values[0]] for column in tmp]\n",
    "\n",
    "def make_result(data, nums):\n",
    "    chkpoints, datas, scores = ingest(data, nums)\n",
    "    chkpoints, datas = make_arrays(chkpoints), make_arrays(datas)\n",
    "    chkpoints, datas = refine(chkpoints), refine(datas)\n",
    "    score_list = score_to_list(scores)\n",
    "    result = [[find_dist(chkpoints[i], datas[i]), score_list[i]] for i in range(nums)]\n",
    "    return result"
   ]
  },
  {
   "cell_type": "code",
   "execution_count": 4,
   "metadata": {
    "collapsed": true
   },
   "outputs": [],
   "source": [
    "t1_res_dict = {splitext(basename(data))[0]: make_result(data, nums) for data, nums in zip(t1_list, t1_num_list)} \n",
    "t2_res_dict = {splitext(basename(data))[0]: ingest2(data, nums) for data, nums in zip(t2_list, t2_num_list)}\n",
    "com_res_dict = {splitext(basename(data))[0]: make_result(data, nums) for data, nums in zip(com_list, com_num_list)}"
   ]
  },
  {
   "cell_type": "code",
   "execution_count": 5,
   "metadata": {
    "collapsed": true
   },
   "outputs": [],
   "source": [
    "T1_df = pd.DataFrame(columns=['Participants No.', 'Task', 'Distance', 'Score', 'Trial'])\n",
    "for key in t1_res_dict.keys():\n",
    "    for i in range(len(t1_res_dict[key]))[::-1]:\n",
    "        T1_df.loc[-1] = [key.split('_')[0].split('p')[-1], 'T1', float(t1_res_dict[key][i][0]), float(t1_res_dict[key][i][1]), i+1]\n",
    "        T1_df.index = T1_df.index+1\n",
    "        T1_df = T1_df.sort_index()\n",
    "    \n",
    "T2_df = pd.DataFrame(columns=['Participants No.', 'Task', 'Distance', 'Score', 'Trial'])\n",
    "for key in list(t2_res_dict.keys()):\n",
    "    for i in range(len(t2_res_dict[key]))[::-1]:\n",
    "        T2_df.loc[-1] = [key.split('_')[0].split('p')[-1], 'T2', float(t2_res_dict[key][i][0]), float(t2_res_dict[key][i][1]), i+1]\n",
    "        T2_df.index = T2_df.index+1\n",
    "        T2_df = T2_df.sort_index()\n",
    "    \n",
    "COM_df = pd.DataFrame(columns=['Participants No.', 'Task', 'Distance', 'Score', 'Trial'])\n",
    "for key in com_res_dict.keys():\n",
    "    for i in range(len(com_res_dict[key]))[::-1]:\n",
    "        COM_df.loc[-1] = [key.split('_')[0].split('p')[-1], 'COM', float(com_res_dict[key][i][0]), float(com_res_dict[key][i][1]), i+1]\n",
    "        COM_df.index = COM_df.index+1\n",
    "        COM_df = COM_df.sort_index()"
   ]
  },
  {
   "cell_type": "code",
   "execution_count": 6,
   "metadata": {
    "collapsed": true
   },
   "outputs": [],
   "source": [
    "df = pd.read_csv('./data/data.csv')\n",
    "T1_df1 = df[df['Task'] == 'T1'].reset_index(drop=True)\n",
    "T2_df1 = df[df['Task'] == 'T2'].reset_index(drop=True)\n",
    "COM_df1 = df[df['Task'] == 'COM'].reset_index(drop=True)"
   ]
  },
  {
   "cell_type": "code",
   "execution_count": 7,
   "metadata": {
    "collapsed": true
   },
   "outputs": [],
   "source": [
    "T1_df = T1_df.append(T1_df1[T1_df1['Participants No.'] == 1], ignore_index=True)\n",
    "T2_df = T2_df.append(T2_df1[T2_df1['Participants No.'] == 1], ignore_index=True)\n",
    "COM_df = COM_df.append(COM_df1[COM_df1['Participants No.'] == 1], ignore_index=True)"
   ]
  },
  {
   "cell_type": "code",
   "execution_count": 8,
   "metadata": {},
   "outputs": [
    {
     "data": {
      "text/html": [
       "<div>\n",
       "<style>\n",
       "    .dataframe thead tr:only-child th {\n",
       "        text-align: right;\n",
       "    }\n",
       "\n",
       "    .dataframe thead th {\n",
       "        text-align: left;\n",
       "    }\n",
       "\n",
       "    .dataframe tbody tr th {\n",
       "        vertical-align: top;\n",
       "    }\n",
       "</style>\n",
       "<table border=\"1\" class=\"dataframe\">\n",
       "  <thead>\n",
       "    <tr style=\"text-align: right;\">\n",
       "      <th></th>\n",
       "      <th>Participants No.</th>\n",
       "      <th>Task</th>\n",
       "      <th>Distance</th>\n",
       "      <th>Score</th>\n",
       "      <th>Trial</th>\n",
       "    </tr>\n",
       "  </thead>\n",
       "  <tbody>\n",
       "    <tr>\n",
       "      <th>0</th>\n",
       "      <td>9</td>\n",
       "      <td>T1</td>\n",
       "      <td>5.457101</td>\n",
       "      <td>0.0</td>\n",
       "      <td>1</td>\n",
       "    </tr>\n",
       "    <tr>\n",
       "      <th>1</th>\n",
       "      <td>9</td>\n",
       "      <td>T1</td>\n",
       "      <td>6.247435</td>\n",
       "      <td>0.0</td>\n",
       "      <td>2</td>\n",
       "    </tr>\n",
       "    <tr>\n",
       "      <th>2</th>\n",
       "      <td>9</td>\n",
       "      <td>T1</td>\n",
       "      <td>10.802543</td>\n",
       "      <td>0.0</td>\n",
       "      <td>3</td>\n",
       "    </tr>\n",
       "    <tr>\n",
       "      <th>3</th>\n",
       "      <td>9</td>\n",
       "      <td>T1</td>\n",
       "      <td>4.176466</td>\n",
       "      <td>0.0</td>\n",
       "      <td>4</td>\n",
       "    </tr>\n",
       "    <tr>\n",
       "      <th>4</th>\n",
       "      <td>9</td>\n",
       "      <td>T1</td>\n",
       "      <td>3.817076</td>\n",
       "      <td>0.0</td>\n",
       "      <td>5</td>\n",
       "    </tr>\n",
       "  </tbody>\n",
       "</table>\n",
       "</div>"
      ],
      "text/plain": [
       "  Participants No. Task   Distance  Score Trial\n",
       "0                9   T1   5.457101    0.0     1\n",
       "1                9   T1   6.247435    0.0     2\n",
       "2                9   T1  10.802543    0.0     3\n",
       "3                9   T1   4.176466    0.0     4\n",
       "4                9   T1   3.817076    0.0     5"
      ]
     },
     "execution_count": 8,
     "metadata": {},
     "output_type": "execute_result"
    }
   ],
   "source": [
    "T1_df.head()"
   ]
  },
  {
   "cell_type": "code",
   "execution_count": 9,
   "metadata": {},
   "outputs": [
    {
     "data": {
      "text/html": [
       "<div>\n",
       "<style>\n",
       "    .dataframe thead tr:only-child th {\n",
       "        text-align: right;\n",
       "    }\n",
       "\n",
       "    .dataframe thead th {\n",
       "        text-align: left;\n",
       "    }\n",
       "\n",
       "    .dataframe tbody tr th {\n",
       "        vertical-align: top;\n",
       "    }\n",
       "</style>\n",
       "<table border=\"1\" class=\"dataframe\">\n",
       "  <thead>\n",
       "    <tr style=\"text-align: right;\">\n",
       "      <th></th>\n",
       "      <th>Participants No.</th>\n",
       "      <th>Task</th>\n",
       "      <th>Distance</th>\n",
       "      <th>Score</th>\n",
       "      <th>Trial</th>\n",
       "    </tr>\n",
       "  </thead>\n",
       "  <tbody>\n",
       "    <tr>\n",
       "      <th>0</th>\n",
       "      <td>9</td>\n",
       "      <td>T2</td>\n",
       "      <td>0.0</td>\n",
       "      <td>40.0</td>\n",
       "      <td>1</td>\n",
       "    </tr>\n",
       "    <tr>\n",
       "      <th>1</th>\n",
       "      <td>9</td>\n",
       "      <td>T2</td>\n",
       "      <td>0.0</td>\n",
       "      <td>40.0</td>\n",
       "      <td>2</td>\n",
       "    </tr>\n",
       "    <tr>\n",
       "      <th>2</th>\n",
       "      <td>9</td>\n",
       "      <td>T2</td>\n",
       "      <td>0.0</td>\n",
       "      <td>39.0</td>\n",
       "      <td>3</td>\n",
       "    </tr>\n",
       "    <tr>\n",
       "      <th>3</th>\n",
       "      <td>9</td>\n",
       "      <td>T2</td>\n",
       "      <td>0.0</td>\n",
       "      <td>40.0</td>\n",
       "      <td>4</td>\n",
       "    </tr>\n",
       "    <tr>\n",
       "      <th>4</th>\n",
       "      <td>9</td>\n",
       "      <td>T2</td>\n",
       "      <td>0.0</td>\n",
       "      <td>38.0</td>\n",
       "      <td>5</td>\n",
       "    </tr>\n",
       "  </tbody>\n",
       "</table>\n",
       "</div>"
      ],
      "text/plain": [
       "  Participants No. Task  Distance  Score Trial\n",
       "0                9   T2       0.0   40.0     1\n",
       "1                9   T2       0.0   40.0     2\n",
       "2                9   T2       0.0   39.0     3\n",
       "3                9   T2       0.0   40.0     4\n",
       "4                9   T2       0.0   38.0     5"
      ]
     },
     "execution_count": 9,
     "metadata": {},
     "output_type": "execute_result"
    }
   ],
   "source": [
    "T2_df.head()"
   ]
  },
  {
   "cell_type": "code",
   "execution_count": 10,
   "metadata": {},
   "outputs": [
    {
     "data": {
      "text/html": [
       "<div>\n",
       "<style>\n",
       "    .dataframe thead tr:only-child th {\n",
       "        text-align: right;\n",
       "    }\n",
       "\n",
       "    .dataframe thead th {\n",
       "        text-align: left;\n",
       "    }\n",
       "\n",
       "    .dataframe tbody tr th {\n",
       "        vertical-align: top;\n",
       "    }\n",
       "</style>\n",
       "<table border=\"1\" class=\"dataframe\">\n",
       "  <thead>\n",
       "    <tr style=\"text-align: right;\">\n",
       "      <th></th>\n",
       "      <th>Participants No.</th>\n",
       "      <th>Task</th>\n",
       "      <th>Distance</th>\n",
       "      <th>Score</th>\n",
       "      <th>Trial</th>\n",
       "    </tr>\n",
       "  </thead>\n",
       "  <tbody>\n",
       "    <tr>\n",
       "      <th>0</th>\n",
       "      <td>9</td>\n",
       "      <td>COM</td>\n",
       "      <td>5.909593</td>\n",
       "      <td>29.0</td>\n",
       "      <td>1</td>\n",
       "    </tr>\n",
       "    <tr>\n",
       "      <th>1</th>\n",
       "      <td>9</td>\n",
       "      <td>COM</td>\n",
       "      <td>7.713701</td>\n",
       "      <td>16.0</td>\n",
       "      <td>2</td>\n",
       "    </tr>\n",
       "    <tr>\n",
       "      <th>2</th>\n",
       "      <td>9</td>\n",
       "      <td>COM</td>\n",
       "      <td>8.130159</td>\n",
       "      <td>23.0</td>\n",
       "      <td>3</td>\n",
       "    </tr>\n",
       "    <tr>\n",
       "      <th>3</th>\n",
       "      <td>9</td>\n",
       "      <td>COM</td>\n",
       "      <td>9.193558</td>\n",
       "      <td>20.0</td>\n",
       "      <td>4</td>\n",
       "    </tr>\n",
       "    <tr>\n",
       "      <th>4</th>\n",
       "      <td>9</td>\n",
       "      <td>COM</td>\n",
       "      <td>6.293320</td>\n",
       "      <td>23.0</td>\n",
       "      <td>5</td>\n",
       "    </tr>\n",
       "  </tbody>\n",
       "</table>\n",
       "</div>"
      ],
      "text/plain": [
       "  Participants No. Task  Distance  Score Trial\n",
       "0                9  COM  5.909593   29.0     1\n",
       "1                9  COM  7.713701   16.0     2\n",
       "2                9  COM  8.130159   23.0     3\n",
       "3                9  COM  9.193558   20.0     4\n",
       "4                9  COM  6.293320   23.0     5"
      ]
     },
     "execution_count": 10,
     "metadata": {},
     "output_type": "execute_result"
    }
   ],
   "source": [
    "COM_df.head()"
   ]
  },
  {
   "cell_type": "markdown",
   "metadata": {},
   "source": [
    "### Visualization"
   ]
  },
  {
   "cell_type": "code",
   "execution_count": 11,
   "metadata": {},
   "outputs": [
    {
     "data": {
      "image/png": "[encoded data removed]",
      "text/plain": [
       "<matplotlib.figure.Figure at 0x17b27fd6cf8>"
      ]
     },
     "metadata": {},
     "output_type": "display_data"
    },
    {
     "data": {
      "image/png": "[encoded data removed]",
      "text/plain": [
       "<matplotlib.figure.Figure at 0x17b2821de48>"
      ]
     },
     "metadata": {},
     "output_type": "display_data"
    }
   ],
   "source": [
    "distance_df = pd.concat([T1_df[['Task','Distance']], COM_df[['Task','Distance']]])\n",
    "score_df = pd.concat([T2_df[['Task', 'Score']], COM_df[['Task', 'Score']]])\n",
    "ax = sns.factorplot(x='Task', y='Distance', data=distance_df, kind='box')\n",
    "ax = sns.factorplot(x='Task', y='Score', data=score_df, kind='box')"
   ]
  },
  {
   "cell_type": "code",
   "execution_count": 12,
   "metadata": {},
   "outputs": [
    {
     "data": {
      "image/png": "[encoded data removed]",
      "text/plain": [
       "<matplotlib.figure.Figure at 0x17b27fe59e8>"
      ]
     },
     "metadata": {},
     "output_type": "display_data"
    }
   ],
   "source": [
    "score_df = pd.concat([T2_df[['Task', 'Score']], COM_df[['Task', 'Score']]])\n",
    "score_df['Score'] = score_df['Score'].astype(float)\n",
    "ax = sns.factorplot(x='Task', y='Score', data=score_df, kind='box')"
   ]
  },
  {
   "cell_type": "markdown",
   "metadata": {},
   "source": [
    "### T-Test"
   ]
  },
  {
   "cell_type": "code",
   "execution_count": 13,
   "metadata": {},
   "outputs": [
    {
     "name": "stdout",
     "output_type": "stream",
     "text": [
      "Distance Average, T1: 5.863\n",
      "Distance Average, COM: 6.314\n"
     ]
    }
   ],
   "source": [
    "print('Distance Average, T1: %.3f' % np.mean(T1_df['Distance']))\n",
    "print('Distance Average, COM: %.3f' % np.mean(COM_df['Distance']))"
   ]
  },
  {
   "cell_type": "code",
   "execution_count": 14,
   "metadata": {},
   "outputs": [
    {
     "name": "stdout",
     "output_type": "stream",
     "text": [
      "Distance, T1 var 3.414\n",
      "Distance, COM var 1.771\n"
     ]
    }
   ],
   "source": [
    "print('Distance, T1 var %.3f' % np.std(T1_df['Distance']))\n",
    "print('Distance, COM var %.3f' % np.std(COM_df['Distance']))"
   ]
  },
  {
   "cell_type": "code",
   "execution_count": 15,
   "metadata": {},
   "outputs": [
    {
     "name": "stdout",
     "output_type": "stream",
     "text": [
      "The T-statistic and p-value between T1 and COM not assuming equal variances is -0.811 and 0.420\n"
     ]
    }
   ],
   "source": [
    "tTestResult = stats.ttest_ind(T1_df['Distance'], COM_df['Distance'], equal_var=False)\n",
    "print(\"The T-statistic and p-value between T1 and COM not assuming equal variances is %.3f and %.3f\" % tTestResult)"
   ]
  },
  {
   "cell_type": "code",
   "execution_count": 16,
   "metadata": {},
   "outputs": [
    {
     "name": "stdout",
     "output_type": "stream",
     "text": [
      "Score Average, T2: 39.436\n",
      "Score Average, COM: 21.479\n"
     ]
    }
   ],
   "source": [
    "print('Score Average, T2: %.3f' % np.mean(T2_df['Score']))\n",
    "print('Score Average, COM: %.3f' % np.mean(COM_df['Score']))"
   ]
  },
  {
   "cell_type": "code",
   "execution_count": 17,
   "metadata": {},
   "outputs": [
    {
     "name": "stdout",
     "output_type": "stream",
     "text": [
      "Score, T2 var 0.804\n",
      "Score, COM var 4.996\n"
     ]
    }
   ],
   "source": [
    "print('Score, T2 var %.3f' % np.std(T2_df['Score']))\n",
    "print('Score, COM var %.3f' % np.std(COM_df['Score']))"
   ]
  },
  {
   "cell_type": "code",
   "execution_count": 18,
   "metadata": {},
   "outputs": [
    {
     "name": "stdout",
     "output_type": "stream",
     "text": [
      "The T-statistic and p-value between task T2 and COM not assuming equal variances is 24.369 and 0.000\n"
     ]
    }
   ],
   "source": [
    "tTestResult = stats.ttest_ind(T2_df['Score'], COM_df['Score'], equal_var=False)\n",
    "print(\"The T-statistic and p-value between task T2 and COM not assuming equal variances is %.3f and %.3f\" % tTestResult)"
   ]
  },
  {
   "cell_type": "markdown",
   "metadata": {},
   "source": [
    "### Cronbach's Alpha"
   ]
  },
  {
   "cell_type": "code",
   "execution_count": 4,
   "metadata": {
    "collapsed": true
   },
   "outputs": [],
   "source": [
    "def CronbachAlpha(items, rev=None):\n",
    "    df = items.copy(deep=True)\n",
    "    if rev is not None:\n",
    "        for pair in rev:\n",
    "            df[pair[0]] = df[pair[0]].apply(lambda x: pair[1] - x)\n",
    "    \n",
    "    itemvars = np.var(df, axis=0)\n",
    "    nitems = len(df)\n",
    "    slist = np.sum(df, axis=1)\n",
    "    sumvar = np.var(slist)\n",
    "    varsum = np.sum(itemvars)\n",
    "\n",
    "    Calpha = ((nitems)/(nitems-1.)) * (1-(varsum/sumvar))\n",
    "    \n",
    "    return Calpha"
   ]
  },
  {
   "cell_type": "code",
   "execution_count": 5,
   "metadata": {
    "collapsed": true
   },
   "outputs": [],
   "source": [
    "def ingest(file):\n",
    "    df = pd.read_csv(file).dropna(axis=1)\n",
    "    vreq_df = df.filter(regex=(\"VREQ*\"))\n",
    "    spes_df = df.filter(regex=(\"SPES*\"))\n",
    "    tlx_df = df.filter(regex=(\"TLX*\"))\n",
    "    \n",
    "    return [vreq_df, spes_df, tlx_df]"
   ]
  },
  {
   "cell_type": "code",
   "execution_count": 6,
   "metadata": {
    "collapsed": true
   },
   "outputs": [],
   "source": [
    "t1 = ingest('./data/T1.csv')\n",
    "t2 = ingest('./data/T2.csv')\n",
    "com = ingest('./data/combined.csv')"
   ]
  },
  {
   "cell_type": "code",
   "execution_count": 7,
   "metadata": {
    "collapsed": true
   },
   "outputs": [],
   "source": [
    "t1_with_sum = deepcopy(t1)\n",
    "t2_with_sum = deepcopy(t2)\n",
    "com_with_sum = deepcopy(com)"
   ]
  },
  {
   "cell_type": "code",
   "execution_count": 23,
   "metadata": {
    "collapsed": true
   },
   "outputs": [],
   "source": [
    "# t1[0], t2[0], com[0] = t1[0].drop('VREQSUM', axis=1), t2[0].drop('VREQSUM', axis=1), com[0].drop('VREQSUM', axis=1)\n",
    "# t1[1], t2[1], com[1] = t1[1].drop('SPESSUM', axis=1), t2[1].drop('SPESSUM', axis=1), com[1].drop('SPESSUM', axis=1)\n",
    "# t1[2], t2[2], com[2] = t1[2].drop('TLX-SUM', axis=1), com[2].drop('TLX-SUM', axis=1), com[2].drop('TLX-SUM', axis=1),"
   ]
  },
  {
   "cell_type": "code",
   "execution_count": 9,
   "metadata": {
    "scrolled": true
   },
   "outputs": [
    {
     "data": {
      "text/html": [
       "<table>\n",
       "<tbody>\n",
       "<tr><td>   </td><td>VREQ </td><td>SPES </td><td>TLX  </td></tr>\n",
       "<tr><td>T1 </td><td>0.762</td><td>0.37 </td><td>0.303</td></tr>\n",
       "<tr><td>T2 </td><td>0.701</td><td>0.734</td><td>0.146</td></tr>\n",
       "<tr><td>T3 </td><td>0.784</td><td>0.324</td><td>0.511</td></tr>\n",
       "<tr><td>ALL</td><td>0.667</td><td>0.625</td><td>0.722</td></tr>\n",
       "</tbody>\n",
       "</table>"
      ],
      "text/plain": [
       "<IPython.core.display.HTML object>"
      ]
     },
     "metadata": {},
     "output_type": "display_data"
    }
   ],
   "source": [
    "table = [['', 'VREQ', 'SPES', 'TLX'],\n",
    "         ['T1', round(CronbachAlpha(t1[0], [['VREQ6', 6]]), 3), round(CronbachAlpha(t1[1]), 3), round(CronbachAlpha(t1[2], [['TLX-Perf', 8]]), 3)],\n",
    "         ['T2', round(CronbachAlpha(t2[0], [['VREQ6', 6]]), 3), round(CronbachAlpha(t2[1]), 3), round(CronbachAlpha(t2[2], [['TLX-Perf', 8]]), 3)],\n",
    "         ['T3', round(CronbachAlpha(com[0], [['VREQ6', 6]]), 3), round(CronbachAlpha(com[1]), 3), round(CronbachAlpha(com[2], [['TLX-Perf', 8]]), 3)],\n",
    "         ['ALL', round(CronbachAlpha(pd.concat([t1[0], t2[0], com[0]], axis=0), [['VREQ6', 6]]), 3), round(CronbachAlpha(pd.concat([t1[1], t2[1], com[1]], axis=0)), 3), round(CronbachAlpha(pd.concat([t1[2], t2[2], com[2]], axis=0), [['TLX-Perf', 8]]), 3)]]\n",
    "\n",
    "display(HTML(tabulate.tabulate(table, tablefmt='html')))"
   ]
  },
  {
   "cell_type": "markdown",
   "metadata": {},
   "source": [
    "### Visualization"
   ]
  },
  {
   "cell_type": "code",
   "execution_count": 10,
   "metadata": {
    "collapsed": true
   },
   "outputs": [],
   "source": [
    "def concatenate(l, label):\n",
    "    assert(len(l) == len(label))\n",
    "    li = []\n",
    "    for i in range(len(l)):\n",
    "        temp = l[i].copy(deep=True)\n",
    "        temp['Task'] = pd.Series([label[i]] * len(temp))\n",
    "        li.append(temp)\n",
    "        \n",
    "    return pd.concat(li)"
   ]
  },
  {
   "cell_type": "code",
   "execution_count": 11,
   "metadata": {
    "collapsed": true
   },
   "outputs": [],
   "source": [
    "label = ['T1', 'T2', 'COM']\n",
    "vreq_df = concatenate([t1_with_sum[0], t2_with_sum[0], com_with_sum[0]], label)\n",
    "spes_df = concatenate([t1_with_sum[1], t2_with_sum[1], com_with_sum[1]], label)\n",
    "tlx_df = concatenate([t1_with_sum[2], t2_with_sum[2], com_with_sum[2]], label)"
   ]
  },
  {
   "cell_type": "code",
   "execution_count": 12,
   "metadata": {},
   "outputs": [
    {
     "data": {
      "text/plain": [
       "Index(['TLX-Mental', 'TLX-Physical', 'TLX-Perf', 'TLX-Effort',\n",
       "       'TLX-Frustration', 'Task'],\n",
       "      dtype='object')"
      ]
     },
     "execution_count": 12,
     "metadata": {},
     "output_type": "execute_result"
    }
   ],
   "source": [
    "tlx_df.columns"
   ]
  },
  {
   "cell_type": "code",
   "execution_count": 14,
   "metadata": {},
   "outputs": [
    {
     "name": "stdout",
     "output_type": "stream",
     "text": [
      "VREQ1\n",
      "VREQ1    3.583333\n",
      "VREQ2    4.416667\n",
      "VREQ3    3.750000\n",
      "VREQ4    3.500000\n",
      "VREQ5    4.500000\n",
      "VREQ6    3.333333\n",
      "VREQ7    3.250000\n",
      "dtype: float64\n",
      "VREQ1    0.640095\n",
      "VREQ2    0.862007\n",
      "VREQ3    0.924211\n",
      "VREQ4    0.866025\n",
      "VREQ5    0.500000\n",
      "VREQ6    1.105542\n",
      "VREQ7    0.595119\n",
      "dtype: float64\n",
      "[1.   1.   0.25 1.   1.   2.   1.  ]\n",
      "----------------------------------------\n",
      "VREQ1    4.166667\n",
      "VREQ2    4.416667\n",
      "VREQ3    4.250000\n",
      "VREQ4    3.916667\n",
      "VREQ5    3.166667\n",
      "VREQ6    1.666667\n",
      "VREQ7    3.666667\n",
      "dtype: float64\n",
      "VREQ1    0.897527\n",
      "VREQ2    0.953794\n",
      "VREQ3    0.721688\n",
      "VREQ4    1.320248\n",
      "VREQ5    1.343710\n",
      "VREQ6    1.105542\n",
      "VREQ7    0.942809\n",
      "dtype: float64\n",
      "[1.   1.   1.   2.   2.25 1.   1.  ]\n",
      "----------------------------------------\n",
      "VREQ1    3.083333\n",
      "VREQ2    4.333333\n",
      "VREQ3    3.583333\n",
      "VREQ4    3.416667\n",
      "VREQ5    3.916667\n",
      "VREQ6    4.083333\n",
      "VREQ7    3.500000\n",
      "dtype: float64\n",
      "VREQ1    0.862007\n",
      "VREQ2    0.623610\n",
      "VREQ3    1.037492\n",
      "VREQ4    1.037492\n",
      "VREQ5    0.759203\n",
      "VREQ6    1.037492\n",
      "VREQ7    0.645497\n",
      "dtype: float64\n",
      "[2.   1.   1.25 1.   0.   2.   1.  ]\n",
      "----------------------------------------\n",
      "SPES1\n",
      "SPES1    4.250000\n",
      "SPES2    4.666667\n",
      "SPES3    3.833333\n",
      "SPES4    3.416667\n",
      "dtype: float64\n",
      "SPES1    0.595119\n",
      "SPES2    0.623610\n",
      "SPES3    0.986013\n",
      "SPES4    0.953794\n",
      "dtype: float64\n",
      "[1.   0.25 2.   1.  ]\n",
      "----------------------------------------\n",
      "SPES1    3.333333\n",
      "SPES2    4.083333\n",
      "SPES3    2.750000\n",
      "SPES4    2.916667\n",
      "dtype: float64\n",
      "SPES1    1.374369\n",
      "SPES2    1.187317\n",
      "SPES3    1.163687\n",
      "SPES4    1.381927\n",
      "dtype: float64\n",
      "[1.5  2.   1.25 2.25]\n",
      "----------------------------------------\n",
      "SPES1    4.166667\n",
      "SPES2    4.583333\n",
      "SPES3    4.000000\n",
      "SPES4    3.750000\n",
      "dtype: float64\n",
      "SPES1    0.687184\n",
      "SPES2    0.640095\n",
      "SPES3    0.816497\n",
      "SPES4    0.924211\n",
      "dtype: float64\n",
      "[1.   1.   0.25 1.25]\n",
      "----------------------------------------\n",
      "TLX-Mental\n",
      "TLX-Mental         3.000000\n",
      "TLX-Physical       4.416667\n",
      "TLX-Perf           4.083333\n",
      "TLX-Effort         4.833333\n",
      "TLX-Frustration    2.666667\n",
      "dtype: float64\n",
      "TLX-Mental         0.912871\n",
      "TLX-Physical       1.037492\n",
      "TLX-Perf           1.114924\n",
      "TLX-Effort         1.067187\n",
      "TLX-Frustration    1.105542\n",
      "dtype: float64\n",
      "[0.   1.25 2.   1.25 1.25]\n",
      "----------------------------------------\n",
      "TLX-Mental         1.500000\n",
      "TLX-Physical       1.583333\n",
      "TLX-Perf           5.666667\n",
      "TLX-Effort         2.250000\n",
      "TLX-Frustration    1.333333\n",
      "dtype: float64\n",
      "TLX-Mental         0.645497\n",
      "TLX-Physical       1.037492\n",
      "TLX-Perf           1.699673\n",
      "TLX-Effort         1.785357\n",
      "TLX-Frustration    0.471405\n",
      "dtype: float64\n",
      "[1.  0.5 2.  1.  1. ]\n",
      "----------------------------------------\n",
      "TLX-Mental         4.833333\n",
      "TLX-Physical       6.000000\n",
      "TLX-Perf           3.750000\n",
      "TLX-Effort         6.583333\n",
      "TLX-Frustration    3.916667\n",
      "dtype: float64\n",
      "TLX-Mental         1.674979\n",
      "TLX-Physical       0.912871\n",
      "TLX-Perf           0.924211\n",
      "TLX-Effort         0.493007\n",
      "TLX-Frustration    1.114924\n",
      "dtype: float64\n",
      "[2.25 1.25 1.25 1.   1.  ]\n",
      "----------------------------------------\n"
     ]
    }
   ],
   "source": [
    "dfs = [vreq_df, spes_df, tlx_df]\n",
    "df_labels = [['VREQ1', 'VREQ2', 'VREQ3', 'VREQ4', 'VREQ5', 'VREQ6', 'VREQ7'], \n",
    "             ['SPES1', 'SPES2', 'SPES3', 'SPES4'], \n",
    "             ['TLX-Mental', 'TLX-Physical', 'TLX-Perf', 'TLX-Effort', 'TLX-Frustration']]\n",
    "for i in range(len(dfs)):\n",
    "    print(df_labels[i][0])\n",
    "    for l in label:\n",
    "        tmp = dfs[i][dfs[i]['Task'] == l][df_labels[i]]\n",
    "        print(np.mean(tmp, axis=0))\n",
    "        print(np.std(tmp, axis=0))\n",
    "        print(stats.iqr(tmp, axis=0))\n",
    "        print('-' * 40)"
   ]
  },
  {
   "cell_type": "code",
   "execution_count": 15,
   "metadata": {},
   "outputs": [
    {
     "data": {
      "image/png": "[encoded data removed]",
      "text/plain": [
       "<matplotlib.figure.Figure at 0x226eb695e48>"
      ]
     },
     "metadata": {},
     "output_type": "display_data"
    },
    {
     "data": {
      "image/png": "[encoded data removed]",
      "text/plain": [
       "<matplotlib.figure.Figure at 0x226ebce6898>"
      ]
     },
     "metadata": {},
     "output_type": "display_data"
    },
    {
     "data": {
      "image/png": "[encoded data removed]",
      "text/plain": [
       "<matplotlib.figure.Figure at 0x226ebe93320>"
      ]
     },
     "metadata": {},
     "output_type": "display_data"
    }
   ],
   "source": [
    "ax = sns.factorplot(x='items', y='value', col='Task', data=vreq_df.melt(id_vars=['Task'], var_name='items'), kind='box')\n",
    "ax = sns.factorplot(x='items', y='value', col='Task', data=spes_df.melt(id_vars=['Task'], var_name='items'), kind='box')\n",
    "ax = sns.factorplot(x='items', y='value', col='Task', data=tlx_df.melt(id_vars=['Task'], var_name='items'), kind='box')"
   ]
  },
  {
   "cell_type": "markdown",
   "metadata": {},
   "source": [
    "### ANOVA"
   ]
  },
  {
   "cell_type": "code",
   "execution_count": 16,
   "metadata": {
    "collapsed": true
   },
   "outputs": [],
   "source": [
    "def onewayAnova(df, columns, rev=None):\n",
    "    ret = []\n",
    "    temp = df.copy(deep=True)\n",
    "    if rev is not None:\n",
    "        for pair in rev:\n",
    "            temp[pair[0]] = df[pair[0]].apply(lambda x: pair[1] - x)\n",
    "            \n",
    "    for column in columns:\n",
    "        tmpSeries = temp[[column, 'Task']]\n",
    "        ret.append([column, stats.f_oneway(tmpSeries[tmpSeries['Task'] == 'T1'][column], \n",
    "                                           tmpSeries[tmpSeries['Task'] == 'T2'][column],\n",
    "                                           tmpSeries[tmpSeries['Task'] == 'COM'][column])])\n",
    "        \n",
    "    return ret\n",
    "        "
   ]
  },
  {
   "cell_type": "code",
   "execution_count": 17,
   "metadata": {
    "collapsed": true
   },
   "outputs": [],
   "source": [
    "vreq_columns = [x for x in vreq_df.columns if x is not 'Task']\n",
    "spes_columns = [x for x in spes_df.columns if x is not 'Task']\n",
    "tlx_columns = [x for x in tlx_df.columns if x is not 'Task']\n",
    "\n",
    "vreq_stats = onewayAnova(vreq_df, vreq_columns, [['VREQ6', 6]])\n",
    "spes_stats = onewayAnova(spes_df, spes_columns)\n",
    "tlx_stats = onewayAnova(tlx_df, tlx_columns, [['TLX-Perf', 8]])"
   ]
  },
  {
   "cell_type": "code",
   "execution_count": 18,
   "metadata": {
    "collapsed": true
   },
   "outputs": [],
   "source": [
    "def make_table_elem(stats):\n",
    "    li = []\n",
    "    for stat in stats:\n",
    "        li.append([stat[0], round(stat[1][0], 3), round(stat[1][1], 3)])\n",
    "        \n",
    "    return [['', 'F-value', 'p-value']] + li"
   ]
  },
  {
   "cell_type": "code",
   "execution_count": 19,
   "metadata": {},
   "outputs": [
    {
     "data": {
      "text/html": [
       "<table>\n",
       "<tbody>\n",
       "<tr><td>     </td><td>F-value</td><td>p-value</td></tr>\n",
       "<tr><td>VREQ1</td><td>4.954  </td><td>0.013  </td></tr>\n",
       "<tr><td>VREQ2</td><td>0.037  </td><td>0.963  </td></tr>\n",
       "<tr><td>VREQ3</td><td>1.62   </td><td>0.213  </td></tr>\n",
       "<tr><td>VREQ4</td><td>0.663  </td><td>0.522  </td></tr>\n",
       "<tr><td>VREQ5</td><td>5.602  </td><td>0.008  </td></tr>\n",
       "<tr><td>VREQ6</td><td>14.341 </td><td>0.0    </td></tr>\n",
       "<tr><td>VREQ7</td><td>0.874  </td><td>0.427  </td></tr>\n",
       "</tbody>\n",
       "</table>"
      ],
      "text/plain": [
       "<IPython.core.display.HTML object>"
      ]
     },
     "metadata": {},
     "output_type": "display_data"
    }
   ],
   "source": [
    "display(HTML(tabulate.tabulate(make_table_elem(vreq_stats), tablefmt='html')))"
   ]
  },
  {
   "cell_type": "code",
   "execution_count": 20,
   "metadata": {},
   "outputs": [
    {
     "data": {
      "text/html": [
       "<table>\n",
       "<tbody>\n",
       "<tr><td>     </td><td>F-value</td><td>p-value</td></tr>\n",
       "<tr><td>SPES1</td><td>3.123  </td><td>0.057  </td></tr>\n",
       "<tr><td>SPES2</td><td>1.487  </td><td>0.241  </td></tr>\n",
       "<tr><td>SPES3</td><td>5.079  </td><td>0.012  </td></tr>\n",
       "<tr><td>SPES4</td><td>1.58   </td><td>0.221  </td></tr>\n",
       "</tbody>\n",
       "</table>"
      ],
      "text/plain": [
       "<IPython.core.display.HTML object>"
      ]
     },
     "metadata": {},
     "output_type": "display_data"
    }
   ],
   "source": [
    "display(HTML(tabulate.tabulate(make_table_elem(spes_stats), tablefmt='html')))"
   ]
  },
  {
   "cell_type": "code",
   "execution_count": 21,
   "metadata": {},
   "outputs": [
    {
     "data": {
      "text/html": [
       "<table>\n",
       "<tbody>\n",
       "<tr><td>               </td><td>F-value</td><td>p-value</td></tr>\n",
       "<tr><td>TLX-Mental     </td><td>22.678 </td><td>0.0    </td></tr>\n",
       "<tr><td>TLX-Physical   </td><td>55.333 </td><td>0.0    </td></tr>\n",
       "<tr><td>TLX-Perf       </td><td>6.94   </td><td>0.003  </td></tr>\n",
       "<tr><td>TLX-Effort     </td><td>34.321 </td><td>0.0    </td></tr>\n",
       "<tr><td>TLX-Frustration</td><td>20.494 </td><td>0.0    </td></tr>\n",
       "</tbody>\n",
       "</table>"
      ],
      "text/plain": [
       "<IPython.core.display.HTML object>"
      ]
     },
     "metadata": {},
     "output_type": "display_data"
    }
   ],
   "source": [
    "display(HTML(tabulate.tabulate(make_table_elem(tlx_stats), tablefmt='html')))"
   ]
  },
  {
   "cell_type": "markdown",
   "metadata": {},
   "source": [
    "### Post-Hoc(Tukey)"
   ]
  },
  {
   "cell_type": "code",
   "execution_count": 37,
   "metadata": {
    "collapsed": true
   },
   "outputs": [],
   "source": [
    "def post_hoc_tukey(df, columns, rev=None):\n",
    "    temp = df.copy(deep=True)\n",
    "    if rev is not None:\n",
    "        for pair in rev:\n",
    "            temp[pair[0]] = df[pair[0]].apply(lambda x: pair[1] - x)\n",
    "            \n",
    "    for column in columns:\n",
    "        res = pairwise_tukeyhsd(df[column], df['Task'])\n",
    "        print('Tukey post-hoc of %s' % column)\n",
    "        display(res.summary())   "
   ]
  },
  {
   "cell_type": "code",
   "execution_count": 38,
   "metadata": {
    "scrolled": false
   },
   "outputs": [
    {
     "name": "stdout",
     "output_type": "stream",
     "text": [
      "Tukey post-hoc of VREQ1\n"
     ]
    },
    {
     "data": {
      "text/html": [
       "<table class=\"simpletable\">\n",
       "<caption>Multiple Comparison of Means - Tukey HSD,FWER=0.05</caption>\n",
       "<tr>\n",
       "  <th>group1</th> <th>group2</th> <th>meandiff</th>  <th>lower</th>   <th>upper</th> <th>reject</th>\n",
       "</tr>\n",
       "<tr>\n",
       "    <td>COM</td>    <td>T1</td>      <td>0.5</td>   <td>-0.3452</td> <td>1.3452</td>  <td>False</td>\n",
       "</tr>\n",
       "<tr>\n",
       "    <td>COM</td>    <td>T2</td>    <td>1.0833</td>  <td>0.2381</td>  <td>1.9285</td>  <td>True</td> \n",
       "</tr>\n",
       "<tr>\n",
       "    <td>T1</td>     <td>T2</td>    <td>0.5833</td>  <td>-0.2619</td> <td>1.4285</td>  <td>False</td>\n",
       "</tr>\n",
       "</table>"
      ],
      "text/plain": [
       "<class 'statsmodels.iolib.table.SimpleTable'>"
      ]
     },
     "metadata": {},
     "output_type": "display_data"
    },
    {
     "name": "stdout",
     "output_type": "stream",
     "text": [
      "Tukey post-hoc of VREQ5\n"
     ]
    },
    {
     "data": {
      "text/html": [
       "<table class=\"simpletable\">\n",
       "<caption>Multiple Comparison of Means - Tukey HSD,FWER=0.05</caption>\n",
       "<tr>\n",
       "  <th>group1</th> <th>group2</th> <th>meandiff</th>  <th>lower</th>   <th>upper</th> <th>reject</th>\n",
       "</tr>\n",
       "<tr>\n",
       "    <td>COM</td>    <td>T1</td>    <td>0.0833</td>  <td>-0.7797</td> <td>0.9463</td>  <td>False</td>\n",
       "</tr>\n",
       "<tr>\n",
       "    <td>COM</td>    <td>T2</td>    <td>0.0833</td>  <td>-0.7797</td> <td>0.9463</td>  <td>False</td>\n",
       "</tr>\n",
       "<tr>\n",
       "    <td>T1</td>     <td>T2</td>      <td>0.0</td>   <td>-0.863</td>   <td>0.863</td>  <td>False</td>\n",
       "</tr>\n",
       "</table>"
      ],
      "text/plain": [
       "<class 'statsmodels.iolib.table.SimpleTable'>"
      ]
     },
     "metadata": {},
     "output_type": "display_data"
    },
    {
     "name": "stdout",
     "output_type": "stream",
     "text": [
      "Tukey post-hoc of VREQ6\n"
     ]
    },
    {
     "data": {
      "text/html": [
       "<table class=\"simpletable\">\n",
       "<caption>Multiple Comparison of Means - Tukey HSD,FWER=0.05</caption>\n",
       "<tr>\n",
       "  <th>group1</th> <th>group2</th> <th>meandiff</th>  <th>lower</th>   <th>upper</th> <th>reject</th>\n",
       "</tr>\n",
       "<tr>\n",
       "    <td>COM</td>    <td>T1</td>    <td>0.1667</td>  <td>-0.779</td>  <td>1.1123</td>  <td>False</td>\n",
       "</tr>\n",
       "<tr>\n",
       "    <td>COM</td>    <td>T2</td>    <td>0.6667</td>  <td>-0.279</td>  <td>1.6123</td>  <td>False</td>\n",
       "</tr>\n",
       "<tr>\n",
       "    <td>T1</td>     <td>T2</td>      <td>0.5</td>   <td>-0.4456</td> <td>1.4456</td>  <td>False</td>\n",
       "</tr>\n",
       "</table>"
      ],
      "text/plain": [
       "<class 'statsmodels.iolib.table.SimpleTable'>"
      ]
     },
     "metadata": {},
     "output_type": "display_data"
    },
    {
     "name": "stdout",
     "output_type": "stream",
     "text": [
      "Tukey post-hoc of VREQ7\n"
     ]
    },
    {
     "data": {
      "text/html": [
       "<table class=\"simpletable\">\n",
       "<caption>Multiple Comparison of Means - Tukey HSD,FWER=0.05</caption>\n",
       "<tr>\n",
       "  <th>group1</th> <th>group2</th> <th>meandiff</th>  <th>lower</th>   <th>upper</th> <th>reject</th>\n",
       "</tr>\n",
       "<tr>\n",
       "    <td>COM</td>    <td>T1</td>    <td>0.0833</td>  <td>-1.0578</td> <td>1.2244</td>  <td>False</td>\n",
       "</tr>\n",
       "<tr>\n",
       "    <td>COM</td>    <td>T2</td>      <td>0.5</td>   <td>-0.6411</td> <td>1.6411</td>  <td>False</td>\n",
       "</tr>\n",
       "<tr>\n",
       "    <td>T1</td>     <td>T2</td>    <td>0.4167</td>  <td>-0.7244</td> <td>1.5578</td>  <td>False</td>\n",
       "</tr>\n",
       "</table>"
      ],
      "text/plain": [
       "<class 'statsmodels.iolib.table.SimpleTable'>"
      ]
     },
     "metadata": {},
     "output_type": "display_data"
    },
    {
     "name": "stdout",
     "output_type": "stream",
     "text": [
      "Tukey post-hoc of VREQ8\n"
     ]
    },
    {
     "data": {
      "text/html": [
       "<table class=\"simpletable\">\n",
       "<caption>Multiple Comparison of Means - Tukey HSD,FWER=0.05</caption>\n",
       "<tr>\n",
       "  <th>group1</th> <th>group2</th> <th>meandiff</th>  <th>lower</th>   <th>upper</th>  <th>reject</th>\n",
       "</tr>\n",
       "<tr>\n",
       "    <td>COM</td>    <td>T1</td>    <td>0.5833</td>  <td>-0.3965</td> <td>1.5632</td>   <td>False</td>\n",
       "</tr>\n",
       "<tr>\n",
       "    <td>COM</td>    <td>T2</td>     <td>-0.75</td>  <td>-1.7298</td> <td>0.2298</td>   <td>False</td>\n",
       "</tr>\n",
       "<tr>\n",
       "    <td>T1</td>     <td>T2</td>    <td>-1.3333</td> <td>-2.3132</td> <td>-0.3535</td>  <td>True</td> \n",
       "</tr>\n",
       "</table>"
      ],
      "text/plain": [
       "<class 'statsmodels.iolib.table.SimpleTable'>"
      ]
     },
     "metadata": {},
     "output_type": "display_data"
    },
    {
     "name": "stdout",
     "output_type": "stream",
     "text": [
      "Tukey post-hoc of VREQ9\n"
     ]
    },
    {
     "data": {
      "text/html": [
       "<table class=\"simpletable\">\n",
       "<caption>Multiple Comparison of Means - Tukey HSD,FWER=0.05</caption>\n",
       "<tr>\n",
       "  <th>group1</th> <th>group2</th> <th>meandiff</th>  <th>lower</th>   <th>upper</th>  <th>reject</th>\n",
       "</tr>\n",
       "<tr>\n",
       "    <td>COM</td>    <td>T1</td>     <td>-0.75</td>  <td>-1.8833</td> <td>0.3833</td>   <td>False</td>\n",
       "</tr>\n",
       "<tr>\n",
       "    <td>COM</td>    <td>T2</td>    <td>-2.4167</td>  <td>-3.55</td>  <td>-1.2834</td>  <td>True</td> \n",
       "</tr>\n",
       "<tr>\n",
       "    <td>T1</td>     <td>T2</td>    <td>-1.6667</td>  <td>-2.8</td>   <td>-0.5334</td>  <td>True</td> \n",
       "</tr>\n",
       "</table>"
      ],
      "text/plain": [
       "<class 'statsmodels.iolib.table.SimpleTable'>"
      ]
     },
     "metadata": {},
     "output_type": "display_data"
    },
    {
     "name": "stdout",
     "output_type": "stream",
     "text": [
      "Tukey post-hoc of VREQ10\n"
     ]
    },
    {
     "data": {
      "text/html": [
       "<table class=\"simpletable\">\n",
       "<caption>Multiple Comparison of Means - Tukey HSD,FWER=0.05</caption>\n",
       "<tr>\n",
       "  <th>group1</th> <th>group2</th> <th>meandiff</th>  <th>lower</th>   <th>upper</th> <th>reject</th>\n",
       "</tr>\n",
       "<tr>\n",
       "    <td>COM</td>    <td>T1</td>     <td>-0.25</td>  <td>-1.0281</td> <td>0.5281</td>  <td>False</td>\n",
       "</tr>\n",
       "<tr>\n",
       "    <td>COM</td>    <td>T2</td>    <td>0.1667</td>  <td>-0.6114</td> <td>0.9448</td>  <td>False</td>\n",
       "</tr>\n",
       "<tr>\n",
       "    <td>T1</td>     <td>T2</td>    <td>0.4167</td>  <td>-0.3614</td> <td>1.1948</td>  <td>False</td>\n",
       "</tr>\n",
       "</table>"
      ],
      "text/plain": [
       "<class 'statsmodels.iolib.table.SimpleTable'>"
      ]
     },
     "metadata": {},
     "output_type": "display_data"
    },
    {
     "name": "stdout",
     "output_type": "stream",
     "text": [
      "Tukey post-hoc of VREQSUM\n"
     ]
    },
    {
     "data": {
      "text/html": [
       "<table class=\"simpletable\">\n",
       "<caption>Multiple Comparison of Means - Tukey HSD,FWER=0.05</caption>\n",
       "<tr>\n",
       "  <th>group1</th> <th>group2</th> <th>meandiff</th>  <th>lower</th>   <th>upper</th> <th>reject</th>\n",
       "</tr>\n",
       "<tr>\n",
       "    <td>COM</td>    <td>T1</td>    <td>0.2742</td>  <td>-0.3734</td> <td>0.9217</td>  <td>False</td>\n",
       "</tr>\n",
       "<tr>\n",
       "    <td>COM</td>    <td>T2</td>    <td>0.5958</td>  <td>-0.0517</td> <td>1.2434</td>  <td>False</td>\n",
       "</tr>\n",
       "<tr>\n",
       "    <td>T1</td>     <td>T2</td>    <td>0.3217</td>  <td>-0.3259</td> <td>0.9692</td>  <td>False</td>\n",
       "</tr>\n",
       "</table>"
      ],
      "text/plain": [
       "<class 'statsmodels.iolib.table.SimpleTable'>"
      ]
     },
     "metadata": {},
     "output_type": "display_data"
    }
   ],
   "source": [
    "post_hoc_tukey(vreq_df, vreq_columns, [['VREQ9', 6]])"
   ]
  },
  {
   "cell_type": "code",
   "execution_count": 39,
   "metadata": {
    "scrolled": false
   },
   "outputs": [
    {
     "name": "stdout",
     "output_type": "stream",
     "text": [
      "Tukey post-hoc of SPES1\n"
     ]
    },
    {
     "data": {
      "text/html": [
       "<table class=\"simpletable\">\n",
       "<caption>Multiple Comparison of Means - Tukey HSD,FWER=0.05</caption>\n",
       "<tr>\n",
       "  <th>group1</th> <th>group2</th> <th>meandiff</th>  <th>lower</th>   <th>upper</th> <th>reject</th>\n",
       "</tr>\n",
       "<tr>\n",
       "    <td>COM</td>    <td>T1</td>    <td>0.0833</td>  <td>-0.9119</td> <td>1.0786</td>  <td>False</td>\n",
       "</tr>\n",
       "<tr>\n",
       "    <td>COM</td>    <td>T2</td>    <td>-0.8333</td> <td>-1.8286</td> <td>0.1619</td>  <td>False</td>\n",
       "</tr>\n",
       "<tr>\n",
       "    <td>T1</td>     <td>T2</td>    <td>-0.9167</td> <td>-1.9119</td> <td>0.0786</td>  <td>False</td>\n",
       "</tr>\n",
       "</table>"
      ],
      "text/plain": [
       "<class 'statsmodels.iolib.table.SimpleTable'>"
      ]
     },
     "metadata": {},
     "output_type": "display_data"
    },
    {
     "name": "stdout",
     "output_type": "stream",
     "text": [
      "Tukey post-hoc of SPES2\n"
     ]
    },
    {
     "data": {
      "text/html": [
       "<table class=\"simpletable\">\n",
       "<caption>Multiple Comparison of Means - Tukey HSD,FWER=0.05</caption>\n",
       "<tr>\n",
       "  <th>group1</th> <th>group2</th> <th>meandiff</th>  <th>lower</th>   <th>upper</th> <th>reject</th>\n",
       "</tr>\n",
       "<tr>\n",
       "    <td>COM</td>    <td>T1</td>    <td>0.0833</td>  <td>-0.8142</td> <td>0.9809</td>  <td>False</td>\n",
       "</tr>\n",
       "<tr>\n",
       "    <td>COM</td>    <td>T2</td>     <td>-0.5</td>   <td>-1.3975</td> <td>0.3975</td>  <td>False</td>\n",
       "</tr>\n",
       "<tr>\n",
       "    <td>T1</td>     <td>T2</td>    <td>-0.5833</td> <td>-1.4809</td> <td>0.3142</td>  <td>False</td>\n",
       "</tr>\n",
       "</table>"
      ],
      "text/plain": [
       "<class 'statsmodels.iolib.table.SimpleTable'>"
      ]
     },
     "metadata": {},
     "output_type": "display_data"
    },
    {
     "name": "stdout",
     "output_type": "stream",
     "text": [
      "Tukey post-hoc of SPES3\n"
     ]
    },
    {
     "data": {
      "text/html": [
       "<table class=\"simpletable\">\n",
       "<caption>Multiple Comparison of Means - Tukey HSD,FWER=0.05</caption>\n",
       "<tr>\n",
       "  <th>group1</th> <th>group2</th> <th>meandiff</th>  <th>lower</th>   <th>upper</th>  <th>reject</th>\n",
       "</tr>\n",
       "<tr>\n",
       "    <td>COM</td>    <td>T1</td>    <td>-0.1667</td> <td>-1.2116</td> <td>0.8782</td>   <td>False</td>\n",
       "</tr>\n",
       "<tr>\n",
       "    <td>COM</td>    <td>T2</td>     <td>-1.25</td>  <td>-2.2949</td> <td>-0.2051</td>  <td>True</td> \n",
       "</tr>\n",
       "<tr>\n",
       "    <td>T1</td>     <td>T2</td>    <td>-1.0833</td> <td>-2.1282</td> <td>-0.0384</td>  <td>True</td> \n",
       "</tr>\n",
       "</table>"
      ],
      "text/plain": [
       "<class 'statsmodels.iolib.table.SimpleTable'>"
      ]
     },
     "metadata": {},
     "output_type": "display_data"
    },
    {
     "name": "stdout",
     "output_type": "stream",
     "text": [
      "Tukey post-hoc of SPES4\n"
     ]
    },
    {
     "data": {
      "text/html": [
       "<table class=\"simpletable\">\n",
       "<caption>Multiple Comparison of Means - Tukey HSD,FWER=0.05</caption>\n",
       "<tr>\n",
       "  <th>group1</th> <th>group2</th> <th>meandiff</th>  <th>lower</th>   <th>upper</th> <th>reject</th>\n",
       "</tr>\n",
       "<tr>\n",
       "    <td>COM</td>    <td>T1</td>    <td>-0.3333</td> <td>-1.491</td>  <td>0.8243</td>  <td>False</td>\n",
       "</tr>\n",
       "<tr>\n",
       "    <td>COM</td>    <td>T2</td>    <td>-0.8333</td> <td>-1.991</td>  <td>0.3243</td>  <td>False</td>\n",
       "</tr>\n",
       "<tr>\n",
       "    <td>T1</td>     <td>T2</td>     <td>-0.5</td>   <td>-1.6576</td> <td>0.6576</td>  <td>False</td>\n",
       "</tr>\n",
       "</table>"
      ],
      "text/plain": [
       "<class 'statsmodels.iolib.table.SimpleTable'>"
      ]
     },
     "metadata": {},
     "output_type": "display_data"
    },
    {
     "name": "stdout",
     "output_type": "stream",
     "text": [
      "Tukey post-hoc of SPESSUM\n"
     ]
    },
    {
     "data": {
      "text/html": [
       "<table class=\"simpletable\">\n",
       "<caption>Multiple Comparison of Means - Tukey HSD,FWER=0.05</caption>\n",
       "<tr>\n",
       "  <th>group1</th> <th>group2</th> <th>meandiff</th>  <th>lower</th>   <th>upper</th>  <th>reject</th>\n",
       "</tr>\n",
       "<tr>\n",
       "    <td>COM</td>    <td>T1</td>    <td>-0.0833</td> <td>-0.8747</td>  <td>0.708</td>   <td>False</td>\n",
       "</tr>\n",
       "<tr>\n",
       "    <td>COM</td>    <td>T2</td>    <td>-0.8542</td> <td>-1.6455</td> <td>-0.0628</td>  <td>True</td> \n",
       "</tr>\n",
       "<tr>\n",
       "    <td>T1</td>     <td>T2</td>    <td>-0.7708</td> <td>-1.5622</td> <td>0.0205</td>   <td>False</td>\n",
       "</tr>\n",
       "</table>"
      ],
      "text/plain": [
       "<class 'statsmodels.iolib.table.SimpleTable'>"
      ]
     },
     "metadata": {},
     "output_type": "display_data"
    }
   ],
   "source": [
    "post_hoc_tukey(spes_df, spes_columns)"
   ]
  },
  {
   "cell_type": "code",
   "execution_count": 40,
   "metadata": {
    "scrolled": true
   },
   "outputs": [
    {
     "name": "stdout",
     "output_type": "stream",
     "text": [
      "Tukey post-hoc of TLX-Mental\n"
     ]
    },
    {
     "data": {
      "text/html": [
       "<table class=\"simpletable\">\n",
       "<caption>Multiple Comparison of Means - Tukey HSD,FWER=0.05</caption>\n",
       "<tr>\n",
       "  <th>group1</th> <th>group2</th> <th>meandiff</th>  <th>lower</th>   <th>upper</th>  <th>reject</th>\n",
       "</tr>\n",
       "<tr>\n",
       "    <td>COM</td>    <td>T1</td>    <td>-1.8333</td> <td>-3.0496</td> <td>-0.617</td>   <td>True</td> \n",
       "</tr>\n",
       "<tr>\n",
       "    <td>COM</td>    <td>T2</td>    <td>-3.3333</td> <td>-4.5496</td> <td>-2.117</td>   <td>True</td> \n",
       "</tr>\n",
       "<tr>\n",
       "    <td>T1</td>     <td>T2</td>     <td>-1.5</td>   <td>-2.7163</td> <td>-0.2837</td>  <td>True</td> \n",
       "</tr>\n",
       "</table>"
      ],
      "text/plain": [
       "<class 'statsmodels.iolib.table.SimpleTable'>"
      ]
     },
     "metadata": {},
     "output_type": "display_data"
    },
    {
     "name": "stdout",
     "output_type": "stream",
     "text": [
      "Tukey post-hoc of TLX-Physical\n"
     ]
    },
    {
     "data": {
      "text/html": [
       "<table class=\"simpletable\">\n",
       "<caption>Multiple Comparison of Means - Tukey HSD,FWER=0.05</caption>\n",
       "<tr>\n",
       "  <th>group1</th> <th>group2</th> <th>meandiff</th>  <th>lower</th>   <th>upper</th>  <th>reject</th>\n",
       "</tr>\n",
       "<tr>\n",
       "    <td>COM</td>    <td>T1</td>    <td>-1.5833</td> <td>-2.627</td>  <td>-0.5396</td>  <td>True</td> \n",
       "</tr>\n",
       "<tr>\n",
       "    <td>COM</td>    <td>T2</td>    <td>-4.4167</td> <td>-5.4604</td> <td>-3.373</td>   <td>True</td> \n",
       "</tr>\n",
       "<tr>\n",
       "    <td>T1</td>     <td>T2</td>    <td>-2.8333</td> <td>-3.877</td>  <td>-1.7896</td>  <td>True</td> \n",
       "</tr>\n",
       "</table>"
      ],
      "text/plain": [
       "<class 'statsmodels.iolib.table.SimpleTable'>"
      ]
     },
     "metadata": {},
     "output_type": "display_data"
    },
    {
     "name": "stdout",
     "output_type": "stream",
     "text": [
      "Tukey post-hoc of TLX-Perf\n"
     ]
    },
    {
     "data": {
      "text/html": [
       "<table class=\"simpletable\">\n",
       "<caption>Multiple Comparison of Means - Tukey HSD,FWER=0.05</caption>\n",
       "<tr>\n",
       "  <th>group1</th> <th>group2</th> <th>meandiff</th>  <th>lower</th>   <th>upper</th> <th>reject</th>\n",
       "</tr>\n",
       "<tr>\n",
       "    <td>COM</td>    <td>T1</td>    <td>0.3333</td>  <td>-1.0153</td>  <td>1.682</td>  <td>False</td>\n",
       "</tr>\n",
       "<tr>\n",
       "    <td>COM</td>    <td>T2</td>    <td>1.9167</td>   <td>0.568</td>  <td>3.2653</td>  <td>True</td> \n",
       "</tr>\n",
       "<tr>\n",
       "    <td>T1</td>     <td>T2</td>    <td>1.5833</td>  <td>0.2347</td>   <td>2.932</td>  <td>True</td> \n",
       "</tr>\n",
       "</table>"
      ],
      "text/plain": [
       "<class 'statsmodels.iolib.table.SimpleTable'>"
      ]
     },
     "metadata": {},
     "output_type": "display_data"
    },
    {
     "name": "stdout",
     "output_type": "stream",
     "text": [
      "Tukey post-hoc of TLX-Effort\n"
     ]
    },
    {
     "data": {
      "text/html": [
       "<table class=\"simpletable\">\n",
       "<caption>Multiple Comparison of Means - Tukey HSD,FWER=0.05</caption>\n",
       "<tr>\n",
       "  <th>group1</th> <th>group2</th> <th>meandiff</th>  <th>lower</th>   <th>upper</th>  <th>reject</th>\n",
       "</tr>\n",
       "<tr>\n",
       "    <td>COM</td>    <td>T1</td>     <td>-1.75</td>  <td>-3.0411</td> <td>-0.4589</td>  <td>True</td> \n",
       "</tr>\n",
       "<tr>\n",
       "    <td>COM</td>    <td>T2</td>    <td>-4.3333</td> <td>-5.6244</td> <td>-3.0423</td>  <td>True</td> \n",
       "</tr>\n",
       "<tr>\n",
       "    <td>T1</td>     <td>T2</td>    <td>-2.5833</td> <td>-3.8744</td> <td>-1.2923</td>  <td>True</td> \n",
       "</tr>\n",
       "</table>"
      ],
      "text/plain": [
       "<class 'statsmodels.iolib.table.SimpleTable'>"
      ]
     },
     "metadata": {},
     "output_type": "display_data"
    },
    {
     "name": "stdout",
     "output_type": "stream",
     "text": [
      "Tukey post-hoc of TLX-Frustration\n"
     ]
    },
    {
     "data": {
      "text/html": [
       "<table class=\"simpletable\">\n",
       "<caption>Multiple Comparison of Means - Tukey HSD,FWER=0.05</caption>\n",
       "<tr>\n",
       "  <th>group1</th> <th>group2</th> <th>meandiff</th>  <th>lower</th>   <th>upper</th>  <th>reject</th>\n",
       "</tr>\n",
       "<tr>\n",
       "    <td>COM</td>    <td>T1</td>     <td>-1.25</td>  <td>-2.2401</td> <td>-0.2599</td>  <td>True</td> \n",
       "</tr>\n",
       "<tr>\n",
       "    <td>COM</td>    <td>T2</td>    <td>-2.5833</td> <td>-3.5735</td> <td>-1.5932</td>  <td>True</td> \n",
       "</tr>\n",
       "<tr>\n",
       "    <td>T1</td>     <td>T2</td>    <td>-1.3333</td> <td>-2.3235</td> <td>-0.3432</td>  <td>True</td> \n",
       "</tr>\n",
       "</table>"
      ],
      "text/plain": [
       "<class 'statsmodels.iolib.table.SimpleTable'>"
      ]
     },
     "metadata": {},
     "output_type": "display_data"
    },
    {
     "name": "stdout",
     "output_type": "stream",
     "text": [
      "Tukey post-hoc of TLX-SUM\n"
     ]
    },
    {
     "data": {
      "text/html": [
       "<table class=\"simpletable\">\n",
       "<caption>Multiple Comparison of Means - Tukey HSD,FWER=0.05</caption>\n",
       "<tr>\n",
       "  <th>group1</th> <th>group2</th> <th>meandiff</th>  <th>lower</th>   <th>upper</th>  <th>reject</th>\n",
       "</tr>\n",
       "<tr>\n",
       "    <td>COM</td>    <td>T1</td>     <td>-1.25</td>  <td>-1.9389</td> <td>-0.5611</td>  <td>True</td> \n",
       "</tr>\n",
       "<tr>\n",
       "    <td>COM</td>    <td>T2</td>     <td>-3.05</td>  <td>-3.7389</td> <td>-2.3611</td>  <td>True</td> \n",
       "</tr>\n",
       "<tr>\n",
       "    <td>T1</td>     <td>T2</td>     <td>-1.8</td>   <td>-2.4889</td> <td>-1.1111</td>  <td>True</td> \n",
       "</tr>\n",
       "</table>"
      ],
      "text/plain": [
       "<class 'statsmodels.iolib.table.SimpleTable'>"
      ]
     },
     "metadata": {},
     "output_type": "display_data"
    }
   ],
   "source": [
    "post_hoc_tukey(tlx_df, tlx_columns, [['TLX-Perf', 8]])"
   ]
  }
 ],
 "metadata": {
  "kernelspec": {
   "display_name": "Python 3",
   "language": "python",
   "name": "python3"
  },
  "language_info": {
   "codemirror_mode": {
    "name": "ipython",
    "version": 3
   },
   "file_extension": ".py",
   "mimetype": "text/x-python",
   "name": "python",
   "nbconvert_exporter": "python",
   "pygments_lexer": "ipython3",
   "version": "3.6.3"
  }
 },
 "nbformat": 4,
 "nbformat_minor": 2
}
