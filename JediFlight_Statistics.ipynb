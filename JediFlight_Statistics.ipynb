{
 "cells": [
  {
   "cell_type": "code",
   "execution_count": 49,
   "metadata": {},
   "outputs": [],
   "source": [
    "from scipy import stats\n",
    "import numpy as np\n",
    "import pandas as pd\n",
    "from statsmodels.stats.multicomp import pairwise_tukeyhsd, MultiComparison\n",
    "import statsmodels.api as sm\n",
    "import statsmodels.formula.api as smf\n",
    "import statsmodels.stats as ss\n",
    "\n",
    "from numpy.linalg import norm\n",
    "\n",
    "import matplotlib.pyplot as plt\n",
    "import seaborn as sns\n",
    "from IPython.display import HTML,display\n",
    "import tabulate\n",
    "\n",
    "from ast import literal_eval as make_tuple\n",
    "\n",
    "from os import listdir\n",
    "from os.path import isfile, join, splitext, basename\n",
    "import csv\n",
    "import itertools\n",
    "import glob\n",
    "from copy import deepcopy\n",
    "\n",
    "from util import csv_length\n",
    "\n",
    "%matplotlib inline"
   ]
  },
  {
   "cell_type": "code",
   "execution_count": 3,
   "metadata": {},
   "outputs": [],
   "source": [
    "data_path = './data/deviation/'\n",
    "t1_list = glob.glob(data_path + '*_t1.csv')\n",
    "t2_list = glob.glob(data_path + '*_t2.csv')\n",
    "com_list = glob.glob(data_path + '*_com.csv')\n",
    "\n",
    "t1_num_list = [csv_length(data) for data in t1_list]\n",
    "t2_num_list = [csv_length(data) for data in t2_list]\n",
    "com_num_list = [csv_length(data) for data in com_list]"
   ]
  },
  {
   "cell_type": "code",
   "execution_count": 2,
   "metadata": {},
   "outputs": [],
   "source": [
    "def ingest(data, nums):\n",
    "    tmp = pd.read_csv(data, names = [i for i in range(nums)])\n",
    "    tmp_sers = [tmp[i].dropna() for i in range(nums)]\n",
    "    \n",
    "    tmp_chkpoints = [ser[:ser[ser.str.contains('Score')].index[0]] for ser in tmp_sers]\n",
    "    tmp_datas = [ser[ser[ser.str.contains('Score')].index[0]+1:] for ser in tmp_sers]\n",
    "    tmp_scores = [ser[ser[ser.str.contains('Score')].index[0]] for ser in tmp_sers]\n",
    "    \n",
    "    return tmp_chkpoints, tmp_datas, tmp_scores\n",
    "\n",
    "def make_arrays(sers):\n",
    "    ret = [ser.apply(lambda x: np.array(make_tuple(x))) for ser in sers]\n",
    "    return ret\n",
    "\n",
    "def refine(sers):\n",
    "    ret = [ser[(ser.apply(lambda x: x[2]) >= 0) & (ser.apply(lambda x: x[2]) <= 600)].reset_index(drop=True) for ser in sers]\n",
    "    return ret\n",
    "    \n",
    "\n",
    "def find_dist(chkpoint, data):\n",
    "    res_dict = {}\n",
    "    res_list = []\n",
    "\n",
    "    for i in range(len(chkpoint)):\n",
    "        idx = min(range(len(data)), key=lambda j: abs(data[j][2]-chkpoint[i][2]))\n",
    "        minidx = -5\n",
    "        maxidx = 5\n",
    "        if idx < 5:\n",
    "            minidx = -idx\n",
    "        if idx > len(data) - 5:\n",
    "            maxidx = len(data) - idx\n",
    "        new_idxs = np.arange(minidx, maxidx) + idx\n",
    "        res_dict[i] = data.loc[new_idxs].values\n",
    "\n",
    "    for key in res_dict.keys():\n",
    "        for item in res_dict[key]:\n",
    "            res_list.append(np.linalg.norm(chkpoint[key][:2] - item[:2]))\n",
    "            \n",
    "    return np.mean(res_list)\n",
    "\n",
    "def score_to_list(scores):\n",
    "    return [int(score.split(':')[-1]) for score in scores]\n",
    "\n",
    "def ingest2(data, num):\n",
    "    tmp = pd.read_csv(data, names=[i for i in range(num)])\n",
    "    return [[0, tmp[column].apply(lambda x: int(x.split(':')[-1])).values[0]] for column in tmp]\n",
    "\n",
    "def make_result(data, nums):\n",
    "    chkpoints, datas, scores = ingest(data, nums)\n",
    "    chkpoints, datas = make_arrays(chkpoints), make_arrays(datas)\n",
    "    chkpoints, datas = refine(chkpoints), refine(datas)\n",
    "    score_list = score_to_list(scores)\n",
    "    result = [[find_dist(chkpoints[i], datas[i]), score_list[i]] for i in range(nums)]\n",
    "    return result"
   ]
  },
  {
   "cell_type": "code",
   "execution_count": 5,
   "metadata": {},
   "outputs": [],
   "source": [
    "t1_res_dict = {splitext(basename(data))[0]: make_result(data, nums) for data, nums in zip(t1_list, t1_num_list)} \n",
    "t2_res_dict = {splitext(basename(data))[0]: ingest2(data, nums) for data, nums in zip(t2_list, t2_num_list)}\n",
    "com_res_dict = {splitext(basename(data))[0]: make_result(data, nums) for data, nums in zip(com_list, com_num_list)}"
   ]
  },
  {
   "cell_type": "code",
   "execution_count": 30,
   "metadata": {},
   "outputs": [],
   "source": [
    "T1_df = pd.DataFrame(columns=['Participants No.', 'Task', 'Distance', 'Score', 'Trial'])\n",
    "for key in t1_res_dict.keys():\n",
    "    for i in range(len(t1_res_dict[key]))[::-1]:\n",
    "        T1_df.loc[-1] = [key.split('_')[0].split('p')[-1], 'T1', float(t1_res_dict[key][i][0]), float(t1_res_dict[key][i][1]), i+1]\n",
    "        T1_df.index = T1_df.index+1\n",
    "        T1_df = T1_df.sort_index()\n",
    "    \n",
    "T2_df = pd.DataFrame(columns=['Participants No.', 'Task', 'Distance', 'Score', 'Trial'])\n",
    "for key in list(t2_res_dict.keys()):\n",
    "    for i in range(len(t2_res_dict[key]))[::-1]:\n",
    "        T2_df.loc[-1] = [key.split('_')[0].split('p')[-1], 'T2', float(t2_res_dict[key][i][0]), float(t2_res_dict[key][i][1]), i+1]\n",
    "        T2_df.index = T2_df.index+1\n",
    "        T2_df = T2_df.sort_index()\n",
    "    \n",
    "COM_df = pd.DataFrame(columns=['Participants No.', 'Task', 'Distance', 'Score', 'Trial'])\n",
    "for key in com_res_dict.keys():\n",
    "    for i in range(len(com_res_dict[key]))[::-1]:\n",
    "        COM_df.loc[-1] = [key.split('_')[0].split('p')[-1], 'COM', float(com_res_dict[key][i][0]), float(com_res_dict[key][i][1]), i+1]\n",
    "        COM_df.index = COM_df.index+1\n",
    "        COM_df = COM_df.sort_index()"
   ]
  },
  {
   "cell_type": "code",
   "execution_count": 91,
   "metadata": {},
   "outputs": [],
   "source": [
    "df = pd.read_csv('./data/data.csv')\n",
    "T1_df1 = df[df['Task'] == 'T1'].reset_index(drop=True)\n",
    "T2_df1 = df[df['Task'] == 'T2'].reset_index(drop=True)\n",
    "COM_df1 = df[df['Task'] == 'COM'].reset_index(drop=True)"
   ]
  },
  {
   "cell_type": "code",
   "execution_count": 86,
   "metadata": {},
   "outputs": [],
   "source": [
    "T1_df = T1_df.append(T1_df1[T1_df1['Participants No.'] == 1], ignore_index=True)\n",
    "T2_df = T2_df.append(T2_df1[T2_df1['Participants No.'] == 1], ignore_index=True)\n",
    "COM_df = COM_df.append(COM_df1[COM_df1['Participants No.'] == 1], ignore_index=True)"
   ]
  },
  {
   "cell_type": "code",
   "execution_count": 88,
   "metadata": {},
   "outputs": [
    {
     "data": {
      "text/html": [
       "<div>\n",
       "<style>\n",
       "    .dataframe thead tr:only-child th {\n",
       "        text-align: right;\n",
       "    }\n",
       "\n",
       "    .dataframe thead th {\n",
       "        text-align: left;\n",
       "    }\n",
       "\n",
       "    .dataframe tbody tr th {\n",
       "        vertical-align: top;\n",
       "    }\n",
       "</style>\n",
       "<table border=\"1\" class=\"dataframe\">\n",
       "  <thead>\n",
       "    <tr style=\"text-align: right;\">\n",
       "      <th></th>\n",
       "      <th>Participants No.</th>\n",
       "      <th>Task</th>\n",
       "      <th>Distance</th>\n",
       "      <th>Score</th>\n",
       "      <th>Trial</th>\n",
       "    </tr>\n",
       "  </thead>\n",
       "  <tbody>\n",
       "    <tr>\n",
       "      <th>0</th>\n",
       "      <td>9</td>\n",
       "      <td>T1</td>\n",
       "      <td>5.457101</td>\n",
       "      <td>0.0</td>\n",
       "      <td>1</td>\n",
       "    </tr>\n",
       "    <tr>\n",
       "      <th>1</th>\n",
       "      <td>9</td>\n",
       "      <td>T1</td>\n",
       "      <td>6.247435</td>\n",
       "      <td>0.0</td>\n",
       "      <td>2</td>\n",
       "    </tr>\n",
       "    <tr>\n",
       "      <th>2</th>\n",
       "      <td>9</td>\n",
       "      <td>T1</td>\n",
       "      <td>10.802543</td>\n",
       "      <td>0.0</td>\n",
       "      <td>3</td>\n",
       "    </tr>\n",
       "    <tr>\n",
       "      <th>3</th>\n",
       "      <td>9</td>\n",
       "      <td>T1</td>\n",
       "      <td>4.176466</td>\n",
       "      <td>0.0</td>\n",
       "      <td>4</td>\n",
       "    </tr>\n",
       "    <tr>\n",
       "      <th>4</th>\n",
       "      <td>9</td>\n",
       "      <td>T1</td>\n",
       "      <td>3.817076</td>\n",
       "      <td>0.0</td>\n",
       "      <td>5</td>\n",
       "    </tr>\n",
       "  </tbody>\n",
       "</table>\n",
       "</div>"
      ],
      "text/plain": [
       "  Participants No. Task   Distance  Score Trial\n",
       "0                9   T1   5.457101    0.0     1\n",
       "1                9   T1   6.247435    0.0     2\n",
       "2                9   T1  10.802543    0.0     3\n",
       "3                9   T1   4.176466    0.0     4\n",
       "4                9   T1   3.817076    0.0     5"
      ]
     },
     "execution_count": 88,
     "metadata": {},
     "output_type": "execute_result"
    }
   ],
   "source": [
    "T1_df.head()"
   ]
  },
  {
   "cell_type": "code",
   "execution_count": 89,
   "metadata": {},
   "outputs": [
    {
     "data": {
      "text/html": [
       "<div>\n",
       "<style>\n",
       "    .dataframe thead tr:only-child th {\n",
       "        text-align: right;\n",
       "    }\n",
       "\n",
       "    .dataframe thead th {\n",
       "        text-align: left;\n",
       "    }\n",
       "\n",
       "    .dataframe tbody tr th {\n",
       "        vertical-align: top;\n",
       "    }\n",
       "</style>\n",
       "<table border=\"1\" class=\"dataframe\">\n",
       "  <thead>\n",
       "    <tr style=\"text-align: right;\">\n",
       "      <th></th>\n",
       "      <th>Participants No.</th>\n",
       "      <th>Task</th>\n",
       "      <th>Distance</th>\n",
       "      <th>Score</th>\n",
       "      <th>Trial</th>\n",
       "    </tr>\n",
       "  </thead>\n",
       "  <tbody>\n",
       "    <tr>\n",
       "      <th>0</th>\n",
       "      <td>9</td>\n",
       "      <td>T2</td>\n",
       "      <td>0.0</td>\n",
       "      <td>40.0</td>\n",
       "      <td>1</td>\n",
       "    </tr>\n",
       "    <tr>\n",
       "      <th>1</th>\n",
       "      <td>9</td>\n",
       "      <td>T2</td>\n",
       "      <td>0.0</td>\n",
       "      <td>40.0</td>\n",
       "      <td>2</td>\n",
       "    </tr>\n",
       "    <tr>\n",
       "      <th>2</th>\n",
       "      <td>9</td>\n",
       "      <td>T2</td>\n",
       "      <td>0.0</td>\n",
       "      <td>39.0</td>\n",
       "      <td>3</td>\n",
       "    </tr>\n",
       "    <tr>\n",
       "      <th>3</th>\n",
       "      <td>9</td>\n",
       "      <td>T2</td>\n",
       "      <td>0.0</td>\n",
       "      <td>40.0</td>\n",
       "      <td>4</td>\n",
       "    </tr>\n",
       "    <tr>\n",
       "      <th>4</th>\n",
       "      <td>9</td>\n",
       "      <td>T2</td>\n",
       "      <td>0.0</td>\n",
       "      <td>38.0</td>\n",
       "      <td>5</td>\n",
       "    </tr>\n",
       "  </tbody>\n",
       "</table>\n",
       "</div>"
      ],
      "text/plain": [
       "  Participants No. Task  Distance  Score Trial\n",
       "0                9   T2       0.0   40.0     1\n",
       "1                9   T2       0.0   40.0     2\n",
       "2                9   T2       0.0   39.0     3\n",
       "3                9   T2       0.0   40.0     4\n",
       "4                9   T2       0.0   38.0     5"
      ]
     },
     "execution_count": 89,
     "metadata": {},
     "output_type": "execute_result"
    }
   ],
   "source": [
    "T2_df.head()"
   ]
  },
  {
   "cell_type": "code",
   "execution_count": 90,
   "metadata": {},
   "outputs": [
    {
     "data": {
      "text/html": [
       "<div>\n",
       "<style>\n",
       "    .dataframe thead tr:only-child th {\n",
       "        text-align: right;\n",
       "    }\n",
       "\n",
       "    .dataframe thead th {\n",
       "        text-align: left;\n",
       "    }\n",
       "\n",
       "    .dataframe tbody tr th {\n",
       "        vertical-align: top;\n",
       "    }\n",
       "</style>\n",
       "<table border=\"1\" class=\"dataframe\">\n",
       "  <thead>\n",
       "    <tr style=\"text-align: right;\">\n",
       "      <th></th>\n",
       "      <th>Participants No.</th>\n",
       "      <th>Task</th>\n",
       "      <th>Distance</th>\n",
       "      <th>Score</th>\n",
       "      <th>Trial</th>\n",
       "    </tr>\n",
       "  </thead>\n",
       "  <tbody>\n",
       "    <tr>\n",
       "      <th>0</th>\n",
       "      <td>9</td>\n",
       "      <td>COM</td>\n",
       "      <td>5.909593</td>\n",
       "      <td>29.0</td>\n",
       "      <td>1</td>\n",
       "    </tr>\n",
       "    <tr>\n",
       "      <th>1</th>\n",
       "      <td>9</td>\n",
       "      <td>COM</td>\n",
       "      <td>7.713701</td>\n",
       "      <td>16.0</td>\n",
       "      <td>2</td>\n",
       "    </tr>\n",
       "    <tr>\n",
       "      <th>2</th>\n",
       "      <td>9</td>\n",
       "      <td>COM</td>\n",
       "      <td>8.130159</td>\n",
       "      <td>23.0</td>\n",
       "      <td>3</td>\n",
       "    </tr>\n",
       "    <tr>\n",
       "      <th>3</th>\n",
       "      <td>9</td>\n",
       "      <td>COM</td>\n",
       "      <td>9.193558</td>\n",
       "      <td>20.0</td>\n",
       "      <td>4</td>\n",
       "    </tr>\n",
       "    <tr>\n",
       "      <th>4</th>\n",
       "      <td>9</td>\n",
       "      <td>COM</td>\n",
       "      <td>6.293320</td>\n",
       "      <td>23.0</td>\n",
       "      <td>5</td>\n",
       "    </tr>\n",
       "  </tbody>\n",
       "</table>\n",
       "</div>"
      ],
      "text/plain": [
       "  Participants No. Task  Distance  Score Trial\n",
       "0                9  COM  5.909593   29.0     1\n",
       "1                9  COM  7.713701   16.0     2\n",
       "2                9  COM  8.130159   23.0     3\n",
       "3                9  COM  9.193558   20.0     4\n",
       "4                9  COM  6.293320   23.0     5"
      ]
     },
     "execution_count": 90,
     "metadata": {},
     "output_type": "execute_result"
    }
   ],
   "source": [
    "COM_df.head()"
   ]
  },
  {
   "cell_type": "markdown",
   "metadata": {},
   "source": [
    "### Visualization"
   ]
  },
  {
   "cell_type": "code",
   "execution_count": 92,
   "metadata": {},
   "outputs": [
    {
     "data": {
      "image/png": "[encoded data removed]",
      "text/plain": [
       "<matplotlib.figure.Figure at 0x2c1fc3c1240>"
      ]
     },
     "metadata": {},
     "output_type": "display_data"
    },
    {
     "data": {
      "image/png": "[encoded data removed]",
      "text/plain": [
       "<matplotlib.figure.Figure at 0x2c1faaf2ba8>"
      ]
     },
     "metadata": {},
     "output_type": "display_data"
    }
   ],
   "source": [
    "distance_df = pd.concat([T1_df[['Task','Distance']], COM_df[['Task','Distance']]])\n",
    "score_df = pd.concat([T2_df[['Task', 'Score']], COM_df[['Task', 'Score']]])\n",
    "ax = sns.factorplot(x='Task', y='Distance', data=distance_df, kind='box')\n",
    "ax = sns.factorplot(x='Task', y='Score', data=score_df, kind='box')"
   ]
  },
  {
   "cell_type": "code",
   "execution_count": 93,
   "metadata": {},
   "outputs": [
    {
     "data": {
      "image/png": "[encoded data removed]",
      "text/plain": [
       "<matplotlib.figure.Figure at 0x2c1fa86ef28>"
      ]
     },
     "metadata": {},
     "output_type": "display_data"
    }
   ],
   "source": [
    "score_df = pd.concat([T2_df[['Task', 'Score']], COM_df[['Task', 'Score']]])\n",
    "score_df['Score'] = score_df['Score'].astype(float)\n",
    "ax = sns.factorplot(x='Task', y='Score', data=score_df, kind='box')"
   ]
  },
  {
   "cell_type": "markdown",
   "metadata": {},
   "source": [
    "### T-Test"
   ]
  },
  {
   "cell_type": "code",
   "execution_count": 94,
   "metadata": {},
   "outputs": [
    {
     "name": "stdout",
     "output_type": "stream",
     "text": [
      "Distance Average, T1: 6.449\n",
      "Distance Average, COM: 6.744\n"
     ]
    }
   ],
   "source": [
    "print('Distance Average, T1: %.3f' % np.mean(T1_df['Distance']))\n",
    "print('Distance Average, COM: %.3f' % np.mean(COM_df['Distance']))"
   ]
  },
  {
   "cell_type": "code",
   "execution_count": 95,
   "metadata": {},
   "outputs": [
    {
     "name": "stdout",
     "output_type": "stream",
     "text": [
      "Distance, T1 var 3.561\n",
      "Distance, COM var 1.466\n"
     ]
    }
   ],
   "source": [
    "print('Distance, T1 var %.3f' % np.std(T1_df['Distance']))\n",
    "print('Distance, COM var %.3f' % np.std(COM_df['Distance']))"
   ]
  },
  {
   "cell_type": "code",
   "execution_count": 96,
   "metadata": {},
   "outputs": [
    {
     "name": "stdout",
     "output_type": "stream",
     "text": [
      "The T-statistic and p-value between T1 and COM not assuming equal variances is -0.471 and 0.640\n"
     ]
    }
   ],
   "source": [
    "tTestResult = stats.ttest_ind(T1_df['Distance'], COM_df['Distance'], equal_var=False)\n",
    "print(\"The T-statistic and p-value between T1 and COM not assuming equal variances is %.3f and %.3f\" % tTestResult)"
   ]
  },
  {
   "cell_type": "code",
   "execution_count": 97,
   "metadata": {},
   "outputs": [
    {
     "name": "stdout",
     "output_type": "stream",
     "text": [
      "Score Average, T2: 39.511\n",
      "Score Average, COM: 21.895\n"
     ]
    }
   ],
   "source": [
    "print('Score Average, T2: %.3f' % np.mean(T2_df['Score']))\n",
    "print('Score Average, COM: %.3f' % np.mean(COM_df['Score']))"
   ]
  },
  {
   "cell_type": "code",
   "execution_count": 98,
   "metadata": {},
   "outputs": [
    {
     "name": "stdout",
     "output_type": "stream",
     "text": [
      "Score, T2 var 0.719\n",
      "Score, COM var 5.015\n"
     ]
    }
   ],
   "source": [
    "print('Score, T2 var %.3f' % np.std(T2_df['Score']))\n",
    "print('Score, COM var %.3f' % np.std(COM_df['Score']))"
   ]
  },
  {
   "cell_type": "code",
   "execution_count": 99,
   "metadata": {},
   "outputs": [
    {
     "name": "stdout",
     "output_type": "stream",
     "text": [
      "The T-statistic and p-value between task T2 and COM not assuming equal variances is 21.186 and 0.000\n"
     ]
    }
   ],
   "source": [
    "tTestResult = stats.ttest_ind(T2_df['Score'], COM_df['Score'], equal_var=False)\n",
    "print(\"The T-statistic and p-value between task T2 and COM not assuming equal variances is %.3f and %.3f\" % tTestResult)"
   ]
  },
  {
   "cell_type": "markdown",
   "metadata": {},
   "source": [
    "### Cronbach's Alpha"
   ]
  },
  {
   "cell_type": "code",
   "execution_count": 100,
   "metadata": {
    "collapsed": true
   },
   "outputs": [],
   "source": [
    "def CronbachAlpha(items, rev=None):\n",
    "    df = items.copy(deep=True)\n",
    "    if rev is not None:\n",
    "        for pair in rev:\n",
    "            df[pair[0]] = df[pair[0]].apply(lambda x: pair[1] - x)\n",
    "    \n",
    "    itemvars = np.var(df, axis=0)\n",
    "    nitems = len(df)\n",
    "    slist = np.sum(df, axis=1)\n",
    "    sumvar = np.var(slist)\n",
    "    varsum = np.sum(itemvars)\n",
    "\n",
    "    Calpha = ((nitems)/(nitems-1.)) * (1-(varsum/sumvar))\n",
    "    \n",
    "    return Calpha"
   ]
  },
  {
   "cell_type": "code",
   "execution_count": 101,
   "metadata": {
    "collapsed": true
   },
   "outputs": [],
   "source": [
    "def ingest(file):\n",
    "    df = pd.read_csv(file).dropna(axis=1)\n",
    "    vreq_df = df.filter(regex=(\"VREQ*\"))\n",
    "    spes_df = df.filter(regex=(\"SPES*\"))\n",
    "    tlx_df = df.filter(regex=(\"TLX*\"))\n",
    "    \n",
    "    return [vreq_df, spes_df, tlx_df]"
   ]
  },
  {
   "cell_type": "code",
   "execution_count": 52,
   "metadata": {
    "collapsed": true
   },
   "outputs": [],
   "source": [
    "t1 = ingest('./data/T1.csv')\n",
    "t2 = ingest('./data/T2.csv')\n",
    "com = ingest('./data/combined.csv')"
   ]
  },
  {
   "cell_type": "code",
   "execution_count": 53,
   "metadata": {
    "collapsed": true
   },
   "outputs": [],
   "source": [
    "t1_with_sum = deepcopy(t1)\n",
    "t2_with_sum = deepcopy(t2)\n",
    "com_with_sum = deepcopy(com)"
   ]
  },
  {
   "cell_type": "code",
   "execution_count": 54,
   "metadata": {
    "collapsed": true
   },
   "outputs": [],
   "source": [
    "t1[0], t2[0], com[0] = t1[0].drop('VREQSUM', axis=1), t2[0].drop('VREQSUM', axis=1), com[0].drop('VREQSUM', axis=1)\n",
    "t1[1], t2[1], com[1] = t1[1].drop('SPESSUM', axis=1), t2[1].drop('SPESSUM', axis=1), com[1].drop('SPESSUM', axis=1)\n",
    "t1[2], t2[2], com[2] = t1[2].drop('TLX-SUM', axis=1), com[2].drop('TLX-SUM', axis=1), com[2].drop('TLX-SUM', axis=1),"
   ]
  },
  {
   "cell_type": "code",
   "execution_count": 55,
   "metadata": {
    "scrolled": true
   },
   "outputs": [
    {
     "data": {
      "text/html": [
       "<table>\n",
       "<tbody>\n",
       "<tr><td>   </td><td>VREQ </td><td>SPES  </td><td>TLX  </td></tr>\n",
       "<tr><td>T1 </td><td>0.692</td><td>0.383 </td><td>0.582</td></tr>\n",
       "<tr><td>T2 </td><td>0.841</td><td>0.757 </td><td>0.59 </td></tr>\n",
       "<tr><td>T3 </td><td>0.791</td><td>-0.018</td><td>0.59 </td></tr>\n",
       "<tr><td>ALL</td><td>0.627</td><td>0.663 </td><td>0.698</td></tr>\n",
       "</tbody>\n",
       "</table>"
      ],
      "text/plain": [
       "<IPython.core.display.HTML object>"
      ]
     },
     "metadata": {},
     "output_type": "display_data"
    }
   ],
   "source": [
    "table = [['', 'VREQ', 'SPES', 'TLX'],\n",
    "         ['T1', round(CronbachAlpha(t1[0], [['VREQ9', 6]]), 3), round(CronbachAlpha(t1[1]), 3), round(CronbachAlpha(t1[2], [['TLX-Perf', 8]]), 3)],\n",
    "         ['T2', round(CronbachAlpha(t2[0], [['VREQ9', 6]]), 3), round(CronbachAlpha(t2[1]), 3), round(CronbachAlpha(t2[2], [['TLX-Perf', 8]]), 3)],\n",
    "         ['T3', round(CronbachAlpha(com[0], [['VREQ9', 6]]), 3), round(CronbachAlpha(com[1]), 3), round(CronbachAlpha(com[2], [['TLX-Perf', 8]]), 3)],\n",
    "         ['ALL', round(CronbachAlpha(pd.concat([t1[0], t2[0], com[0]], axis=0), [['VREQ9', 6]]), 3), round(CronbachAlpha(pd.concat([t1[1], t2[1], com[1]], axis=0)), 3), round(CronbachAlpha(pd.concat([t1[2], t2[2], com[2]], axis=0), [['TLX-Perf', 8]]), 3)]]\n",
    "\n",
    "display(HTML(tabulate.tabulate(table, tablefmt='html')))"
   ]
  },
  {
   "cell_type": "markdown",
   "metadata": {},
   "source": [
    "### Visualization"
   ]
  },
  {
   "cell_type": "code",
   "execution_count": 56,
   "metadata": {
    "collapsed": true
   },
   "outputs": [],
   "source": [
    "def concatenate(l, label):\n",
    "    assert(len(l) == len(label))\n",
    "    li = []\n",
    "    for i in range(len(l)):\n",
    "        temp = l[i].copy(deep=True)\n",
    "        temp['Task'] = pd.Series([label[i]] * len(temp))\n",
    "        li.append(temp)\n",
    "        \n",
    "    return pd.concat(li)"
   ]
  },
  {
   "cell_type": "code",
   "execution_count": 57,
   "metadata": {
    "collapsed": true
   },
   "outputs": [],
   "source": [
    "label = ['T1', 'T2', 'COM']\n",
    "vreq_df = concatenate([t1_with_sum[0], t2_with_sum[0], com_with_sum[0]], label)\n",
    "spes_df = concatenate([t1_with_sum[1], t2_with_sum[1], com_with_sum[1]], label)\n",
    "tlx_df = concatenate([t1_with_sum[2], t2_with_sum[2], com_with_sum[2]], label)"
   ]
  },
  {
   "cell_type": "code",
   "execution_count": 58,
   "metadata": {},
   "outputs": [
    {
     "data": {
      "text/plain": [
       "Index(['TLX-Mental', 'TLX-Physical', 'TLX-Perf', 'TLX-Effort',\n",
       "       'TLX-Frustration', 'TLX-SUM', 'Task'],\n",
       "      dtype='object')"
      ]
     },
     "execution_count": 58,
     "metadata": {},
     "output_type": "execute_result"
    }
   ],
   "source": [
    "tlx_df.columns"
   ]
  },
  {
   "cell_type": "code",
   "execution_count": 59,
   "metadata": {},
   "outputs": [
    {
     "name": "stdout",
     "output_type": "stream",
     "text": [
      "VREQ1\n",
      "[4.  5.  4.  4.  4.5 2.5 3.  4. ]\n",
      "[0.25 1.   0.   1.   1.   2.   0.25 0.36]\n",
      "----------------------------------------\n",
      "[4.5   4.5   4.    4.5   2.    1.    4.    4.145]\n",
      "[1.25   1.25   1.25   2.25   1.25   0.25   1.     1.1775]\n",
      "----------------------------------------\n",
      "[3.5   4.    4.    3.5   4.    4.    3.5   3.785]\n",
      "[1.     1.     0.25   1.25   0.25   2.     1.     0.6075]\n",
      "----------------------------------------\n",
      "SPES1\n",
      "[4.   5.   4.   3.5  4.25]\n",
      "[0.25   0.25   2.     1.25   0.1875]\n",
      "----------------------------------------\n",
      "[3.  4.5 2.  2.5 2.5]\n",
      "[2.5   2.25  1.25  2.    1.625]\n",
      "----------------------------------------\n",
      "[4.   5.   4.   4.   4.25]\n",
      "[1.     0.25   0.25   1.     0.5625]\n",
      "----------------------------------------\n",
      "TLX-Mental\n",
      "[3.  4.  4.5 4.5 2.  3.5]\n",
      "[0.   1.25 1.   1.25 1.   0.9 ]\n",
      "----------------------------------------\n",
      "[1.  1.  6.  2.  1.  1.5]\n",
      "[1.   0.   1.25 1.   0.25 0.45]\n",
      "----------------------------------------\n",
      "[5.5 6.  4.  7.  4.  5. ]\n",
      "[1.25 0.5  0.5  0.25 0.25 0.55]\n",
      "----------------------------------------\n"
     ]
    }
   ],
   "source": [
    "dfs = [vreq_df, spes_df, tlx_df]\n",
    "df_labels = [['VREQ1', 'VREQ5', 'VREQ6', 'VREQ7', 'VREQ8', 'VREQ9', 'VREQ10', 'VREQSUM'], \n",
    "             ['SPES1', 'SPES2', 'SPES3', 'SPES4', 'SPESSUM'], \n",
    "             ['TLX-Mental', 'TLX-Physical', 'TLX-Perf', 'TLX-Effort', 'TLX-Frustration', 'TLX-SUM']]\n",
    "for i in range(len(dfs)):\n",
    "    print(df_labels[i][0])\n",
    "    for l in label:\n",
    "        tmp = dfs[i][dfs[i]['Task'] == l][df_labels[i]]\n",
    "        print(np.median(tmp, axis=0))\n",
    "        print(stats.iqr(tmp, axis=0))\n",
    "        print('-' * 40)"
   ]
  },
  {
   "cell_type": "code",
   "execution_count": 60,
   "metadata": {},
   "outputs": [
    {
     "data": {
      "image/png": "[encoded data removed]",
      "text/plain": [
       "<matplotlib.figure.Figure at 0x2c1fa86cf98>"
      ]
     },
     "metadata": {},
     "output_type": "display_data"
    },
    {
     "data": {
      "image/png": "[encoded data removed]",
      "text/plain": [
       "<matplotlib.figure.Figure at 0x2c1faa9ac50>"
      ]
     },
     "metadata": {},
     "output_type": "display_data"
    },
    {
     "data": {
      "image/png": "[encoded data removed]",
      "text/plain": [
       "<matplotlib.figure.Figure at 0x2c1faaf0cf8>"
      ]
     },
     "metadata": {},
     "output_type": "display_data"
    }
   ],
   "source": [
    "ax = sns.factorplot(x='items', y='value', col='Task', data=vreq_df.melt(id_vars=['Task'], var_name='items'), kind='box')\n",
    "ax = sns.factorplot(x='items', y='value', col='Task', data=spes_df.melt(id_vars=['Task'], var_name='items'), kind='box')\n",
    "ax = sns.factorplot(x='items', y='value', col='Task', data=tlx_df.melt(id_vars=['Task'], var_name='items'), kind='box')"
   ]
  },
  {
   "cell_type": "markdown",
   "metadata": {},
   "source": [
    "### ANOVA"
   ]
  },
  {
   "cell_type": "code",
   "execution_count": 61,
   "metadata": {
    "collapsed": true
   },
   "outputs": [],
   "source": [
    "def onewayAnova(df, columns, rev=None):\n",
    "    ret = []\n",
    "    temp = df.copy(deep=True)\n",
    "    if rev is not None:\n",
    "        for pair in rev:\n",
    "            temp[pair[0]] = df[pair[0]].apply(lambda x: pair[1] - x)\n",
    "            \n",
    "    for column in columns:\n",
    "        tmpSeries = temp[[column, 'Task']]\n",
    "        ret.append([column, stats.f_oneway(tmpSeries[tmpSeries['Task'] == 'T1'][column], \n",
    "                                           tmpSeries[tmpSeries['Task'] == 'T2'][column],\n",
    "                                           tmpSeries[tmpSeries['Task'] == 'COM'][column])])\n",
    "        \n",
    "    return ret\n",
    "        "
   ]
  },
  {
   "cell_type": "code",
   "execution_count": 62,
   "metadata": {
    "collapsed": true
   },
   "outputs": [],
   "source": [
    "vreq_columns = [x for x in vreq_df.columns if x is not 'Task']\n",
    "spes_columns = [x for x in spes_df.columns if x is not 'Task']\n",
    "tlx_columns = [x for x in tlx_df.columns if x is not 'Task']\n",
    "\n",
    "vreq_stats = onewayAnova(vreq_df, vreq_columns, [['VREQ9', 6]])\n",
    "spes_stats = onewayAnova(spes_df, spes_columns)\n",
    "tlx_stats = onewayAnova(tlx_df, tlx_columns, [['TLX-Perf', 8]])"
   ]
  },
  {
   "cell_type": "code",
   "execution_count": 63,
   "metadata": {
    "collapsed": true
   },
   "outputs": [],
   "source": [
    "def make_table_elem(stats):\n",
    "    li = []\n",
    "    for stat in stats:\n",
    "        li.append([stat[0], round(stat[1][0], 3), round(stat[1][1], 3)])\n",
    "        \n",
    "    return [['', 'F-value', 'p-value']] + li"
   ]
  },
  {
   "cell_type": "code",
   "execution_count": 64,
   "metadata": {},
   "outputs": [
    {
     "data": {
      "text/html": [
       "<table>\n",
       "<tbody>\n",
       "<tr><td>       </td><td>F-value</td><td>p-value</td></tr>\n",
       "<tr><td>VREQ1  </td><td>1.658  </td><td>0.215  </td></tr>\n",
       "<tr><td>VREQ5  </td><td>0.832  </td><td>0.449  </td></tr>\n",
       "<tr><td>VREQ6  </td><td>0.068  </td><td>0.935  </td></tr>\n",
       "<tr><td>VREQ7  </td><td>0.03   </td><td>0.97   </td></tr>\n",
       "<tr><td>VREQ8  </td><td>9.873  </td><td>0.001  </td></tr>\n",
       "<tr><td>VREQ9  </td><td>17.094 </td><td>0.0    </td></tr>\n",
       "<tr><td>VREQ10 </td><td>0.544  </td><td>0.588  </td></tr>\n",
       "<tr><td>VREQSUM</td><td>0.517  </td><td>0.603  </td></tr>\n",
       "</tbody>\n",
       "</table>"
      ],
      "text/plain": [
       "<IPython.core.display.HTML object>"
      ]
     },
     "metadata": {},
     "output_type": "display_data"
    }
   ],
   "source": [
    "display(HTML(tabulate.tabulate(make_table_elem(vreq_stats), tablefmt='html')))"
   ]
  },
  {
   "cell_type": "code",
   "execution_count": 65,
   "metadata": {},
   "outputs": [
    {
     "data": {
      "text/html": [
       "<table>\n",
       "<tbody>\n",
       "<tr><td>       </td><td>F-value</td><td>p-value</td></tr>\n",
       "<tr><td>SPES1  </td><td>3.267  </td><td>0.058  </td></tr>\n",
       "<tr><td>SPES2  </td><td>2.062  </td><td>0.152  </td></tr>\n",
       "<tr><td>SPES3  </td><td>11.275 </td><td>0.0    </td></tr>\n",
       "<tr><td>SPES4  </td><td>5.575  </td><td>0.011  </td></tr>\n",
       "<tr><td>SPESSUM</td><td>8.498  </td><td>0.002  </td></tr>\n",
       "</tbody>\n",
       "</table>"
      ],
      "text/plain": [
       "<IPython.core.display.HTML object>"
      ]
     },
     "metadata": {},
     "output_type": "display_data"
    }
   ],
   "source": [
    "display(HTML(tabulate.tabulate(make_table_elem(spes_stats), tablefmt='html')))"
   ]
  },
  {
   "cell_type": "code",
   "execution_count": 66,
   "metadata": {},
   "outputs": [
    {
     "data": {
      "text/html": [
       "<table>\n",
       "<tbody>\n",
       "<tr><td>               </td><td>F-value</td><td>p-value</td></tr>\n",
       "<tr><td>TLX-Mental     </td><td>24.366 </td><td>0.0    </td></tr>\n",
       "<tr><td>TLX-Physical   </td><td>51.741 </td><td>0.0    </td></tr>\n",
       "<tr><td>TLX-Perf       </td><td>15.008 </td><td>0.0    </td></tr>\n",
       "<tr><td>TLX-Effort     </td><td>22.663 </td><td>0.0    </td></tr>\n",
       "<tr><td>TLX-Frustration</td><td>27.696 </td><td>0.0    </td></tr>\n",
       "<tr><td>TLX-SUM        </td><td>74.31  </td><td>0.0    </td></tr>\n",
       "</tbody>\n",
       "</table>"
      ],
      "text/plain": [
       "<IPython.core.display.HTML object>"
      ]
     },
     "metadata": {},
     "output_type": "display_data"
    }
   ],
   "source": [
    "display(HTML(tabulate.tabulate(make_table_elem(tlx_stats), tablefmt='html')))"
   ]
  },
  {
   "cell_type": "markdown",
   "metadata": {},
   "source": [
    "### Post-Hoc(Tukey)"
   ]
  },
  {
   "cell_type": "code",
   "execution_count": 67,
   "metadata": {
    "collapsed": true
   },
   "outputs": [],
   "source": [
    "def post_hoc_tukey(df, columns, rev=None):\n",
    "    temp = df.copy(deep=True)\n",
    "    if rev is not None:\n",
    "        for pair in rev:\n",
    "            temp[pair[0]] = df[pair[0]].apply(lambda x: pair[1] - x)\n",
    "            \n",
    "    for column in columns:\n",
    "        res = pairwise_tukeyhsd(df[column], df['Task'])\n",
    "        print('Tukey post-hoc of %s' % column)\n",
    "        display(res.summary())   "
   ]
  },
  {
   "cell_type": "code",
   "execution_count": 68,
   "metadata": {
    "scrolled": false
   },
   "outputs": [
    {
     "name": "stdout",
     "output_type": "stream",
     "text": [
      "Tukey post-hoc of VREQ1\n"
     ]
    },
    {
     "data": {
      "text/html": [
       "<table class=\"simpletable\">\n",
       "<caption>Multiple Comparison of Means - Tukey HSD,FWER=0.05</caption>\n",
       "<tr>\n",
       "  <th>group1</th> <th>group2</th> <th>meandiff</th>  <th>lower</th>   <th>upper</th> <th>reject</th>\n",
       "</tr>\n",
       "<tr>\n",
       "    <td>COM</td>    <td>T1</td>     <td>0.375</td>  <td>-0.6629</td> <td>1.4129</td>  <td>False</td>\n",
       "</tr>\n",
       "<tr>\n",
       "    <td>COM</td>    <td>T2</td>     <td>0.75</td>   <td>-0.2879</td> <td>1.7879</td>  <td>False</td>\n",
       "</tr>\n",
       "<tr>\n",
       "    <td>T1</td>     <td>T2</td>     <td>0.375</td>  <td>-0.6629</td> <td>1.4129</td>  <td>False</td>\n",
       "</tr>\n",
       "</table>"
      ],
      "text/plain": [
       "<class 'statsmodels.iolib.table.SimpleTable'>"
      ]
     },
     "metadata": {},
     "output_type": "display_data"
    },
    {
     "name": "stdout",
     "output_type": "stream",
     "text": [
      "Tukey post-hoc of VREQ5\n"
     ]
    },
    {
     "data": {
      "text/html": [
       "<table class=\"simpletable\">\n",
       "<caption>Multiple Comparison of Means - Tukey HSD,FWER=0.05</caption>\n",
       "<tr>\n",
       "  <th>group1</th> <th>group2</th> <th>meandiff</th>  <th>lower</th>   <th>upper</th> <th>reject</th>\n",
       "</tr>\n",
       "<tr>\n",
       "    <td>COM</td>    <td>T1</td>     <td>0.25</td>   <td>-0.7269</td> <td>1.2269</td>  <td>False</td>\n",
       "</tr>\n",
       "<tr>\n",
       "    <td>COM</td>    <td>T2</td>     <td>-0.25</td>  <td>-1.2269</td> <td>0.7269</td>  <td>False</td>\n",
       "</tr>\n",
       "<tr>\n",
       "    <td>T1</td>     <td>T2</td>     <td>-0.5</td>   <td>-1.4769</td> <td>0.4769</td>  <td>False</td>\n",
       "</tr>\n",
       "</table>"
      ],
      "text/plain": [
       "<class 'statsmodels.iolib.table.SimpleTable'>"
      ]
     },
     "metadata": {},
     "output_type": "display_data"
    },
    {
     "name": "stdout",
     "output_type": "stream",
     "text": [
      "Tukey post-hoc of VREQ6\n"
     ]
    },
    {
     "data": {
      "text/html": [
       "<table class=\"simpletable\">\n",
       "<caption>Multiple Comparison of Means - Tukey HSD,FWER=0.05</caption>\n",
       "<tr>\n",
       "  <th>group1</th> <th>group2</th> <th>meandiff</th>  <th>lower</th>   <th>upper</th> <th>reject</th>\n",
       "</tr>\n",
       "<tr>\n",
       "    <td>COM</td>    <td>T1</td>      <td>0.0</td>   <td>-0.9865</td> <td>0.9865</td>  <td>False</td>\n",
       "</tr>\n",
       "<tr>\n",
       "    <td>COM</td>    <td>T2</td>     <td>0.125</td>  <td>-0.8615</td> <td>1.1115</td>  <td>False</td>\n",
       "</tr>\n",
       "<tr>\n",
       "    <td>T1</td>     <td>T2</td>     <td>0.125</td>  <td>-0.8615</td> <td>1.1115</td>  <td>False</td>\n",
       "</tr>\n",
       "</table>"
      ],
      "text/plain": [
       "<class 'statsmodels.iolib.table.SimpleTable'>"
      ]
     },
     "metadata": {},
     "output_type": "display_data"
    },
    {
     "name": "stdout",
     "output_type": "stream",
     "text": [
      "Tukey post-hoc of VREQ7\n"
     ]
    },
    {
     "data": {
      "text/html": [
       "<table class=\"simpletable\">\n",
       "<caption>Multiple Comparison of Means - Tukey HSD,FWER=0.05</caption>\n",
       "<tr>\n",
       "  <th>group1</th> <th>group2</th> <th>meandiff</th>  <th>lower</th>   <th>upper</th> <th>reject</th>\n",
       "</tr>\n",
       "<tr>\n",
       "    <td>COM</td>    <td>T1</td>    <td>-0.125</td>  <td>-1.6024</td> <td>1.3524</td>  <td>False</td>\n",
       "</tr>\n",
       "<tr>\n",
       "    <td>COM</td>    <td>T2</td>      <td>0.0</td>   <td>-1.4774</td> <td>1.4774</td>  <td>False</td>\n",
       "</tr>\n",
       "<tr>\n",
       "    <td>T1</td>     <td>T2</td>     <td>0.125</td>  <td>-1.3524</td> <td>1.6024</td>  <td>False</td>\n",
       "</tr>\n",
       "</table>"
      ],
      "text/plain": [
       "<class 'statsmodels.iolib.table.SimpleTable'>"
      ]
     },
     "metadata": {},
     "output_type": "display_data"
    },
    {
     "name": "stdout",
     "output_type": "stream",
     "text": [
      "Tukey post-hoc of VREQ8\n"
     ]
    },
    {
     "data": {
      "text/html": [
       "<table class=\"simpletable\">\n",
       "<caption>Multiple Comparison of Means - Tukey HSD,FWER=0.05</caption>\n",
       "<tr>\n",
       "  <th>group1</th> <th>group2</th> <th>meandiff</th>  <th>lower</th>   <th>upper</th>  <th>reject</th>\n",
       "</tr>\n",
       "<tr>\n",
       "    <td>COM</td>    <td>T1</td>     <td>0.375</td>  <td>-0.7502</td> <td>1.5002</td>   <td>False</td>\n",
       "</tr>\n",
       "<tr>\n",
       "    <td>COM</td>    <td>T2</td>     <td>-1.5</td>   <td>-2.6252</td> <td>-0.3748</td>  <td>True</td> \n",
       "</tr>\n",
       "<tr>\n",
       "    <td>T1</td>     <td>T2</td>    <td>-1.875</td>  <td>-3.0002</td> <td>-0.7498</td>  <td>True</td> \n",
       "</tr>\n",
       "</table>"
      ],
      "text/plain": [
       "<class 'statsmodels.iolib.table.SimpleTable'>"
      ]
     },
     "metadata": {},
     "output_type": "display_data"
    },
    {
     "name": "stdout",
     "output_type": "stream",
     "text": [
      "Tukey post-hoc of VREQ9\n"
     ]
    },
    {
     "data": {
      "text/html": [
       "<table class=\"simpletable\">\n",
       "<caption>Multiple Comparison of Means - Tukey HSD,FWER=0.05</caption>\n",
       "<tr>\n",
       "  <th>group1</th> <th>group2</th> <th>meandiff</th>  <th>lower</th>   <th>upper</th>  <th>reject</th>\n",
       "</tr>\n",
       "<tr>\n",
       "    <td>COM</td>    <td>T1</td>     <td>-1.0</td>   <td>-2.1419</td> <td>0.1419</td>   <td>False</td>\n",
       "</tr>\n",
       "<tr>\n",
       "    <td>COM</td>    <td>T2</td>    <td>-2.625</td>  <td>-3.7669</td> <td>-1.4831</td>  <td>True</td> \n",
       "</tr>\n",
       "<tr>\n",
       "    <td>T1</td>     <td>T2</td>    <td>-1.625</td>  <td>-2.7669</td> <td>-0.4831</td>  <td>True</td> \n",
       "</tr>\n",
       "</table>"
      ],
      "text/plain": [
       "<class 'statsmodels.iolib.table.SimpleTable'>"
      ]
     },
     "metadata": {},
     "output_type": "display_data"
    },
    {
     "name": "stdout",
     "output_type": "stream",
     "text": [
      "Tukey post-hoc of VREQ10\n"
     ]
    },
    {
     "data": {
      "text/html": [
       "<table class=\"simpletable\">\n",
       "<caption>Multiple Comparison of Means - Tukey HSD,FWER=0.05</caption>\n",
       "<tr>\n",
       "  <th>group1</th> <th>group2</th> <th>meandiff</th>  <th>lower</th>   <th>upper</th> <th>reject</th>\n",
       "</tr>\n",
       "<tr>\n",
       "    <td>COM</td>    <td>T1</td>    <td>-0.125</td>  <td>-1.0472</td> <td>0.7972</td>  <td>False</td>\n",
       "</tr>\n",
       "<tr>\n",
       "    <td>COM</td>    <td>T2</td>     <td>0.25</td>   <td>-0.6722</td> <td>1.1722</td>  <td>False</td>\n",
       "</tr>\n",
       "<tr>\n",
       "    <td>T1</td>     <td>T2</td>     <td>0.375</td>  <td>-0.5472</td> <td>1.2972</td>  <td>False</td>\n",
       "</tr>\n",
       "</table>"
      ],
      "text/plain": [
       "<class 'statsmodels.iolib.table.SimpleTable'>"
      ]
     },
     "metadata": {},
     "output_type": "display_data"
    },
    {
     "name": "stdout",
     "output_type": "stream",
     "text": [
      "Tukey post-hoc of VREQSUM\n"
     ]
    },
    {
     "data": {
      "text/html": [
       "<table class=\"simpletable\">\n",
       "<caption>Multiple Comparison of Means - Tukey HSD,FWER=0.05</caption>\n",
       "<tr>\n",
       "  <th>group1</th> <th>group2</th> <th>meandiff</th>  <th>lower</th>   <th>upper</th> <th>reject</th>\n",
       "</tr>\n",
       "<tr>\n",
       "    <td>COM</td>    <td>T1</td>     <td>0.25</td>   <td>-0.5222</td> <td>1.0222</td>  <td>False</td>\n",
       "</tr>\n",
       "<tr>\n",
       "    <td>COM</td>    <td>T2</td>    <td>0.2863</td>  <td>-0.486</td>  <td>1.0585</td>  <td>False</td>\n",
       "</tr>\n",
       "<tr>\n",
       "    <td>T1</td>     <td>T2</td>    <td>0.0362</td>  <td>-0.736</td>  <td>0.8085</td>  <td>False</td>\n",
       "</tr>\n",
       "</table>"
      ],
      "text/plain": [
       "<class 'statsmodels.iolib.table.SimpleTable'>"
      ]
     },
     "metadata": {},
     "output_type": "display_data"
    }
   ],
   "source": [
    "post_hoc_tukey(vreq_df, vreq_columns, [['VREQ9', 6]])"
   ]
  },
  {
   "cell_type": "code",
   "execution_count": 69,
   "metadata": {
    "scrolled": false
   },
   "outputs": [
    {
     "name": "stdout",
     "output_type": "stream",
     "text": [
      "Tukey post-hoc of SPES1\n"
     ]
    },
    {
     "data": {
      "text/html": [
       "<table class=\"simpletable\">\n",
       "<caption>Multiple Comparison of Means - Tukey HSD,FWER=0.05</caption>\n",
       "<tr>\n",
       "  <th>group1</th> <th>group2</th> <th>meandiff</th>  <th>lower</th>   <th>upper</th> <th>reject</th>\n",
       "</tr>\n",
       "<tr>\n",
       "    <td>COM</td>    <td>T1</td>    <td>-0.125</td>  <td>-1.4824</td> <td>1.2324</td>  <td>False</td>\n",
       "</tr>\n",
       "<tr>\n",
       "    <td>COM</td>    <td>T2</td>     <td>-1.25</td>  <td>-2.6074</td> <td>0.1074</td>  <td>False</td>\n",
       "</tr>\n",
       "<tr>\n",
       "    <td>T1</td>     <td>T2</td>    <td>-1.125</td>  <td>-2.4824</td> <td>0.2324</td>  <td>False</td>\n",
       "</tr>\n",
       "</table>"
      ],
      "text/plain": [
       "<class 'statsmodels.iolib.table.SimpleTable'>"
      ]
     },
     "metadata": {},
     "output_type": "display_data"
    },
    {
     "name": "stdout",
     "output_type": "stream",
     "text": [
      "Tukey post-hoc of SPES2\n"
     ]
    },
    {
     "data": {
      "text/html": [
       "<table class=\"simpletable\">\n",
       "<caption>Multiple Comparison of Means - Tukey HSD,FWER=0.05</caption>\n",
       "<tr>\n",
       "  <th>group1</th> <th>group2</th> <th>meandiff</th>  <th>lower</th>   <th>upper</th> <th>reject</th>\n",
       "</tr>\n",
       "<tr>\n",
       "    <td>COM</td>    <td>T1</td>     <td>0.125</td>  <td>-1.0495</td> <td>1.2995</td>  <td>False</td>\n",
       "</tr>\n",
       "<tr>\n",
       "    <td>COM</td>    <td>T2</td>     <td>-0.75</td>  <td>-1.9245</td> <td>0.4245</td>  <td>False</td>\n",
       "</tr>\n",
       "<tr>\n",
       "    <td>T1</td>     <td>T2</td>    <td>-0.875</td>  <td>-2.0495</td> <td>0.2995</td>  <td>False</td>\n",
       "</tr>\n",
       "</table>"
      ],
      "text/plain": [
       "<class 'statsmodels.iolib.table.SimpleTable'>"
      ]
     },
     "metadata": {},
     "output_type": "display_data"
    },
    {
     "name": "stdout",
     "output_type": "stream",
     "text": [
      "Tukey post-hoc of SPES3\n"
     ]
    },
    {
     "data": {
      "text/html": [
       "<table class=\"simpletable\">\n",
       "<caption>Multiple Comparison of Means - Tukey HSD,FWER=0.05</caption>\n",
       "<tr>\n",
       "  <th>group1</th> <th>group2</th> <th>meandiff</th>  <th>lower</th>   <th>upper</th>  <th>reject</th>\n",
       "</tr>\n",
       "<tr>\n",
       "    <td>COM</td>    <td>T1</td>    <td>-0.125</td>  <td>-1.2376</td> <td>0.9876</td>   <td>False</td>\n",
       "</tr>\n",
       "<tr>\n",
       "    <td>COM</td>    <td>T2</td>    <td>-1.875</td>  <td>-2.9876</td> <td>-0.7624</td>  <td>True</td> \n",
       "</tr>\n",
       "<tr>\n",
       "    <td>T1</td>     <td>T2</td>     <td>-1.75</td>  <td>-2.8626</td> <td>-0.6374</td>  <td>True</td> \n",
       "</tr>\n",
       "</table>"
      ],
      "text/plain": [
       "<class 'statsmodels.iolib.table.SimpleTable'>"
      ]
     },
     "metadata": {},
     "output_type": "display_data"
    },
    {
     "name": "stdout",
     "output_type": "stream",
     "text": [
      "Tukey post-hoc of SPES4\n"
     ]
    },
    {
     "data": {
      "text/html": [
       "<table class=\"simpletable\">\n",
       "<caption>Multiple Comparison of Means - Tukey HSD,FWER=0.05</caption>\n",
       "<tr>\n",
       "  <th>group1</th> <th>group2</th> <th>meandiff</th>  <th>lower</th>   <th>upper</th>  <th>reject</th>\n",
       "</tr>\n",
       "<tr>\n",
       "    <td>COM</td>    <td>T1</td>     <td>0.125</td>  <td>-1.1312</td> <td>1.3812</td>   <td>False</td>\n",
       "</tr>\n",
       "<tr>\n",
       "    <td>COM</td>    <td>T2</td>    <td>-1.375</td>  <td>-2.6312</td> <td>-0.1188</td>  <td>True</td> \n",
       "</tr>\n",
       "<tr>\n",
       "    <td>T1</td>     <td>T2</td>     <td>-1.5</td>   <td>-2.7562</td> <td>-0.2438</td>  <td>True</td> \n",
       "</tr>\n",
       "</table>"
      ],
      "text/plain": [
       "<class 'statsmodels.iolib.table.SimpleTable'>"
      ]
     },
     "metadata": {},
     "output_type": "display_data"
    },
    {
     "name": "stdout",
     "output_type": "stream",
     "text": [
      "Tukey post-hoc of SPESSUM\n"
     ]
    },
    {
     "data": {
      "text/html": [
       "<table class=\"simpletable\">\n",
       "<caption>Multiple Comparison of Means - Tukey HSD,FWER=0.05</caption>\n",
       "<tr>\n",
       "  <th>group1</th> <th>group2</th> <th>meandiff</th>  <th>lower</th>   <th>upper</th>  <th>reject</th>\n",
       "</tr>\n",
       "<tr>\n",
       "    <td>COM</td>    <td>T1</td>      <td>0.0</td>   <td>-0.9263</td> <td>0.9263</td>   <td>False</td>\n",
       "</tr>\n",
       "<tr>\n",
       "    <td>COM</td>    <td>T2</td>    <td>-1.3125</td> <td>-2.2388</td> <td>-0.3862</td>  <td>True</td> \n",
       "</tr>\n",
       "<tr>\n",
       "    <td>T1</td>     <td>T2</td>    <td>-1.3125</td> <td>-2.2388</td> <td>-0.3862</td>  <td>True</td> \n",
       "</tr>\n",
       "</table>"
      ],
      "text/plain": [
       "<class 'statsmodels.iolib.table.SimpleTable'>"
      ]
     },
     "metadata": {},
     "output_type": "display_data"
    }
   ],
   "source": [
    "post_hoc_tukey(spes_df, spes_columns)"
   ]
  },
  {
   "cell_type": "code",
   "execution_count": 70,
   "metadata": {
    "scrolled": true
   },
   "outputs": [
    {
     "name": "stdout",
     "output_type": "stream",
     "text": [
      "Tukey post-hoc of TLX-Mental\n"
     ]
    },
    {
     "data": {
      "text/html": [
       "<table class=\"simpletable\">\n",
       "<caption>Multiple Comparison of Means - Tukey HSD,FWER=0.05</caption>\n",
       "<tr>\n",
       "  <th>group1</th> <th>group2</th> <th>meandiff</th>  <th>lower</th>  <th>upper</th> <th>reject</th>\n",
       "</tr>\n",
       "<tr>\n",
       "    <td>COM</td>    <td>T1</td>    <td>-2.125</td>   <td>-3.44</td>  <td>-0.81</td>  <td>True</td> \n",
       "</tr>\n",
       "<tr>\n",
       "    <td>COM</td>    <td>T2</td>    <td>-3.625</td>   <td>-4.94</td>  <td>-2.31</td>  <td>True</td> \n",
       "</tr>\n",
       "<tr>\n",
       "    <td>T1</td>     <td>T2</td>     <td>-1.5</td>   <td>-2.815</td> <td>-0.185</td>  <td>True</td> \n",
       "</tr>\n",
       "</table>"
      ],
      "text/plain": [
       "<class 'statsmodels.iolib.table.SimpleTable'>"
      ]
     },
     "metadata": {},
     "output_type": "display_data"
    },
    {
     "name": "stdout",
     "output_type": "stream",
     "text": [
      "Tukey post-hoc of TLX-Physical\n"
     ]
    },
    {
     "data": {
      "text/html": [
       "<table class=\"simpletable\">\n",
       "<caption>Multiple Comparison of Means - Tukey HSD,FWER=0.05</caption>\n",
       "<tr>\n",
       "  <th>group1</th> <th>group2</th> <th>meandiff</th>  <th>lower</th>   <th>upper</th>  <th>reject</th>\n",
       "</tr>\n",
       "<tr>\n",
       "    <td>COM</td>    <td>T1</td>    <td>-1.625</td>  <td>-2.7874</td> <td>-0.4626</td>  <td>True</td> \n",
       "</tr>\n",
       "<tr>\n",
       "    <td>COM</td>    <td>T2</td>    <td>-4.625</td>  <td>-5.7874</td> <td>-3.4626</td>  <td>True</td> \n",
       "</tr>\n",
       "<tr>\n",
       "    <td>T1</td>     <td>T2</td>     <td>-3.0</td>   <td>-4.1624</td> <td>-1.8376</td>  <td>True</td> \n",
       "</tr>\n",
       "</table>"
      ],
      "text/plain": [
       "<class 'statsmodels.iolib.table.SimpleTable'>"
      ]
     },
     "metadata": {},
     "output_type": "display_data"
    },
    {
     "name": "stdout",
     "output_type": "stream",
     "text": [
      "Tukey post-hoc of TLX-Perf\n"
     ]
    },
    {
     "data": {
      "text/html": [
       "<table class=\"simpletable\">\n",
       "<caption>Multiple Comparison of Means - Tukey HSD,FWER=0.05</caption>\n",
       "<tr>\n",
       "  <th>group1</th> <th>group2</th> <th>meandiff</th>  <th>lower</th>   <th>upper</th> <th>reject</th>\n",
       "</tr>\n",
       "<tr>\n",
       "    <td>COM</td>    <td>T1</td>      <td>0.5</td>   <td>-0.5868</td> <td>1.5868</td>  <td>False</td>\n",
       "</tr>\n",
       "<tr>\n",
       "    <td>COM</td>    <td>T2</td>     <td>2.25</td>   <td>1.1632</td>  <td>3.3368</td>  <td>True</td> \n",
       "</tr>\n",
       "<tr>\n",
       "    <td>T1</td>     <td>T2</td>     <td>1.75</td>   <td>0.6632</td>  <td>2.8368</td>  <td>True</td> \n",
       "</tr>\n",
       "</table>"
      ],
      "text/plain": [
       "<class 'statsmodels.iolib.table.SimpleTable'>"
      ]
     },
     "metadata": {},
     "output_type": "display_data"
    },
    {
     "name": "stdout",
     "output_type": "stream",
     "text": [
      "Tukey post-hoc of TLX-Effort\n"
     ]
    },
    {
     "data": {
      "text/html": [
       "<table class=\"simpletable\">\n",
       "<caption>Multiple Comparison of Means - Tukey HSD,FWER=0.05</caption>\n",
       "<tr>\n",
       "  <th>group1</th> <th>group2</th> <th>meandiff</th>  <th>lower</th>   <th>upper</th>  <th>reject</th>\n",
       "</tr>\n",
       "<tr>\n",
       "    <td>COM</td>    <td>T1</td>    <td>-1.875</td>  <td>-3.5671</td> <td>-0.1829</td>  <td>True</td> \n",
       "</tr>\n",
       "<tr>\n",
       "    <td>COM</td>    <td>T2</td>     <td>-4.5</td>   <td>-6.1921</td> <td>-2.8079</td>  <td>True</td> \n",
       "</tr>\n",
       "<tr>\n",
       "    <td>T1</td>     <td>T2</td>    <td>-2.625</td>  <td>-4.3171</td> <td>-0.9329</td>  <td>True</td> \n",
       "</tr>\n",
       "</table>"
      ],
      "text/plain": [
       "<class 'statsmodels.iolib.table.SimpleTable'>"
      ]
     },
     "metadata": {},
     "output_type": "display_data"
    },
    {
     "name": "stdout",
     "output_type": "stream",
     "text": [
      "Tukey post-hoc of TLX-Frustration\n"
     ]
    },
    {
     "data": {
      "text/html": [
       "<table class=\"simpletable\">\n",
       "<caption>Multiple Comparison of Means - Tukey HSD,FWER=0.05</caption>\n",
       "<tr>\n",
       "  <th>group1</th> <th>group2</th> <th>meandiff</th>  <th>lower</th>   <th>upper</th>  <th>reject</th>\n",
       "</tr>\n",
       "<tr>\n",
       "    <td>COM</td>    <td>T1</td>     <td>-1.5</td>   <td>-2.4324</td> <td>-0.5676</td>  <td>True</td> \n",
       "</tr>\n",
       "<tr>\n",
       "    <td>COM</td>    <td>T2</td>     <td>-2.75</td>  <td>-3.6824</td> <td>-1.8176</td>  <td>True</td> \n",
       "</tr>\n",
       "<tr>\n",
       "    <td>T1</td>     <td>T2</td>     <td>-1.25</td>  <td>-2.1824</td> <td>-0.3176</td>  <td>True</td> \n",
       "</tr>\n",
       "</table>"
      ],
      "text/plain": [
       "<class 'statsmodels.iolib.table.SimpleTable'>"
      ]
     },
     "metadata": {},
     "output_type": "display_data"
    },
    {
     "name": "stdout",
     "output_type": "stream",
     "text": [
      "Tukey post-hoc of TLX-SUM\n"
     ]
    },
    {
     "data": {
      "text/html": [
       "<table class=\"simpletable\">\n",
       "<caption>Multiple Comparison of Means - Tukey HSD,FWER=0.05</caption>\n",
       "<tr>\n",
       "  <th>group1</th> <th>group2</th> <th>meandiff</th>  <th>lower</th>   <th>upper</th>  <th>reject</th>\n",
       "</tr>\n",
       "<tr>\n",
       "    <td>COM</td>    <td>T1</td>    <td>-1.525</td>  <td>-2.2612</td> <td>-0.7888</td>  <td>True</td> \n",
       "</tr>\n",
       "<tr>\n",
       "    <td>COM</td>    <td>T2</td>     <td>-3.55</td>  <td>-4.2862</td> <td>-2.8138</td>  <td>True</td> \n",
       "</tr>\n",
       "<tr>\n",
       "    <td>T1</td>     <td>T2</td>    <td>-2.025</td>  <td>-2.7612</td> <td>-1.2888</td>  <td>True</td> \n",
       "</tr>\n",
       "</table>"
      ],
      "text/plain": [
       "<class 'statsmodels.iolib.table.SimpleTable'>"
      ]
     },
     "metadata": {},
     "output_type": "display_data"
    }
   ],
   "source": [
    "post_hoc_tukey(tlx_df, tlx_columns, [['TLX-Perf', 8]])"
   ]
  }
 ],
 "metadata": {
  "kernelspec": {
   "display_name": "Python 3",
   "language": "python",
   "name": "python3"
  },
  "language_info": {
   "codemirror_mode": {
    "name": "ipython",
    "version": 3
   },
   "file_extension": ".py",
   "mimetype": "text/x-python",
   "name": "python",
   "nbconvert_exporter": "python",
   "pygments_lexer": "ipython3",
   "version": "3.6.3"
  }
 },
 "nbformat": 4,
 "nbformat_minor": 2
}
