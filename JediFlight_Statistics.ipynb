{
 "cells": [
  {
   "cell_type": "code",
   "execution_count": 49,
   "metadata": {},
   "outputs": [],
   "source": [
    "from scipy import stats\n",
    "from statsmodels.stats.multicomp import pairwise_tukeyhsd, MultiComparison\n",
    "import statsmodels.api as sm\n",
    "import statsmodels.formula.api as smf\n",
    "import statsmodels.stats as ss\n",
    "import numpy as np\n",
    "import pandas as pd\n",
    "\n",
    "import matplotlib.pyplot as plt\n",
    "import seaborn as sns\n",
    "from IPython.display import HTML,display\n",
    "import tabulate\n",
    "\n",
    "import random\n",
    "from copy import deepcopy\n",
    "\n",
    "%matplotlib inline"
   ]
  },
  {
   "cell_type": "code",
   "execution_count": 64,
   "metadata": {},
   "outputs": [],
   "source": [
    "df = pd.read_csv('./data/data.csv')\n",
    "T1_df = df[df['Task'] == 'T1'].reset_index(drop=True)\n",
    "T2_df = df[df['Task'] == 'T2'].reset_index(drop=True)\n",
    "COM_df = df[df['Task'] == 'COM'].reset_index(drop=True)"
   ]
  },
  {
   "cell_type": "code",
   "execution_count": 65,
   "metadata": {},
   "outputs": [
    {
     "data": {
      "text/html": [
       "<div>\n",
       "<style>\n",
       "    .dataframe thead tr:only-child th {\n",
       "        text-align: right;\n",
       "    }\n",
       "\n",
       "    .dataframe thead th {\n",
       "        text-align: left;\n",
       "    }\n",
       "\n",
       "    .dataframe tbody tr th {\n",
       "        vertical-align: top;\n",
       "    }\n",
       "</style>\n",
       "<table border=\"1\" class=\"dataframe\">\n",
       "  <thead>\n",
       "    <tr style=\"text-align: right;\">\n",
       "      <th></th>\n",
       "      <th>Participants No.</th>\n",
       "      <th>Task</th>\n",
       "      <th>Distance</th>\n",
       "      <th>Score</th>\n",
       "      <th>Trial</th>\n",
       "    </tr>\n",
       "  </thead>\n",
       "  <tbody>\n",
       "    <tr>\n",
       "      <th>0</th>\n",
       "      <td>1</td>\n",
       "      <td>T1</td>\n",
       "      <td>9.1500</td>\n",
       "      <td>0</td>\n",
       "      <td>1</td>\n",
       "    </tr>\n",
       "    <tr>\n",
       "      <th>1</th>\n",
       "      <td>1</td>\n",
       "      <td>T1</td>\n",
       "      <td>7.5440</td>\n",
       "      <td>0</td>\n",
       "      <td>2</td>\n",
       "    </tr>\n",
       "    <tr>\n",
       "      <th>2</th>\n",
       "      <td>1</td>\n",
       "      <td>T1</td>\n",
       "      <td>7.1500</td>\n",
       "      <td>0</td>\n",
       "      <td>3</td>\n",
       "    </tr>\n",
       "    <tr>\n",
       "      <th>3</th>\n",
       "      <td>1</td>\n",
       "      <td>T1</td>\n",
       "      <td>6.6240</td>\n",
       "      <td>0</td>\n",
       "      <td>4</td>\n",
       "    </tr>\n",
       "    <tr>\n",
       "      <th>4</th>\n",
       "      <td>1</td>\n",
       "      <td>T1</td>\n",
       "      <td>6.2125</td>\n",
       "      <td>0</td>\n",
       "      <td>5</td>\n",
       "    </tr>\n",
       "  </tbody>\n",
       "</table>\n",
       "</div>"
      ],
      "text/plain": [
       "   Participants No. Task  Distance  Score  Trial\n",
       "0                 1   T1    9.1500      0      1\n",
       "1                 1   T1    7.5440      0      2\n",
       "2                 1   T1    7.1500      0      3\n",
       "3                 1   T1    6.6240      0      4\n",
       "4                 1   T1    6.2125      0      5"
      ]
     },
     "execution_count": 65,
     "metadata": {},
     "output_type": "execute_result"
    }
   ],
   "source": [
    "T1_df.head()"
   ]
  },
  {
   "cell_type": "code",
   "execution_count": 66,
   "metadata": {},
   "outputs": [
    {
     "data": {
      "text/html": [
       "<div>\n",
       "<style>\n",
       "    .dataframe thead tr:only-child th {\n",
       "        text-align: right;\n",
       "    }\n",
       "\n",
       "    .dataframe thead th {\n",
       "        text-align: left;\n",
       "    }\n",
       "\n",
       "    .dataframe tbody tr th {\n",
       "        vertical-align: top;\n",
       "    }\n",
       "</style>\n",
       "<table border=\"1\" class=\"dataframe\">\n",
       "  <thead>\n",
       "    <tr style=\"text-align: right;\">\n",
       "      <th></th>\n",
       "      <th>Participants No.</th>\n",
       "      <th>Task</th>\n",
       "      <th>Distance</th>\n",
       "      <th>Score</th>\n",
       "      <th>Trial</th>\n",
       "    </tr>\n",
       "  </thead>\n",
       "  <tbody>\n",
       "    <tr>\n",
       "      <th>0</th>\n",
       "      <td>1</td>\n",
       "      <td>T2</td>\n",
       "      <td>0.0</td>\n",
       "      <td>40</td>\n",
       "      <td>1</td>\n",
       "    </tr>\n",
       "    <tr>\n",
       "      <th>1</th>\n",
       "      <td>1</td>\n",
       "      <td>T2</td>\n",
       "      <td>0.0</td>\n",
       "      <td>40</td>\n",
       "      <td>2</td>\n",
       "    </tr>\n",
       "    <tr>\n",
       "      <th>2</th>\n",
       "      <td>1</td>\n",
       "      <td>T2</td>\n",
       "      <td>0.0</td>\n",
       "      <td>39</td>\n",
       "      <td>3</td>\n",
       "    </tr>\n",
       "    <tr>\n",
       "      <th>3</th>\n",
       "      <td>1</td>\n",
       "      <td>T2</td>\n",
       "      <td>0.0</td>\n",
       "      <td>40</td>\n",
       "      <td>4</td>\n",
       "    </tr>\n",
       "    <tr>\n",
       "      <th>4</th>\n",
       "      <td>1</td>\n",
       "      <td>T2</td>\n",
       "      <td>0.0</td>\n",
       "      <td>39</td>\n",
       "      <td>5</td>\n",
       "    </tr>\n",
       "  </tbody>\n",
       "</table>\n",
       "</div>"
      ],
      "text/plain": [
       "   Participants No. Task  Distance  Score  Trial\n",
       "0                 1   T2       0.0     40      1\n",
       "1                 1   T2       0.0     40      2\n",
       "2                 1   T2       0.0     39      3\n",
       "3                 1   T2       0.0     40      4\n",
       "4                 1   T2       0.0     39      5"
      ]
     },
     "execution_count": 66,
     "metadata": {},
     "output_type": "execute_result"
    }
   ],
   "source": [
    "T2_df.head()"
   ]
  },
  {
   "cell_type": "code",
   "execution_count": 67,
   "metadata": {},
   "outputs": [
    {
     "data": {
      "text/html": [
       "<div>\n",
       "<style>\n",
       "    .dataframe thead tr:only-child th {\n",
       "        text-align: right;\n",
       "    }\n",
       "\n",
       "    .dataframe thead th {\n",
       "        text-align: left;\n",
       "    }\n",
       "\n",
       "    .dataframe tbody tr th {\n",
       "        vertical-align: top;\n",
       "    }\n",
       "</style>\n",
       "<table border=\"1\" class=\"dataframe\">\n",
       "  <thead>\n",
       "    <tr style=\"text-align: right;\">\n",
       "      <th></th>\n",
       "      <th>Participants No.</th>\n",
       "      <th>Task</th>\n",
       "      <th>Distance</th>\n",
       "      <th>Score</th>\n",
       "      <th>Trial</th>\n",
       "    </tr>\n",
       "  </thead>\n",
       "  <tbody>\n",
       "    <tr>\n",
       "      <th>0</th>\n",
       "      <td>1</td>\n",
       "      <td>COM</td>\n",
       "      <td>7.200000</td>\n",
       "      <td>22</td>\n",
       "      <td>1</td>\n",
       "    </tr>\n",
       "    <tr>\n",
       "      <th>1</th>\n",
       "      <td>1</td>\n",
       "      <td>COM</td>\n",
       "      <td>7.888000</td>\n",
       "      <td>20</td>\n",
       "      <td>2</td>\n",
       "    </tr>\n",
       "    <tr>\n",
       "      <th>2</th>\n",
       "      <td>1</td>\n",
       "      <td>COM</td>\n",
       "      <td>7.332000</td>\n",
       "      <td>18</td>\n",
       "      <td>3</td>\n",
       "    </tr>\n",
       "    <tr>\n",
       "      <th>3</th>\n",
       "      <td>1</td>\n",
       "      <td>COM</td>\n",
       "      <td>6.320833</td>\n",
       "      <td>16</td>\n",
       "      <td>4</td>\n",
       "    </tr>\n",
       "    <tr>\n",
       "      <th>4</th>\n",
       "      <td>1</td>\n",
       "      <td>COM</td>\n",
       "      <td>7.856000</td>\n",
       "      <td>24</td>\n",
       "      <td>5</td>\n",
       "    </tr>\n",
       "  </tbody>\n",
       "</table>\n",
       "</div>"
      ],
      "text/plain": [
       "   Participants No. Task  Distance  Score  Trial\n",
       "0                 1  COM  7.200000     22      1\n",
       "1                 1  COM  7.888000     20      2\n",
       "2                 1  COM  7.332000     18      3\n",
       "3                 1  COM  6.320833     16      4\n",
       "4                 1  COM  7.856000     24      5"
      ]
     },
     "execution_count": 67,
     "metadata": {},
     "output_type": "execute_result"
    }
   ],
   "source": [
    "COM_df.head()"
   ]
  },
  {
   "cell_type": "markdown",
   "metadata": {},
   "source": [
    "### Visualization"
   ]
  },
  {
   "cell_type": "code",
   "execution_count": 83,
   "metadata": {},
   "outputs": [
    {
     "data": {
      "image/png": "[encoded data removed]",
      "text/plain": [
       "<matplotlib.figure.Figure at 0x206e5a4d0f0>"
      ]
     },
     "metadata": {},
     "output_type": "display_data"
    },
    {
     "data": {
      "image/png": "[encoded data removed]",
      "text/plain": [
       "<matplotlib.figure.Figure at 0x206e4706080>"
      ]
     },
     "metadata": {},
     "output_type": "display_data"
    }
   ],
   "source": [
    "distance_df = pd.concat([T1_df[['Task','Distance']], COM_df[['Task','Distance']]])\n",
    "score_df = pd.concat([T2_df[['Task', 'Score']], COM_df[['Task', 'Score']]])\n",
    "ax = sns.factorplot(x='Task', y='Distance', data=distance_df, kind='box')\n",
    "ax = sns.factorplot(x='Task', y='Score', data=score_df, kind='box')"
   ]
  },
  {
   "cell_type": "markdown",
   "metadata": {},
   "source": [
    "### T-Test"
   ]
  },
  {
   "cell_type": "code",
   "execution_count": 78,
   "metadata": {},
   "outputs": [
    {
     "name": "stdout",
     "output_type": "stream",
     "text": [
      "Distance Average, T1: 7.440\n",
      "Distance Average, COM: 7.176\n"
     ]
    }
   ],
   "source": [
    "print('Distance Average, T1: %.3f' % np.mean(T1_df['Distance']))\n",
    "print('Distance Average, COM: %.3f' % np.mean(COM_df['Distance']))"
   ]
  },
  {
   "cell_type": "code",
   "execution_count": 68,
   "metadata": {},
   "outputs": [
    {
     "name": "stdout",
     "output_type": "stream",
     "text": [
      "Distance, T1 var %.3f 2.830693220030602\n",
      "Distance, COM var %.3f 1.3200675038316725\n"
     ]
    }
   ],
   "source": [
    "print('Distance, T1 var %.3f', np.std(T1_df['Distance']))\n",
    "print('Distance, COM var %.3f', np.std(COM_df['Distance']))"
   ]
  },
  {
   "cell_type": "code",
   "execution_count": 69,
   "metadata": {},
   "outputs": [
    {
     "name": "stdout",
     "output_type": "stream",
     "text": [
      "The T-statistic and p-value between T1 and COM not assuming equal variances is 0.439 and 0.663\n"
     ]
    }
   ],
   "source": [
    "tTestResult = stats.ttest_ind(T1_df['Distance'], COM_df['Distance'], equal_var=False)\n",
    "print(\"The T-statistic and p-value between T1 and COM not assuming equal variances is %.3f and %.3f\" % tTestResult)"
   ]
  },
  {
   "cell_type": "code",
   "execution_count": 79,
   "metadata": {},
   "outputs": [
    {
     "name": "stdout",
     "output_type": "stream",
     "text": [
      "Score Average, T2: 39.433\n",
      "Score Average, COM: 22.464\n"
     ]
    }
   ],
   "source": [
    "print('Score Average, T2: %.3f' % np.mean(T2_df['Score']))\n",
    "print('Score Average, COM: %.3f' % np.mean(COM_df['Score']))"
   ]
  },
  {
   "cell_type": "code",
   "execution_count": 71,
   "metadata": {},
   "outputs": [
    {
     "name": "stdout",
     "output_type": "stream",
     "text": [
      "Score, T2 var %.3f 0.7608474807008885\n",
      "Score, COM var %.3f 5.447687208198296\n"
     ]
    }
   ],
   "source": [
    "print('Score, T2 var %.3f', np.std(T2_df['Score']))\n",
    "print('Score, COM var %.3f', np.std(COM_df['Score']))"
   ]
  },
  {
   "cell_type": "code",
   "execution_count": 72,
   "metadata": {},
   "outputs": [
    {
     "name": "stdout",
     "output_type": "stream",
     "text": [
      "The T-statistic and p-value between task T2 and COM not assuming equal variances is 16.041 and 0.000\n"
     ]
    }
   ],
   "source": [
    "tTestResult = stats.ttest_ind(T2_df['Score'], COM_df['Score'], equal_var=False)\n",
    "print(\"The T-statistic and p-value between task T2 and COM not assuming equal variances is %.3f and %.3f\" % tTestResult)"
   ]
  },
  {
   "cell_type": "markdown",
   "metadata": {},
   "source": [
    "### Cronbach's Alpha"
   ]
  },
  {
   "cell_type": "code",
   "execution_count": 15,
   "metadata": {
    "collapsed": true
   },
   "outputs": [],
   "source": [
    "def CronbachAlpha(items, rev=None):\n",
    "    df = items.copy(deep=True)\n",
    "    if rev is not None:\n",
    "        for pair in rev:\n",
    "            df[pair[0]] = df[pair[0]].apply(lambda x: pair[1] - x)\n",
    "    \n",
    "    itemvars = np.var(df, axis=0)\n",
    "    nitems = len(df)\n",
    "    slist = np.sum(df, axis=1)\n",
    "    sumvar = np.var(slist)\n",
    "    varsum = np.sum(itemvars)\n",
    "\n",
    "    Calpha = ((nitems)/(nitems-1.)) * (1-(varsum/sumvar))\n",
    "    \n",
    "    return Calpha"
   ]
  },
  {
   "cell_type": "code",
   "execution_count": 16,
   "metadata": {
    "collapsed": true
   },
   "outputs": [],
   "source": [
    "def ingest(file):\n",
    "    df = pd.read_csv(file).dropna(axis=1)\n",
    "    vreq_df = df.filter(regex=(\"VREQ*\"))\n",
    "    spes_df = df.filter(regex=(\"SPES*\"))\n",
    "    tlx_df = df.filter(regex=(\"TLX*\"))\n",
    "    \n",
    "    return [vreq_df, spes_df, tlx_df]"
   ]
  },
  {
   "cell_type": "code",
   "execution_count": 17,
   "metadata": {},
   "outputs": [],
   "source": [
    "t1 = ingest('./data/T1.csv')\n",
    "t2 = ingest('./data/T2.csv')\n",
    "com = ingest('./data/combined.csv')"
   ]
  },
  {
   "cell_type": "code",
   "execution_count": 29,
   "metadata": {
    "collapsed": true
   },
   "outputs": [],
   "source": [
    "t1_with_sum = deepcopy(t1)\n",
    "t2_with_sum = deepcopy(t2)\n",
    "com_with_sum = deepcopy(com)"
   ]
  },
  {
   "cell_type": "code",
   "execution_count": 30,
   "metadata": {},
   "outputs": [],
   "source": [
    "t1[0], t2[0], com[0] = t1[0].drop('VREQSUM', axis=1), t2[0].drop('VREQSUM', axis=1), com[0].drop('VREQSUM', axis=1)\n",
    "t1[1], t2[1], com[1] = t1[1].drop('SPESSUM', axis=1), t2[1].drop('SPESSUM', axis=1), com[1].drop('SPESSUM', axis=1)\n",
    "t1[2], t2[2], com[2] = t1[2].drop('TLX-SUM', axis=1), com[2].drop('TLX-SUM', axis=1), com[2].drop('TLX-SUM', axis=1),"
   ]
  },
  {
   "cell_type": "code",
   "execution_count": 32,
   "metadata": {},
   "outputs": [
    {
     "data": {
      "text/html": [
       "<table>\n",
       "<tbody>\n",
       "<tr><td>   </td><td>VREQ </td><td>SPES  </td><td>TLX  </td></tr>\n",
       "<tr><td>T1 </td><td>0.692</td><td>0.383 </td><td>0.582</td></tr>\n",
       "<tr><td>T2 </td><td>0.841</td><td>0.757 </td><td>0.59 </td></tr>\n",
       "<tr><td>T3 </td><td>0.791</td><td>-0.018</td><td>0.59 </td></tr>\n",
       "<tr><td>ALL</td><td>0.627</td><td>0.663 </td><td>0.698</td></tr>\n",
       "</tbody>\n",
       "</table>"
      ],
      "text/plain": [
       "<IPython.core.display.HTML object>"
      ]
     },
     "metadata": {},
     "output_type": "display_data"
    }
   ],
   "source": [
    "table = [['', 'VREQ', 'SPES', 'TLX'],\n",
    "         ['T1', round(CronbachAlpha(t1[0], [['VREQ9', 6]]), 3), round(CronbachAlpha(t1[1]), 3), round(CronbachAlpha(t1[2], [['TLX-Perf', 8]]), 3)],\n",
    "         ['T2', round(CronbachAlpha(t2[0], [['VREQ9', 6]]), 3), round(CronbachAlpha(t2[1]), 3), round(CronbachAlpha(t2[2], [['TLX-Perf', 8]]), 3)],\n",
    "         ['T3', round(CronbachAlpha(com[0], [['VREQ9', 6]]), 3), round(CronbachAlpha(com[1]), 3), round(CronbachAlpha(com[2], [['TLX-Perf', 8]]), 3)],\n",
    "         ['ALL', round(CronbachAlpha(pd.concat([t1[0], t2[0], com[0]], axis=0), [['VREQ9', 6]]), 3), round(CronbachAlpha(pd.concat([t1[1], t2[1], com[1]], axis=0)), 3), round(CronbachAlpha(pd.concat([t1[2], t2[2], com[2]], axis=0), [['TLX-Perf', 8]]), 3)]]\n",
    "\n",
    "display(HTML(tabulate.tabulate(table, tablefmt='html')))"
   ]
  },
  {
   "cell_type": "markdown",
   "metadata": {},
   "source": [
    "### Visualization"
   ]
  },
  {
   "cell_type": "code",
   "execution_count": 33,
   "metadata": {
    "collapsed": true
   },
   "outputs": [],
   "source": [
    "def concatenate(l, label):\n",
    "    assert(len(l) == len(label))\n",
    "    li = []\n",
    "    for i in range(len(l)):\n",
    "        temp = l[i].copy(deep=True)\n",
    "        temp['Task'] = pd.Series([label[i]] * len(temp))\n",
    "        li.append(temp)\n",
    "        \n",
    "    return pd.concat(li)"
   ]
  },
  {
   "cell_type": "code",
   "execution_count": 34,
   "metadata": {
    "collapsed": true
   },
   "outputs": [],
   "source": [
    "label = ['T1', 'T2', 'COM']\n",
    "vreq_df = concatenate([t1_with_sum[0], t2_with_sum[0], com_with_sum[0]], label)\n",
    "spes_df = concatenate([t1_with_sum[1], t2_with_sum[1], com_with_sum[1]], label)\n",
    "tlx_df = concatenate([t1_with_sum[2], t2_with_sum[2], com_with_sum[2]], label)"
   ]
  },
  {
   "cell_type": "code",
   "execution_count": 73,
   "metadata": {},
   "outputs": [
    {
     "data": {
      "text/html": [
       "<div>\n",
       "<style>\n",
       "    .dataframe thead tr:only-child th {\n",
       "        text-align: right;\n",
       "    }\n",
       "\n",
       "    .dataframe thead th {\n",
       "        text-align: left;\n",
       "    }\n",
       "\n",
       "    .dataframe tbody tr th {\n",
       "        vertical-align: top;\n",
       "    }\n",
       "</style>\n",
       "<table border=\"1\" class=\"dataframe\">\n",
       "  <thead>\n",
       "    <tr style=\"text-align: right;\">\n",
       "      <th></th>\n",
       "      <th>VREQ1</th>\n",
       "      <th>VREQ5</th>\n",
       "      <th>VREQ6</th>\n",
       "      <th>VREQ7</th>\n",
       "      <th>VREQ8</th>\n",
       "      <th>VREQ9</th>\n",
       "      <th>VREQ10</th>\n",
       "      <th>VREQSUM</th>\n",
       "      <th>Task</th>\n",
       "    </tr>\n",
       "  </thead>\n",
       "  <tbody>\n",
       "    <tr>\n",
       "      <th>0</th>\n",
       "      <td>3</td>\n",
       "      <td>5</td>\n",
       "      <td>4</td>\n",
       "      <td>4</td>\n",
       "      <td>5</td>\n",
       "      <td>4</td>\n",
       "      <td>3</td>\n",
       "      <td>3.71</td>\n",
       "      <td>T1</td>\n",
       "    </tr>\n",
       "    <tr>\n",
       "      <th>1</th>\n",
       "      <td>4</td>\n",
       "      <td>5</td>\n",
       "      <td>4</td>\n",
       "      <td>3</td>\n",
       "      <td>5</td>\n",
       "      <td>2</td>\n",
       "      <td>3</td>\n",
       "      <td>4.00</td>\n",
       "      <td>T1</td>\n",
       "    </tr>\n",
       "    <tr>\n",
       "      <th>2</th>\n",
       "      <td>4</td>\n",
       "      <td>4</td>\n",
       "      <td>3</td>\n",
       "      <td>2</td>\n",
       "      <td>4</td>\n",
       "      <td>4</td>\n",
       "      <td>3</td>\n",
       "      <td>3.14</td>\n",
       "      <td>T1</td>\n",
       "    </tr>\n",
       "    <tr>\n",
       "      <th>3</th>\n",
       "      <td>3</td>\n",
       "      <td>4</td>\n",
       "      <td>4</td>\n",
       "      <td>3</td>\n",
       "      <td>5</td>\n",
       "      <td>4</td>\n",
       "      <td>3</td>\n",
       "      <td>3.43</td>\n",
       "      <td>T1</td>\n",
       "    </tr>\n",
       "    <tr>\n",
       "      <th>4</th>\n",
       "      <td>4</td>\n",
       "      <td>5</td>\n",
       "      <td>5</td>\n",
       "      <td>5</td>\n",
       "      <td>4</td>\n",
       "      <td>2</td>\n",
       "      <td>4</td>\n",
       "      <td>4.43</td>\n",
       "      <td>T1</td>\n",
       "    </tr>\n",
       "    <tr>\n",
       "      <th>5</th>\n",
       "      <td>4</td>\n",
       "      <td>5</td>\n",
       "      <td>4</td>\n",
       "      <td>4</td>\n",
       "      <td>4</td>\n",
       "      <td>2</td>\n",
       "      <td>3</td>\n",
       "      <td>4.00</td>\n",
       "      <td>T1</td>\n",
       "    </tr>\n",
       "    <tr>\n",
       "      <th>6</th>\n",
       "      <td>4</td>\n",
       "      <td>4</td>\n",
       "      <td>4</td>\n",
       "      <td>4</td>\n",
       "      <td>5</td>\n",
       "      <td>2</td>\n",
       "      <td>3</td>\n",
       "      <td>4.00</td>\n",
       "      <td>T1</td>\n",
       "    </tr>\n",
       "    <tr>\n",
       "      <th>7</th>\n",
       "      <td>4</td>\n",
       "      <td>5</td>\n",
       "      <td>4</td>\n",
       "      <td>4</td>\n",
       "      <td>4</td>\n",
       "      <td>3</td>\n",
       "      <td>4</td>\n",
       "      <td>4.00</td>\n",
       "      <td>T1</td>\n",
       "    </tr>\n",
       "    <tr>\n",
       "      <th>0</th>\n",
       "      <td>5</td>\n",
       "      <td>5</td>\n",
       "      <td>5</td>\n",
       "      <td>5</td>\n",
       "      <td>2</td>\n",
       "      <td>1</td>\n",
       "      <td>5</td>\n",
       "      <td>4.57</td>\n",
       "      <td>T2</td>\n",
       "    </tr>\n",
       "    <tr>\n",
       "      <th>1</th>\n",
       "      <td>2</td>\n",
       "      <td>3</td>\n",
       "      <td>3</td>\n",
       "      <td>1</td>\n",
       "      <td>1</td>\n",
       "      <td>1</td>\n",
       "      <td>3</td>\n",
       "      <td>2.57</td>\n",
       "      <td>T2</td>\n",
       "    </tr>\n",
       "    <tr>\n",
       "      <th>2</th>\n",
       "      <td>5</td>\n",
       "      <td>5</td>\n",
       "      <td>5</td>\n",
       "      <td>5</td>\n",
       "      <td>3</td>\n",
       "      <td>2</td>\n",
       "      <td>4</td>\n",
       "      <td>4.43</td>\n",
       "      <td>T2</td>\n",
       "    </tr>\n",
       "    <tr>\n",
       "      <th>3</th>\n",
       "      <td>5</td>\n",
       "      <td>5</td>\n",
       "      <td>5</td>\n",
       "      <td>5</td>\n",
       "      <td>4</td>\n",
       "      <td>2</td>\n",
       "      <td>4</td>\n",
       "      <td>4.57</td>\n",
       "      <td>T2</td>\n",
       "    </tr>\n",
       "    <tr>\n",
       "      <th>4</th>\n",
       "      <td>5</td>\n",
       "      <td>4</td>\n",
       "      <td>4</td>\n",
       "      <td>5</td>\n",
       "      <td>5</td>\n",
       "      <td>1</td>\n",
       "      <td>4</td>\n",
       "      <td>4.57</td>\n",
       "      <td>T2</td>\n",
       "    </tr>\n",
       "    <tr>\n",
       "      <th>5</th>\n",
       "      <td>3</td>\n",
       "      <td>2</td>\n",
       "      <td>3</td>\n",
       "      <td>2</td>\n",
       "      <td>2</td>\n",
       "      <td>1</td>\n",
       "      <td>3</td>\n",
       "      <td>2.86</td>\n",
       "      <td>T2</td>\n",
       "    </tr>\n",
       "    <tr>\n",
       "      <th>6</th>\n",
       "      <td>4</td>\n",
       "      <td>4</td>\n",
       "      <td>4</td>\n",
       "      <td>4</td>\n",
       "      <td>2</td>\n",
       "      <td>1</td>\n",
       "      <td>4</td>\n",
       "      <td>3.86</td>\n",
       "      <td>T2</td>\n",
       "    </tr>\n",
       "    <tr>\n",
       "      <th>7</th>\n",
       "      <td>4</td>\n",
       "      <td>5</td>\n",
       "      <td>4</td>\n",
       "      <td>3</td>\n",
       "      <td>2</td>\n",
       "      <td>1</td>\n",
       "      <td>2</td>\n",
       "      <td>3.57</td>\n",
       "      <td>T2</td>\n",
       "    </tr>\n",
       "    <tr>\n",
       "      <th>0</th>\n",
       "      <td>3</td>\n",
       "      <td>5</td>\n",
       "      <td>5</td>\n",
       "      <td>4</td>\n",
       "      <td>5</td>\n",
       "      <td>3</td>\n",
       "      <td>4</td>\n",
       "      <td>4.14</td>\n",
       "      <td>COM</td>\n",
       "    </tr>\n",
       "    <tr>\n",
       "      <th>1</th>\n",
       "      <td>2</td>\n",
       "      <td>4</td>\n",
       "      <td>2</td>\n",
       "      <td>3</td>\n",
       "      <td>3</td>\n",
       "      <td>5</td>\n",
       "      <td>3</td>\n",
       "      <td>2.57</td>\n",
       "      <td>COM</td>\n",
       "    </tr>\n",
       "    <tr>\n",
       "      <th>2</th>\n",
       "      <td>4</td>\n",
       "      <td>4</td>\n",
       "      <td>4</td>\n",
       "      <td>3</td>\n",
       "      <td>4</td>\n",
       "      <td>5</td>\n",
       "      <td>4</td>\n",
       "      <td>3.43</td>\n",
       "      <td>COM</td>\n",
       "    </tr>\n",
       "    <tr>\n",
       "      <th>3</th>\n",
       "      <td>4</td>\n",
       "      <td>4</td>\n",
       "      <td>4</td>\n",
       "      <td>3</td>\n",
       "      <td>4</td>\n",
       "      <td>2</td>\n",
       "      <td>3</td>\n",
       "      <td>3.71</td>\n",
       "      <td>COM</td>\n",
       "    </tr>\n",
       "    <tr>\n",
       "      <th>4</th>\n",
       "      <td>3</td>\n",
       "      <td>4</td>\n",
       "      <td>4</td>\n",
       "      <td>3</td>\n",
       "      <td>4</td>\n",
       "      <td>5</td>\n",
       "      <td>2</td>\n",
       "      <td>3.00</td>\n",
       "      <td>COM</td>\n",
       "    </tr>\n",
       "    <tr>\n",
       "      <th>5</th>\n",
       "      <td>4</td>\n",
       "      <td>5</td>\n",
       "      <td>4</td>\n",
       "      <td>5</td>\n",
       "      <td>4</td>\n",
       "      <td>4</td>\n",
       "      <td>3</td>\n",
       "      <td>3.86</td>\n",
       "      <td>COM</td>\n",
       "    </tr>\n",
       "    <tr>\n",
       "      <th>6</th>\n",
       "      <td>3</td>\n",
       "      <td>5</td>\n",
       "      <td>5</td>\n",
       "      <td>4</td>\n",
       "      <td>5</td>\n",
       "      <td>3</td>\n",
       "      <td>4</td>\n",
       "      <td>4.14</td>\n",
       "      <td>COM</td>\n",
       "    </tr>\n",
       "    <tr>\n",
       "      <th>7</th>\n",
       "      <td>4</td>\n",
       "      <td>4</td>\n",
       "      <td>4</td>\n",
       "      <td>5</td>\n",
       "      <td>4</td>\n",
       "      <td>4</td>\n",
       "      <td>4</td>\n",
       "      <td>3.86</td>\n",
       "      <td>COM</td>\n",
       "    </tr>\n",
       "  </tbody>\n",
       "</table>\n",
       "</div>"
      ],
      "text/plain": [
       "   VREQ1  VREQ5  VREQ6  VREQ7  VREQ8  VREQ9  VREQ10  VREQSUM Task\n",
       "0      3      5      4      4      5      4       3     3.71   T1\n",
       "1      4      5      4      3      5      2       3     4.00   T1\n",
       "2      4      4      3      2      4      4       3     3.14   T1\n",
       "3      3      4      4      3      5      4       3     3.43   T1\n",
       "4      4      5      5      5      4      2       4     4.43   T1\n",
       "5      4      5      4      4      4      2       3     4.00   T1\n",
       "6      4      4      4      4      5      2       3     4.00   T1\n",
       "7      4      5      4      4      4      3       4     4.00   T1\n",
       "0      5      5      5      5      2      1       5     4.57   T2\n",
       "1      2      3      3      1      1      1       3     2.57   T2\n",
       "2      5      5      5      5      3      2       4     4.43   T2\n",
       "3      5      5      5      5      4      2       4     4.57   T2\n",
       "4      5      4      4      5      5      1       4     4.57   T2\n",
       "5      3      2      3      2      2      1       3     2.86   T2\n",
       "6      4      4      4      4      2      1       4     3.86   T2\n",
       "7      4      5      4      3      2      1       2     3.57   T2\n",
       "0      3      5      5      4      5      3       4     4.14  COM\n",
       "1      2      4      2      3      3      5       3     2.57  COM\n",
       "2      4      4      4      3      4      5       4     3.43  COM\n",
       "3      4      4      4      3      4      2       3     3.71  COM\n",
       "4      3      4      4      3      4      5       2     3.00  COM\n",
       "5      4      5      4      5      4      4       3     3.86  COM\n",
       "6      3      5      5      4      5      3       4     4.14  COM\n",
       "7      4      4      4      5      4      4       4     3.86  COM"
      ]
     },
     "execution_count": 73,
     "metadata": {},
     "output_type": "execute_result"
    }
   ],
   "source": [
    "vreq_df"
   ]
  },
  {
   "cell_type": "code",
   "execution_count": 35,
   "metadata": {},
   "outputs": [
    {
     "data": {
      "image/png": "[encoded data removed]",
      "text/plain": [
       "<matplotlib.figure.Figure at 0x206e4795940>"
      ]
     },
     "metadata": {},
     "output_type": "display_data"
    },
    {
     "data": {
      "image/png": "[encoded data removed]",
      "text/plain": [
       "<matplotlib.figure.Figure at 0x206e4e47550>"
      ]
     },
     "metadata": {},
     "output_type": "display_data"
    },
    {
     "data": {
      "image/png": "[encoded data removed]",
      "text/plain": [
       "<matplotlib.figure.Figure at 0x206e4fae6d8>"
      ]
     },
     "metadata": {},
     "output_type": "display_data"
    }
   ],
   "source": [
    "ax = sns.factorplot(x='items', y='value', col='Task', data=vreq_df.melt(id_vars=['Task'], var_name='items'), kind='box')\n",
    "ax = sns.factorplot(x='items', y='value', col='Task', data=spes_df.melt(id_vars=['Task'], var_name='items'), kind='box')\n",
    "ax = sns.factorplot(x='items', y='value', col='Task', data=tlx_df.melt(id_vars=['Task'], var_name='items'), kind='box')"
   ]
  },
  {
   "cell_type": "markdown",
   "metadata": {},
   "source": [
    "### ANOVA"
   ]
  },
  {
   "cell_type": "code",
   "execution_count": 38,
   "metadata": {
    "collapsed": true
   },
   "outputs": [],
   "source": [
    "def onewayAnova(df, columns, rev=None):\n",
    "    ret = []\n",
    "    temp = df.copy(deep=True)\n",
    "    if rev is not None:\n",
    "        for pair in rev:\n",
    "            temp[pair[0]] = df[pair[0]].apply(lambda x: pair[1] - x)\n",
    "            \n",
    "    for column in columns:\n",
    "        tmpSeries = temp[[column, 'Task']]\n",
    "        ret.append([column, stats.f_oneway(tmpSeries[tmpSeries['Task'] == 'T1'][column], \n",
    "                                           tmpSeries[tmpSeries['Task'] == 'T2'][column],\n",
    "                                           tmpSeries[tmpSeries['Task'] == 'COM'][column])])\n",
    "        \n",
    "    return ret\n",
    "        "
   ]
  },
  {
   "cell_type": "code",
   "execution_count": 39,
   "metadata": {
    "collapsed": true
   },
   "outputs": [],
   "source": [
    "vreq_columns = [x for x in vreq_df.columns if x is not 'Task']\n",
    "spes_columns = [x for x in spes_df.columns if x is not 'Task']\n",
    "tlx_columns = [x for x in tlx_df.columns if x is not 'Task']\n",
    "\n",
    "vreq_stats = onewayAnova(vreq_df, vreq_columns, [['VREQ9', 6]])\n",
    "spes_stats = onewayAnova(spes_df, spes_columns)\n",
    "tlx_stats = onewayAnova(tlx_df, tlx_columns, [['TLX-Perf', 8]])"
   ]
  },
  {
   "cell_type": "code",
   "execution_count": 40,
   "metadata": {
    "collapsed": true
   },
   "outputs": [],
   "source": [
    "def make_table_elem(stats):\n",
    "    li = []\n",
    "    for stat in stats:\n",
    "        li.append([stat[0], round(stat[1][0], 3), round(stat[1][1], 3)])\n",
    "        \n",
    "    return [['', 'F-value', 'p-value']] + li"
   ]
  },
  {
   "cell_type": "code",
   "execution_count": 41,
   "metadata": {},
   "outputs": [
    {
     "data": {
      "text/html": [
       "<table>\n",
       "<tbody>\n",
       "<tr><td>       </td><td>F-value</td><td>p-value</td></tr>\n",
       "<tr><td>VREQ1  </td><td>1.658  </td><td>0.215  </td></tr>\n",
       "<tr><td>VREQ5  </td><td>0.832  </td><td>0.449  </td></tr>\n",
       "<tr><td>VREQ6  </td><td>0.068  </td><td>0.935  </td></tr>\n",
       "<tr><td>VREQ7  </td><td>0.03   </td><td>0.97   </td></tr>\n",
       "<tr><td>VREQ8  </td><td>9.873  </td><td>0.001  </td></tr>\n",
       "<tr><td>VREQ9  </td><td>17.094 </td><td>0.0    </td></tr>\n",
       "<tr><td>VREQ10 </td><td>0.544  </td><td>0.588  </td></tr>\n",
       "<tr><td>VREQSUM</td><td>0.517  </td><td>0.603  </td></tr>\n",
       "</tbody>\n",
       "</table>"
      ],
      "text/plain": [
       "<IPython.core.display.HTML object>"
      ]
     },
     "metadata": {},
     "output_type": "display_data"
    }
   ],
   "source": [
    "display(HTML(tabulate.tabulate(make_table_elem(vreq_stats), tablefmt='html')))"
   ]
  },
  {
   "cell_type": "code",
   "execution_count": 42,
   "metadata": {},
   "outputs": [
    {
     "data": {
      "text/html": [
       "<table>\n",
       "<tbody>\n",
       "<tr><td>       </td><td>F-value</td><td>p-value</td></tr>\n",
       "<tr><td>SPES1  </td><td>3.267  </td><td>0.058  </td></tr>\n",
       "<tr><td>SPES2  </td><td>2.062  </td><td>0.152  </td></tr>\n",
       "<tr><td>SPES3  </td><td>11.275 </td><td>0.0    </td></tr>\n",
       "<tr><td>SPES4  </td><td>5.575  </td><td>0.011  </td></tr>\n",
       "<tr><td>SPESSUM</td><td>8.498  </td><td>0.002  </td></tr>\n",
       "</tbody>\n",
       "</table>"
      ],
      "text/plain": [
       "<IPython.core.display.HTML object>"
      ]
     },
     "metadata": {},
     "output_type": "display_data"
    }
   ],
   "source": [
    "display(HTML(tabulate.tabulate(make_table_elem(spes_stats), tablefmt='html')))"
   ]
  },
  {
   "cell_type": "code",
   "execution_count": 44,
   "metadata": {},
   "outputs": [
    {
     "data": {
      "text/html": [
       "<table>\n",
       "<tbody>\n",
       "<tr><td>               </td><td>F-value</td><td>p-value</td></tr>\n",
       "<tr><td>TLX-Mental     </td><td>24.366 </td><td>0.0    </td></tr>\n",
       "<tr><td>TLX-Physical   </td><td>51.741 </td><td>0.0    </td></tr>\n",
       "<tr><td>TLX-Perf       </td><td>15.008 </td><td>0.0    </td></tr>\n",
       "<tr><td>TLX-Effort     </td><td>22.663 </td><td>0.0    </td></tr>\n",
       "<tr><td>TLX-Frustration</td><td>27.696 </td><td>0.0    </td></tr>\n",
       "<tr><td>TLX-SUM        </td><td>74.31  </td><td>0.0    </td></tr>\n",
       "</tbody>\n",
       "</table>"
      ],
      "text/plain": [
       "<IPython.core.display.HTML object>"
      ]
     },
     "metadata": {},
     "output_type": "display_data"
    }
   ],
   "source": [
    "display(HTML(tabulate.tabulate(make_table_elem(tlx_stats), tablefmt='html')))"
   ]
  },
  {
   "cell_type": "markdown",
   "metadata": {},
   "source": [
    "### Post-Hoc(Tukey)"
   ]
  },
  {
   "cell_type": "code",
   "execution_count": 45,
   "metadata": {
    "collapsed": true
   },
   "outputs": [],
   "source": [
    "def post_hoc_tukey(df, columns, rev=None):\n",
    "    temp = df.copy(deep=True)\n",
    "    if rev is not None:\n",
    "        for pair in rev:\n",
    "            temp[pair[0]] = df[pair[0]].apply(lambda x: pair[1] - x)\n",
    "            \n",
    "    for column in columns:\n",
    "        res = pairwise_tukeyhsd(df[column], df['Task'])\n",
    "        print('Tukey post-hoc of %s' % column)\n",
    "        display(res.summary())   "
   ]
  },
  {
   "cell_type": "code",
   "execution_count": 46,
   "metadata": {
    "scrolled": false
   },
   "outputs": [
    {
     "name": "stdout",
     "output_type": "stream",
     "text": [
      "Tukey post-hoc of VREQ1\n"
     ]
    },
    {
     "data": {
      "text/html": [
       "<table class=\"simpletable\">\n",
       "<caption>Multiple Comparison of Means - Tukey HSD,FWER=0.05</caption>\n",
       "<tr>\n",
       "  <th>group1</th> <th>group2</th> <th>meandiff</th>  <th>lower</th>   <th>upper</th> <th>reject</th>\n",
       "</tr>\n",
       "<tr>\n",
       "    <td>COM</td>    <td>T1</td>     <td>0.375</td>  <td>-0.6629</td> <td>1.4129</td>  <td>False</td>\n",
       "</tr>\n",
       "<tr>\n",
       "    <td>COM</td>    <td>T2</td>     <td>0.75</td>   <td>-0.2879</td> <td>1.7879</td>  <td>False</td>\n",
       "</tr>\n",
       "<tr>\n",
       "    <td>T1</td>     <td>T2</td>     <td>0.375</td>  <td>-0.6629</td> <td>1.4129</td>  <td>False</td>\n",
       "</tr>\n",
       "</table>"
      ],
      "text/plain": [
       "<class 'statsmodels.iolib.table.SimpleTable'>"
      ]
     },
     "metadata": {},
     "output_type": "display_data"
    },
    {
     "name": "stdout",
     "output_type": "stream",
     "text": [
      "Tukey post-hoc of VREQ5\n"
     ]
    },
    {
     "data": {
      "text/html": [
       "<table class=\"simpletable\">\n",
       "<caption>Multiple Comparison of Means - Tukey HSD,FWER=0.05</caption>\n",
       "<tr>\n",
       "  <th>group1</th> <th>group2</th> <th>meandiff</th>  <th>lower</th>   <th>upper</th> <th>reject</th>\n",
       "</tr>\n",
       "<tr>\n",
       "    <td>COM</td>    <td>T1</td>     <td>0.25</td>   <td>-0.7269</td> <td>1.2269</td>  <td>False</td>\n",
       "</tr>\n",
       "<tr>\n",
       "    <td>COM</td>    <td>T2</td>     <td>-0.25</td>  <td>-1.2269</td> <td>0.7269</td>  <td>False</td>\n",
       "</tr>\n",
       "<tr>\n",
       "    <td>T1</td>     <td>T2</td>     <td>-0.5</td>   <td>-1.4769</td> <td>0.4769</td>  <td>False</td>\n",
       "</tr>\n",
       "</table>"
      ],
      "text/plain": [
       "<class 'statsmodels.iolib.table.SimpleTable'>"
      ]
     },
     "metadata": {},
     "output_type": "display_data"
    },
    {
     "name": "stdout",
     "output_type": "stream",
     "text": [
      "Tukey post-hoc of VREQ6\n"
     ]
    },
    {
     "data": {
      "text/html": [
       "<table class=\"simpletable\">\n",
       "<caption>Multiple Comparison of Means - Tukey HSD,FWER=0.05</caption>\n",
       "<tr>\n",
       "  <th>group1</th> <th>group2</th> <th>meandiff</th>  <th>lower</th>   <th>upper</th> <th>reject</th>\n",
       "</tr>\n",
       "<tr>\n",
       "    <td>COM</td>    <td>T1</td>      <td>0.0</td>   <td>-0.9865</td> <td>0.9865</td>  <td>False</td>\n",
       "</tr>\n",
       "<tr>\n",
       "    <td>COM</td>    <td>T2</td>     <td>0.125</td>  <td>-0.8615</td> <td>1.1115</td>  <td>False</td>\n",
       "</tr>\n",
       "<tr>\n",
       "    <td>T1</td>     <td>T2</td>     <td>0.125</td>  <td>-0.8615</td> <td>1.1115</td>  <td>False</td>\n",
       "</tr>\n",
       "</table>"
      ],
      "text/plain": [
       "<class 'statsmodels.iolib.table.SimpleTable'>"
      ]
     },
     "metadata": {},
     "output_type": "display_data"
    },
    {
     "name": "stdout",
     "output_type": "stream",
     "text": [
      "Tukey post-hoc of VREQ7\n"
     ]
    },
    {
     "data": {
      "text/html": [
       "<table class=\"simpletable\">\n",
       "<caption>Multiple Comparison of Means - Tukey HSD,FWER=0.05</caption>\n",
       "<tr>\n",
       "  <th>group1</th> <th>group2</th> <th>meandiff</th>  <th>lower</th>   <th>upper</th> <th>reject</th>\n",
       "</tr>\n",
       "<tr>\n",
       "    <td>COM</td>    <td>T1</td>    <td>-0.125</td>  <td>-1.6024</td> <td>1.3524</td>  <td>False</td>\n",
       "</tr>\n",
       "<tr>\n",
       "    <td>COM</td>    <td>T2</td>      <td>0.0</td>   <td>-1.4774</td> <td>1.4774</td>  <td>False</td>\n",
       "</tr>\n",
       "<tr>\n",
       "    <td>T1</td>     <td>T2</td>     <td>0.125</td>  <td>-1.3524</td> <td>1.6024</td>  <td>False</td>\n",
       "</tr>\n",
       "</table>"
      ],
      "text/plain": [
       "<class 'statsmodels.iolib.table.SimpleTable'>"
      ]
     },
     "metadata": {},
     "output_type": "display_data"
    },
    {
     "name": "stdout",
     "output_type": "stream",
     "text": [
      "Tukey post-hoc of VREQ8\n"
     ]
    },
    {
     "data": {
      "text/html": [
       "<table class=\"simpletable\">\n",
       "<caption>Multiple Comparison of Means - Tukey HSD,FWER=0.05</caption>\n",
       "<tr>\n",
       "  <th>group1</th> <th>group2</th> <th>meandiff</th>  <th>lower</th>   <th>upper</th>  <th>reject</th>\n",
       "</tr>\n",
       "<tr>\n",
       "    <td>COM</td>    <td>T1</td>     <td>0.375</td>  <td>-0.7502</td> <td>1.5002</td>   <td>False</td>\n",
       "</tr>\n",
       "<tr>\n",
       "    <td>COM</td>    <td>T2</td>     <td>-1.5</td>   <td>-2.6252</td> <td>-0.3748</td>  <td>True</td> \n",
       "</tr>\n",
       "<tr>\n",
       "    <td>T1</td>     <td>T2</td>    <td>-1.875</td>  <td>-3.0002</td> <td>-0.7498</td>  <td>True</td> \n",
       "</tr>\n",
       "</table>"
      ],
      "text/plain": [
       "<class 'statsmodels.iolib.table.SimpleTable'>"
      ]
     },
     "metadata": {},
     "output_type": "display_data"
    },
    {
     "name": "stdout",
     "output_type": "stream",
     "text": [
      "Tukey post-hoc of VREQ9\n"
     ]
    },
    {
     "data": {
      "text/html": [
       "<table class=\"simpletable\">\n",
       "<caption>Multiple Comparison of Means - Tukey HSD,FWER=0.05</caption>\n",
       "<tr>\n",
       "  <th>group1</th> <th>group2</th> <th>meandiff</th>  <th>lower</th>   <th>upper</th>  <th>reject</th>\n",
       "</tr>\n",
       "<tr>\n",
       "    <td>COM</td>    <td>T1</td>     <td>-1.0</td>   <td>-2.1419</td> <td>0.1419</td>   <td>False</td>\n",
       "</tr>\n",
       "<tr>\n",
       "    <td>COM</td>    <td>T2</td>    <td>-2.625</td>  <td>-3.7669</td> <td>-1.4831</td>  <td>True</td> \n",
       "</tr>\n",
       "<tr>\n",
       "    <td>T1</td>     <td>T2</td>    <td>-1.625</td>  <td>-2.7669</td> <td>-0.4831</td>  <td>True</td> \n",
       "</tr>\n",
       "</table>"
      ],
      "text/plain": [
       "<class 'statsmodels.iolib.table.SimpleTable'>"
      ]
     },
     "metadata": {},
     "output_type": "display_data"
    },
    {
     "name": "stdout",
     "output_type": "stream",
     "text": [
      "Tukey post-hoc of VREQ10\n"
     ]
    },
    {
     "data": {
      "text/html": [
       "<table class=\"simpletable\">\n",
       "<caption>Multiple Comparison of Means - Tukey HSD,FWER=0.05</caption>\n",
       "<tr>\n",
       "  <th>group1</th> <th>group2</th> <th>meandiff</th>  <th>lower</th>   <th>upper</th> <th>reject</th>\n",
       "</tr>\n",
       "<tr>\n",
       "    <td>COM</td>    <td>T1</td>    <td>-0.125</td>  <td>-1.0472</td> <td>0.7972</td>  <td>False</td>\n",
       "</tr>\n",
       "<tr>\n",
       "    <td>COM</td>    <td>T2</td>     <td>0.25</td>   <td>-0.6722</td> <td>1.1722</td>  <td>False</td>\n",
       "</tr>\n",
       "<tr>\n",
       "    <td>T1</td>     <td>T2</td>     <td>0.375</td>  <td>-0.5472</td> <td>1.2972</td>  <td>False</td>\n",
       "</tr>\n",
       "</table>"
      ],
      "text/plain": [
       "<class 'statsmodels.iolib.table.SimpleTable'>"
      ]
     },
     "metadata": {},
     "output_type": "display_data"
    },
    {
     "name": "stdout",
     "output_type": "stream",
     "text": [
      "Tukey post-hoc of VREQSUM\n"
     ]
    },
    {
     "data": {
      "text/html": [
       "<table class=\"simpletable\">\n",
       "<caption>Multiple Comparison of Means - Tukey HSD,FWER=0.05</caption>\n",
       "<tr>\n",
       "  <th>group1</th> <th>group2</th> <th>meandiff</th>  <th>lower</th>   <th>upper</th> <th>reject</th>\n",
       "</tr>\n",
       "<tr>\n",
       "    <td>COM</td>    <td>T1</td>     <td>0.25</td>   <td>-0.5222</td> <td>1.0222</td>  <td>False</td>\n",
       "</tr>\n",
       "<tr>\n",
       "    <td>COM</td>    <td>T2</td>    <td>0.2863</td>  <td>-0.486</td>  <td>1.0585</td>  <td>False</td>\n",
       "</tr>\n",
       "<tr>\n",
       "    <td>T1</td>     <td>T2</td>    <td>0.0362</td>  <td>-0.736</td>  <td>0.8085</td>  <td>False</td>\n",
       "</tr>\n",
       "</table>"
      ],
      "text/plain": [
       "<class 'statsmodels.iolib.table.SimpleTable'>"
      ]
     },
     "metadata": {},
     "output_type": "display_data"
    }
   ],
   "source": [
    "post_hoc_tukey(vreq_df, vreq_columns, [['VREQ9', 6]])"
   ]
  },
  {
   "cell_type": "code",
   "execution_count": 47,
   "metadata": {},
   "outputs": [
    {
     "name": "stdout",
     "output_type": "stream",
     "text": [
      "Tukey post-hoc of SPES1\n"
     ]
    },
    {
     "data": {
      "text/html": [
       "<table class=\"simpletable\">\n",
       "<caption>Multiple Comparison of Means - Tukey HSD,FWER=0.05</caption>\n",
       "<tr>\n",
       "  <th>group1</th> <th>group2</th> <th>meandiff</th>  <th>lower</th>   <th>upper</th> <th>reject</th>\n",
       "</tr>\n",
       "<tr>\n",
       "    <td>COM</td>    <td>T1</td>    <td>-0.125</td>  <td>-1.4824</td> <td>1.2324</td>  <td>False</td>\n",
       "</tr>\n",
       "<tr>\n",
       "    <td>COM</td>    <td>T2</td>     <td>-1.25</td>  <td>-2.6074</td> <td>0.1074</td>  <td>False</td>\n",
       "</tr>\n",
       "<tr>\n",
       "    <td>T1</td>     <td>T2</td>    <td>-1.125</td>  <td>-2.4824</td> <td>0.2324</td>  <td>False</td>\n",
       "</tr>\n",
       "</table>"
      ],
      "text/plain": [
       "<class 'statsmodels.iolib.table.SimpleTable'>"
      ]
     },
     "metadata": {},
     "output_type": "display_data"
    },
    {
     "name": "stdout",
     "output_type": "stream",
     "text": [
      "Tukey post-hoc of SPES2\n"
     ]
    },
    {
     "data": {
      "text/html": [
       "<table class=\"simpletable\">\n",
       "<caption>Multiple Comparison of Means - Tukey HSD,FWER=0.05</caption>\n",
       "<tr>\n",
       "  <th>group1</th> <th>group2</th> <th>meandiff</th>  <th>lower</th>   <th>upper</th> <th>reject</th>\n",
       "</tr>\n",
       "<tr>\n",
       "    <td>COM</td>    <td>T1</td>     <td>0.125</td>  <td>-1.0495</td> <td>1.2995</td>  <td>False</td>\n",
       "</tr>\n",
       "<tr>\n",
       "    <td>COM</td>    <td>T2</td>     <td>-0.75</td>  <td>-1.9245</td> <td>0.4245</td>  <td>False</td>\n",
       "</tr>\n",
       "<tr>\n",
       "    <td>T1</td>     <td>T2</td>    <td>-0.875</td>  <td>-2.0495</td> <td>0.2995</td>  <td>False</td>\n",
       "</tr>\n",
       "</table>"
      ],
      "text/plain": [
       "<class 'statsmodels.iolib.table.SimpleTable'>"
      ]
     },
     "metadata": {},
     "output_type": "display_data"
    },
    {
     "name": "stdout",
     "output_type": "stream",
     "text": [
      "Tukey post-hoc of SPES3\n"
     ]
    },
    {
     "data": {
      "text/html": [
       "<table class=\"simpletable\">\n",
       "<caption>Multiple Comparison of Means - Tukey HSD,FWER=0.05</caption>\n",
       "<tr>\n",
       "  <th>group1</th> <th>group2</th> <th>meandiff</th>  <th>lower</th>   <th>upper</th>  <th>reject</th>\n",
       "</tr>\n",
       "<tr>\n",
       "    <td>COM</td>    <td>T1</td>    <td>-0.125</td>  <td>-1.2376</td> <td>0.9876</td>   <td>False</td>\n",
       "</tr>\n",
       "<tr>\n",
       "    <td>COM</td>    <td>T2</td>    <td>-1.875</td>  <td>-2.9876</td> <td>-0.7624</td>  <td>True</td> \n",
       "</tr>\n",
       "<tr>\n",
       "    <td>T1</td>     <td>T2</td>     <td>-1.75</td>  <td>-2.8626</td> <td>-0.6374</td>  <td>True</td> \n",
       "</tr>\n",
       "</table>"
      ],
      "text/plain": [
       "<class 'statsmodels.iolib.table.SimpleTable'>"
      ]
     },
     "metadata": {},
     "output_type": "display_data"
    },
    {
     "name": "stdout",
     "output_type": "stream",
     "text": [
      "Tukey post-hoc of SPES4\n"
     ]
    },
    {
     "data": {
      "text/html": [
       "<table class=\"simpletable\">\n",
       "<caption>Multiple Comparison of Means - Tukey HSD,FWER=0.05</caption>\n",
       "<tr>\n",
       "  <th>group1</th> <th>group2</th> <th>meandiff</th>  <th>lower</th>   <th>upper</th>  <th>reject</th>\n",
       "</tr>\n",
       "<tr>\n",
       "    <td>COM</td>    <td>T1</td>     <td>0.125</td>  <td>-1.1312</td> <td>1.3812</td>   <td>False</td>\n",
       "</tr>\n",
       "<tr>\n",
       "    <td>COM</td>    <td>T2</td>    <td>-1.375</td>  <td>-2.6312</td> <td>-0.1188</td>  <td>True</td> \n",
       "</tr>\n",
       "<tr>\n",
       "    <td>T1</td>     <td>T2</td>     <td>-1.5</td>   <td>-2.7562</td> <td>-0.2438</td>  <td>True</td> \n",
       "</tr>\n",
       "</table>"
      ],
      "text/plain": [
       "<class 'statsmodels.iolib.table.SimpleTable'>"
      ]
     },
     "metadata": {},
     "output_type": "display_data"
    },
    {
     "name": "stdout",
     "output_type": "stream",
     "text": [
      "Tukey post-hoc of SPESSUM\n"
     ]
    },
    {
     "data": {
      "text/html": [
       "<table class=\"simpletable\">\n",
       "<caption>Multiple Comparison of Means - Tukey HSD,FWER=0.05</caption>\n",
       "<tr>\n",
       "  <th>group1</th> <th>group2</th> <th>meandiff</th>  <th>lower</th>   <th>upper</th>  <th>reject</th>\n",
       "</tr>\n",
       "<tr>\n",
       "    <td>COM</td>    <td>T1</td>      <td>0.0</td>   <td>-0.9263</td> <td>0.9263</td>   <td>False</td>\n",
       "</tr>\n",
       "<tr>\n",
       "    <td>COM</td>    <td>T2</td>    <td>-1.3125</td> <td>-2.2388</td> <td>-0.3862</td>  <td>True</td> \n",
       "</tr>\n",
       "<tr>\n",
       "    <td>T1</td>     <td>T2</td>    <td>-1.3125</td> <td>-2.2388</td> <td>-0.3862</td>  <td>True</td> \n",
       "</tr>\n",
       "</table>"
      ],
      "text/plain": [
       "<class 'statsmodels.iolib.table.SimpleTable'>"
      ]
     },
     "metadata": {},
     "output_type": "display_data"
    }
   ],
   "source": [
    "post_hoc_tukey(spes_df, spes_columns)"
   ]
  },
  {
   "cell_type": "code",
   "execution_count": 48,
   "metadata": {},
   "outputs": [
    {
     "name": "stdout",
     "output_type": "stream",
     "text": [
      "Tukey post-hoc of TLX-Mental\n"
     ]
    },
    {
     "data": {
      "text/html": [
       "<table class=\"simpletable\">\n",
       "<caption>Multiple Comparison of Means - Tukey HSD,FWER=0.05</caption>\n",
       "<tr>\n",
       "  <th>group1</th> <th>group2</th> <th>meandiff</th>  <th>lower</th>  <th>upper</th> <th>reject</th>\n",
       "</tr>\n",
       "<tr>\n",
       "    <td>COM</td>    <td>T1</td>    <td>-2.125</td>   <td>-3.44</td>  <td>-0.81</td>  <td>True</td> \n",
       "</tr>\n",
       "<tr>\n",
       "    <td>COM</td>    <td>T2</td>    <td>-3.625</td>   <td>-4.94</td>  <td>-2.31</td>  <td>True</td> \n",
       "</tr>\n",
       "<tr>\n",
       "    <td>T1</td>     <td>T2</td>     <td>-1.5</td>   <td>-2.815</td> <td>-0.185</td>  <td>True</td> \n",
       "</tr>\n",
       "</table>"
      ],
      "text/plain": [
       "<class 'statsmodels.iolib.table.SimpleTable'>"
      ]
     },
     "metadata": {},
     "output_type": "display_data"
    },
    {
     "name": "stdout",
     "output_type": "stream",
     "text": [
      "Tukey post-hoc of TLX-Physical\n"
     ]
    },
    {
     "data": {
      "text/html": [
       "<table class=\"simpletable\">\n",
       "<caption>Multiple Comparison of Means - Tukey HSD,FWER=0.05</caption>\n",
       "<tr>\n",
       "  <th>group1</th> <th>group2</th> <th>meandiff</th>  <th>lower</th>   <th>upper</th>  <th>reject</th>\n",
       "</tr>\n",
       "<tr>\n",
       "    <td>COM</td>    <td>T1</td>    <td>-1.625</td>  <td>-2.7874</td> <td>-0.4626</td>  <td>True</td> \n",
       "</tr>\n",
       "<tr>\n",
       "    <td>COM</td>    <td>T2</td>    <td>-4.625</td>  <td>-5.7874</td> <td>-3.4626</td>  <td>True</td> \n",
       "</tr>\n",
       "<tr>\n",
       "    <td>T1</td>     <td>T2</td>     <td>-3.0</td>   <td>-4.1624</td> <td>-1.8376</td>  <td>True</td> \n",
       "</tr>\n",
       "</table>"
      ],
      "text/plain": [
       "<class 'statsmodels.iolib.table.SimpleTable'>"
      ]
     },
     "metadata": {},
     "output_type": "display_data"
    },
    {
     "name": "stdout",
     "output_type": "stream",
     "text": [
      "Tukey post-hoc of TLX-Perf\n"
     ]
    },
    {
     "data": {
      "text/html": [
       "<table class=\"simpletable\">\n",
       "<caption>Multiple Comparison of Means - Tukey HSD,FWER=0.05</caption>\n",
       "<tr>\n",
       "  <th>group1</th> <th>group2</th> <th>meandiff</th>  <th>lower</th>   <th>upper</th> <th>reject</th>\n",
       "</tr>\n",
       "<tr>\n",
       "    <td>COM</td>    <td>T1</td>      <td>0.5</td>   <td>-0.5868</td> <td>1.5868</td>  <td>False</td>\n",
       "</tr>\n",
       "<tr>\n",
       "    <td>COM</td>    <td>T2</td>     <td>2.25</td>   <td>1.1632</td>  <td>3.3368</td>  <td>True</td> \n",
       "</tr>\n",
       "<tr>\n",
       "    <td>T1</td>     <td>T2</td>     <td>1.75</td>   <td>0.6632</td>  <td>2.8368</td>  <td>True</td> \n",
       "</tr>\n",
       "</table>"
      ],
      "text/plain": [
       "<class 'statsmodels.iolib.table.SimpleTable'>"
      ]
     },
     "metadata": {},
     "output_type": "display_data"
    },
    {
     "name": "stdout",
     "output_type": "stream",
     "text": [
      "Tukey post-hoc of TLX-Effort\n"
     ]
    },
    {
     "data": {
      "text/html": [
       "<table class=\"simpletable\">\n",
       "<caption>Multiple Comparison of Means - Tukey HSD,FWER=0.05</caption>\n",
       "<tr>\n",
       "  <th>group1</th> <th>group2</th> <th>meandiff</th>  <th>lower</th>   <th>upper</th>  <th>reject</th>\n",
       "</tr>\n",
       "<tr>\n",
       "    <td>COM</td>    <td>T1</td>    <td>-1.875</td>  <td>-3.5671</td> <td>-0.1829</td>  <td>True</td> \n",
       "</tr>\n",
       "<tr>\n",
       "    <td>COM</td>    <td>T2</td>     <td>-4.5</td>   <td>-6.1921</td> <td>-2.8079</td>  <td>True</td> \n",
       "</tr>\n",
       "<tr>\n",
       "    <td>T1</td>     <td>T2</td>    <td>-2.625</td>  <td>-4.3171</td> <td>-0.9329</td>  <td>True</td> \n",
       "</tr>\n",
       "</table>"
      ],
      "text/plain": [
       "<class 'statsmodels.iolib.table.SimpleTable'>"
      ]
     },
     "metadata": {},
     "output_type": "display_data"
    },
    {
     "name": "stdout",
     "output_type": "stream",
     "text": [
      "Tukey post-hoc of TLX-Frustration\n"
     ]
    },
    {
     "data": {
      "text/html": [
       "<table class=\"simpletable\">\n",
       "<caption>Multiple Comparison of Means - Tukey HSD,FWER=0.05</caption>\n",
       "<tr>\n",
       "  <th>group1</th> <th>group2</th> <th>meandiff</th>  <th>lower</th>   <th>upper</th>  <th>reject</th>\n",
       "</tr>\n",
       "<tr>\n",
       "    <td>COM</td>    <td>T1</td>     <td>-1.5</td>   <td>-2.4324</td> <td>-0.5676</td>  <td>True</td> \n",
       "</tr>\n",
       "<tr>\n",
       "    <td>COM</td>    <td>T2</td>     <td>-2.75</td>  <td>-3.6824</td> <td>-1.8176</td>  <td>True</td> \n",
       "</tr>\n",
       "<tr>\n",
       "    <td>T1</td>     <td>T2</td>     <td>-1.25</td>  <td>-2.1824</td> <td>-0.3176</td>  <td>True</td> \n",
       "</tr>\n",
       "</table>"
      ],
      "text/plain": [
       "<class 'statsmodels.iolib.table.SimpleTable'>"
      ]
     },
     "metadata": {},
     "output_type": "display_data"
    },
    {
     "name": "stdout",
     "output_type": "stream",
     "text": [
      "Tukey post-hoc of TLX-SUM\n"
     ]
    },
    {
     "data": {
      "text/html": [
       "<table class=\"simpletable\">\n",
       "<caption>Multiple Comparison of Means - Tukey HSD,FWER=0.05</caption>\n",
       "<tr>\n",
       "  <th>group1</th> <th>group2</th> <th>meandiff</th>  <th>lower</th>   <th>upper</th>  <th>reject</th>\n",
       "</tr>\n",
       "<tr>\n",
       "    <td>COM</td>    <td>T1</td>    <td>-1.525</td>  <td>-2.2612</td> <td>-0.7888</td>  <td>True</td> \n",
       "</tr>\n",
       "<tr>\n",
       "    <td>COM</td>    <td>T2</td>     <td>-3.55</td>  <td>-4.2862</td> <td>-2.8138</td>  <td>True</td> \n",
       "</tr>\n",
       "<tr>\n",
       "    <td>T1</td>     <td>T2</td>    <td>-2.025</td>  <td>-2.7612</td> <td>-1.2888</td>  <td>True</td> \n",
       "</tr>\n",
       "</table>"
      ],
      "text/plain": [
       "<class 'statsmodels.iolib.table.SimpleTable'>"
      ]
     },
     "metadata": {},
     "output_type": "display_data"
    }
   ],
   "source": [
    "post_hoc_tukey(tlx_df, tlx_columns, [['TLX-Perf', 8]])"
   ]
  }
 ],
 "metadata": {
  "kernelspec": {
   "display_name": "Python 3",
   "language": "python",
   "name": "python3"
  },
  "language_info": {
   "codemirror_mode": {
    "name": "ipython",
    "version": 3
   },
   "file_extension": ".py",
   "mimetype": "text/x-python",
   "name": "python",
   "nbconvert_exporter": "python",
   "pygments_lexer": "ipython3",
   "version": "3.6.3"
  }
 },
 "nbformat": 4,
 "nbformat_minor": 2
}
