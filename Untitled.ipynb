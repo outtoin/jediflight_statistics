{
 "cells": [
  {
   "cell_type": "code",
   "execution_count": 1,
   "metadata": {},
   "outputs": [
    {
     "name": "stderr",
     "output_type": "stream",
     "text": [
      "c:\\program files\\python36\\lib\\site-packages\\statsmodels\\compat\\pandas.py:56: FutureWarning: The pandas.core.datetools module is deprecated and will be removed in a future version. Please use the pandas.tseries module instead.\n",
      "  from pandas.core import datetools\n"
     ]
    }
   ],
   "source": [
    "from scipy import stats\n",
    "import numpy as np\n",
    "import pandas as pd\n",
    "from statsmodels.stats.multicomp import pairwise_tukeyhsd, MultiComparison\n",
    "import statsmodels.api as sm\n",
    "import statsmodels.formula.api as smf\n",
    "import statsmodels.stats as ss\n",
    "\n",
    "from numpy.linalg import norm\n",
    "\n",
    "import matplotlib.pyplot as plt\n",
    "import seaborn as sns\n",
    "from IPython.display import HTML,display\n",
    "\n",
    "from ast import literal_eval as make_tuple\n",
    "\n",
    "from os import listdir\n",
    "from os.path import isfile, join, splitext, basename\n",
    "import csv\n",
    "import itertools\n",
    "import glob\n",
    "\n",
    "from util import csv_length\n",
    "\n",
    "%matplotlib inline"
   ]
  },
  {
   "cell_type": "code",
   "execution_count": 10,
   "metadata": {},
   "outputs": [],
   "source": [
    "data_path = './data/deviation/'\n",
    "flight_data_list = glob.glob(data_path + '*_t1.csv') + glob.glob(data_path + '*_com.csv')\n",
    "sword_data_list = glob.glob(data_path + '*_t2.csv')\n",
    "flight_num_list = [csv_length(data) for data in data_list]\n",
    "sword_num_list = [csv_length(data) for data in data_list]"
   ]
  },
  {
   "cell_type": "code",
   "execution_count": 12,
   "metadata": {},
   "outputs": [],
   "source": [
    "def ingest(data, nums):\n",
    "    tmp = pd.read_csv(data, names = [i for i in range(nums)])\n",
    "    tmp_sers = [tmp[i].dropna() for i in range(nums)]\n",
    "    \n",
    "    tmp_chkpoints = [ser[:ser[ser.str.contains('Score')].index[0]] for ser in tmp_sers]\n",
    "    tmp_datas = [ser[ser[ser.str.contains('Score')].index[0]+1:] for ser in tmp_sers]\n",
    "    return tmp_chkpoints, tmp_datas\n",
    "\n",
    "def make_arrays(sers):\n",
    "    ret = [ser.apply(lambda x: np.array(make_tuple(x))) for ser in sers]\n",
    "    return ret\n",
    "\n",
    "def refine(sers):\n",
    "    ret = [ser[(ser.apply(lambda x: x[2]) >= 0) & (ser.apply(lambda x: x[2]) <= 600)].reset_index(drop=True) for ser in sers]\n",
    "    return ret\n",
    "    \n",
    "\n",
    "def find_distance(chkpoint, data):\n",
    "    cur_chkpoint_idx = 0\n",
    "    prv_chkpoint = data[0]\n",
    "    cur_chkpoint = chkpoint[0]\n",
    "    \n",
    "    ser_list = []\n",
    "    \n",
    "    for point in data:\n",
    "        if point[2] > cur_chkpoint[2]:\n",
    "            cur_chkpoint_idx += 1\n",
    "            if cur_chkpoint_idx > (len(chkpoint) - 1):\n",
    "                break\n",
    "            prv_chkpoint = chkpoint[cur_chkpoint_idx-1]\n",
    "            cur_chkpoint = chkpoint[cur_chkpoint_idx]\n",
    "#             print('current point=%s, current prev=%s, current=%s' % (point, prv_chkpoint, cur_chkpoint))\n",
    "        d = norm(np.cross(cur_chkpoint - prv_chkpoint, prv_chkpoint - point)) / norm(cur_chkpoint - prv_chkpoint)\n",
    "        ser_list.append(d)\n",
    "        \n",
    "    return pd.Series(ser_list)"
   ]
  },
  {
   "cell_type": "code",
   "execution_count": 14,
   "metadata": {},
   "outputs": [],
   "source": [
    "def make_result(data, nums):\n",
    "    chkpoints, datas = ingest(data, nums)\n",
    "    chkpoints, datas = make_arrays(chkpoints), make_arrays(datas)\n",
    "    chkpoints, datas = refine(chkpoints), refine(datas)\n",
    "    \n",
    "    return chkpoints, datas"
   ]
  },
  {
   "cell_type": "code",
   "execution_count": 15,
   "metadata": {},
   "outputs": [],
   "source": [
    "chkpoints, datas = make_result(data_list[0], num_list[0])"
   ]
  },
  {
   "cell_type": "code",
   "execution_count": 17,
   "metadata": {},
   "outputs": [],
   "source": [
    "chkpoint = chkpoints[0]\n",
    "data = datas[0]"
   ]
  },
  {
   "cell_type": "code",
   "execution_count": 18,
   "metadata": {},
   "outputs": [
    {
     "data": {
      "text/plain": [
       "0       [1.077118, 29.93837, 20.28101]\n",
       "1      [-8.933282, 17.31274, 45.07358]\n",
       "2      [-2.503908, 32.30906, 71.42879]\n",
       "3       [4.209036, 32.38776, 101.0773]\n",
       "4      [-1.169865, 20.31773, 128.4961]\n",
       "5       [5.893079, 21.72965, 157.0845]\n",
       "6      [-2.923928, 20.00204, 184.5849]\n",
       "7     [0.03403418, 23.59526, 212.0337]\n",
       "8      [-1.029972, 29.90836, 240.3126]\n",
       "9       [-5.91219, 27.00027, 269.1185]\n",
       "10     [-0.215611, 22.72156, 297.9366]\n",
       "11      [1.089051, 22.89421, 326.7155]\n",
       "12      [-5.979287, 26.95875, 355.261]\n",
       "13     [-5.961556, 29.96189, 383.4167]\n",
       "14     [-1.443525, 22.35612, 410.7979]\n",
       "15      [6.936043, 29.57575, 439.0574]\n",
       "16      [4.643507, 28.25821, 469.5089]\n",
       "17    [-0.6907694, 32.99831, 499.2681]\n",
       "18    [-0.09654407, 32.5094, 529.4782]\n",
       "19     [-6.543324, 23.35515, 557.1818]\n",
       "20      [5.319754, 19.17508, 584.9834]\n",
       "Name: 0, dtype: object"
      ]
     },
     "execution_count": 18,
     "metadata": {},
     "output_type": "execute_result"
    }
   ],
   "source": [
    "chkpoint"
   ]
  },
  {
   "cell_type": "code",
   "execution_count": null,
   "metadata": {},
   "outputs": [],
   "source": [
    "cur_chkpoint_idx = 0\n",
    "prv_chkpoint = data[0]\n",
    "cur_chkpoint = chkpoint[0]\n",
    "\n",
    "ser_list = []\n",
    "\n",
    "tmp_list = []\n",
    "for point in data:\n",
    "    if point[2] > cur_chkpoint[2]:\n",
    "        cur_chkpoint_idx += 1\n",
    "        if cur_chkpoint_idx > (len(chkpoint) - 1):\n",
    "            break\n",
    "        prv_chkpoint = chkpoint[cur_chkpoint_idx-1]\n",
    "        cur_chkpoint = chkpoint[cur_chkpoint_idx]\n",
    "#             print('current point=%s, current prev=%s, current=%s' % (point, prv_chkpoint, cur_chkpoint))\n",
    "    d = norm(np.cross(cur_chkpoint - prv_chkpoint, prv_chkpoint - point)) / norm(cur_chkpoint - prv_chkpoint)\n",
    "    ser_list.append(d)"
   ]
  }
 ],
 "metadata": {
  "kernelspec": {
   "display_name": "Python 3",
   "language": "python",
   "name": "python3"
  },
  "language_info": {
   "codemirror_mode": {
    "name": "ipython",
    "version": 3
   },
   "file_extension": ".py",
   "mimetype": "text/x-python",
   "name": "python",
   "nbconvert_exporter": "python",
   "pygments_lexer": "ipython3",
   "version": "3.6.3"
  }
 },
 "nbformat": 4,
 "nbformat_minor": 2
}
